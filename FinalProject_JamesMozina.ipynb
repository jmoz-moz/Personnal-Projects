{
 "cells": [
  {
   "cell_type": "markdown",
   "metadata": {},
   "source": [
    "# CIS 380 FALL 2021 TERM PROJECT\n",
    "## Name: James Mozina\n",
    "## Date: 11/11/21\n"
   ]
  },
  {
   "cell_type": "markdown",
   "metadata": {},
   "source": [
    "# Project Descriptions\n",
    "This purpose of this project is to find out how these three major assignments would impact on student's weight total (performance); did it make any difference in terms of performance between CIS and NON-CIS students? How about gender?\n",
    "\n"
   ]
  },
  {
   "cell_type": "markdown",
   "metadata": {},
   "source": [
    "# Data Prep\n",
    "Refer to chapter 6 - Data Prep"
   ]
  },
  {
   "cell_type": "code",
   "execution_count": 2,
   "metadata": {},
   "outputs": [],
   "source": [
    "from IPython.core.interactiveshell import InteractiveShell\n",
    "InteractiveShell.ast_node_interactivity = \"all\""
   ]
  },
  {
   "cell_type": "code",
   "execution_count": 3,
   "metadata": {},
   "outputs": [],
   "source": [
    "# Step 1, read data file to create a dataframe named sd "
   ]
  },
  {
   "cell_type": "code",
   "execution_count": 4,
   "metadata": {},
   "outputs": [],
   "source": [
    "import pandas as pd\n",
    "sd = pd.read_csv('data/sd.csv')"
   ]
  },
  {
   "cell_type": "markdown",
   "metadata": {},
   "source": [
    "## Inspect the dataset;Look for any duplicates, null values, data type, column name"
   ]
  },
  {
   "cell_type": "code",
   "execution_count": 5,
   "metadata": {},
   "outputs": [
    {
     "data": {
      "text/html": [
       "<div>\n",
       "<style scoped>\n",
       "    .dataframe tbody tr th:only-of-type {\n",
       "        vertical-align: middle;\n",
       "    }\n",
       "\n",
       "    .dataframe tbody tr th {\n",
       "        vertical-align: top;\n",
       "    }\n",
       "\n",
       "    .dataframe thead th {\n",
       "        text-align: right;\n",
       "    }\n",
       "</style>\n",
       "<table border=\"1\" class=\"dataframe\">\n",
       "  <thead>\n",
       "    <tr style=\"text-align: right;\">\n",
       "      <th></th>\n",
       "      <th>ID</th>\n",
       "      <th>Gender</th>\n",
       "      <th>CIS</th>\n",
       "      <th>REQ</th>\n",
       "      <th>DFD</th>\n",
       "      <th>ERD</th>\n",
       "      <th>Weighted</th>\n",
       "    </tr>\n",
       "  </thead>\n",
       "  <tbody>\n",
       "    <tr>\n",
       "      <th>0</th>\n",
       "      <td>1</td>\n",
       "      <td>M</td>\n",
       "      <td>N</td>\n",
       "      <td>90.0</td>\n",
       "      <td>85.0</td>\n",
       "      <td>80.0</td>\n",
       "      <td>77.56%</td>\n",
       "    </tr>\n",
       "    <tr>\n",
       "      <th>1</th>\n",
       "      <td>2</td>\n",
       "      <td>M</td>\n",
       "      <td>Y</td>\n",
       "      <td>90.0</td>\n",
       "      <td>100.0</td>\n",
       "      <td>90.0</td>\n",
       "      <td>81.85%</td>\n",
       "    </tr>\n",
       "    <tr>\n",
       "      <th>2</th>\n",
       "      <td>3</td>\n",
       "      <td>M</td>\n",
       "      <td>Y</td>\n",
       "      <td>90.0</td>\n",
       "      <td>100.0</td>\n",
       "      <td>90.0</td>\n",
       "      <td>84.59%</td>\n",
       "    </tr>\n",
       "    <tr>\n",
       "      <th>3</th>\n",
       "      <td>4</td>\n",
       "      <td>F</td>\n",
       "      <td>Y</td>\n",
       "      <td>90.0</td>\n",
       "      <td>50.0</td>\n",
       "      <td>85.0</td>\n",
       "      <td>81.30%</td>\n",
       "    </tr>\n",
       "    <tr>\n",
       "      <th>4</th>\n",
       "      <td>5</td>\n",
       "      <td>F</td>\n",
       "      <td>Y</td>\n",
       "      <td>40.0</td>\n",
       "      <td>75.0</td>\n",
       "      <td>90.0</td>\n",
       "      <td>72.52%</td>\n",
       "    </tr>\n",
       "  </tbody>\n",
       "</table>\n",
       "</div>"
      ],
      "text/plain": [
       "   ID Gender CIS   REQ    DFD   ERD Weighted\n",
       "0   1      M   N  90.0   85.0  80.0   77.56%\n",
       "1   2      M   Y  90.0  100.0  90.0   81.85%\n",
       "2   3      M   Y  90.0  100.0  90.0   84.59%\n",
       "3   4      F   Y  90.0   50.0  85.0   81.30%\n",
       "4   5      F   Y  40.0   75.0  90.0   72.52%"
      ]
     },
     "execution_count": 5,
     "metadata": {},
     "output_type": "execute_result"
    },
    {
     "data": {
      "text/html": [
       "<div>\n",
       "<style scoped>\n",
       "    .dataframe tbody tr th:only-of-type {\n",
       "        vertical-align: middle;\n",
       "    }\n",
       "\n",
       "    .dataframe tbody tr th {\n",
       "        vertical-align: top;\n",
       "    }\n",
       "\n",
       "    .dataframe thead th {\n",
       "        text-align: right;\n",
       "    }\n",
       "</style>\n",
       "<table border=\"1\" class=\"dataframe\">\n",
       "  <thead>\n",
       "    <tr style=\"text-align: right;\">\n",
       "      <th></th>\n",
       "      <th>ID</th>\n",
       "      <th>Gender</th>\n",
       "      <th>CIS</th>\n",
       "      <th>REQ</th>\n",
       "      <th>DFD</th>\n",
       "      <th>ERD</th>\n",
       "      <th>Weighted</th>\n",
       "    </tr>\n",
       "  </thead>\n",
       "  <tbody>\n",
       "    <tr>\n",
       "      <th>95</th>\n",
       "      <td>96</td>\n",
       "      <td>M</td>\n",
       "      <td>Y</td>\n",
       "      <td>80.0</td>\n",
       "      <td>NaN</td>\n",
       "      <td>50.0</td>\n",
       "      <td>75.98%</td>\n",
       "    </tr>\n",
       "    <tr>\n",
       "      <th>96</th>\n",
       "      <td>97</td>\n",
       "      <td>M</td>\n",
       "      <td>Y</td>\n",
       "      <td>67.0</td>\n",
       "      <td>70.0</td>\n",
       "      <td>50.0</td>\n",
       "      <td>66.49%</td>\n",
       "    </tr>\n",
       "    <tr>\n",
       "      <th>97</th>\n",
       "      <td>98</td>\n",
       "      <td>M</td>\n",
       "      <td>Y</td>\n",
       "      <td>33.0</td>\n",
       "      <td>30.0</td>\n",
       "      <td>90.0</td>\n",
       "      <td>62.88%</td>\n",
       "    </tr>\n",
       "    <tr>\n",
       "      <th>98</th>\n",
       "      <td>99</td>\n",
       "      <td>M</td>\n",
       "      <td>Y</td>\n",
       "      <td>33.0</td>\n",
       "      <td>70.0</td>\n",
       "      <td>50.0</td>\n",
       "      <td>46.17%</td>\n",
       "    </tr>\n",
       "    <tr>\n",
       "      <th>99</th>\n",
       "      <td>100</td>\n",
       "      <td>M</td>\n",
       "      <td>N</td>\n",
       "      <td>73.0</td>\n",
       "      <td>NaN</td>\n",
       "      <td>90.0</td>\n",
       "      <td>58.71%</td>\n",
       "    </tr>\n",
       "  </tbody>\n",
       "</table>\n",
       "</div>"
      ],
      "text/plain": [
       "     ID Gender CIS   REQ   DFD   ERD Weighted\n",
       "95   96      M   Y  80.0   NaN  50.0   75.98%\n",
       "96   97      M   Y  67.0  70.0  50.0   66.49%\n",
       "97   98      M   Y  33.0  30.0  90.0   62.88%\n",
       "98   99      M   Y  33.0  70.0  50.0   46.17%\n",
       "99  100      M   N  73.0   NaN  90.0   58.71%"
      ]
     },
     "execution_count": 5,
     "metadata": {},
     "output_type": "execute_result"
    },
    {
     "data": {
      "text/plain": [
       "(100, 7)"
      ]
     },
     "execution_count": 5,
     "metadata": {},
     "output_type": "execute_result"
    },
    {
     "data": {
      "text/plain": [
       "ID            int64\n",
       "Gender       object\n",
       "CIS          object\n",
       "REQ         float64\n",
       "DFD         float64\n",
       "ERD         float64\n",
       "Weighted     object\n",
       "dtype: object"
      ]
     },
     "execution_count": 5,
     "metadata": {},
     "output_type": "execute_result"
    },
    {
     "data": {
      "text/plain": [
       "Index(['ID', 'Gender', 'CIS', 'REQ', 'DFD', 'ERD', 'Weighted'], dtype='object')"
      ]
     },
     "execution_count": 5,
     "metadata": {},
     "output_type": "execute_result"
    },
    {
     "name": "stdout",
     "output_type": "stream",
     "text": [
      "<class 'pandas.core.frame.DataFrame'>\n",
      "RangeIndex: 100 entries, 0 to 99\n",
      "Data columns (total 7 columns):\n",
      " #   Column    Non-Null Count  Dtype  \n",
      "---  ------    --------------  -----  \n",
      " 0   ID        100 non-null    int64  \n",
      " 1   Gender    100 non-null    object \n",
      " 2   CIS       100 non-null    object \n",
      " 3   REQ       94 non-null     float64\n",
      " 4   DFD       95 non-null     float64\n",
      " 5   ERD       89 non-null     float64\n",
      " 6   Weighted  100 non-null    object \n",
      "dtypes: float64(3), int64(1), object(3)\n",
      "memory usage: 5.6+ KB\n"
     ]
    },
    {
     "data": {
      "text/html": [
       "<div>\n",
       "<style scoped>\n",
       "    .dataframe tbody tr th:only-of-type {\n",
       "        vertical-align: middle;\n",
       "    }\n",
       "\n",
       "    .dataframe tbody tr th {\n",
       "        vertical-align: top;\n",
       "    }\n",
       "\n",
       "    .dataframe thead th {\n",
       "        text-align: right;\n",
       "    }\n",
       "</style>\n",
       "<table border=\"1\" class=\"dataframe\">\n",
       "  <thead>\n",
       "    <tr style=\"text-align: right;\">\n",
       "      <th></th>\n",
       "      <th>ID</th>\n",
       "      <th>Gender</th>\n",
       "      <th>CIS</th>\n",
       "      <th>REQ</th>\n",
       "      <th>DFD</th>\n",
       "      <th>ERD</th>\n",
       "      <th>Weighted</th>\n",
       "    </tr>\n",
       "  </thead>\n",
       "  <tbody>\n",
       "    <tr>\n",
       "      <th>0</th>\n",
       "      <td>1</td>\n",
       "      <td>M</td>\n",
       "      <td>N</td>\n",
       "      <td>90.0</td>\n",
       "      <td>85.0</td>\n",
       "      <td>80.0</td>\n",
       "      <td>77.56%</td>\n",
       "    </tr>\n",
       "    <tr>\n",
       "      <th>1</th>\n",
       "      <td>2</td>\n",
       "      <td>M</td>\n",
       "      <td>Y</td>\n",
       "      <td>90.0</td>\n",
       "      <td>100.0</td>\n",
       "      <td>90.0</td>\n",
       "      <td>81.85%</td>\n",
       "    </tr>\n",
       "    <tr>\n",
       "      <th>2</th>\n",
       "      <td>3</td>\n",
       "      <td>M</td>\n",
       "      <td>Y</td>\n",
       "      <td>90.0</td>\n",
       "      <td>100.0</td>\n",
       "      <td>90.0</td>\n",
       "      <td>84.59%</td>\n",
       "    </tr>\n",
       "    <tr>\n",
       "      <th>3</th>\n",
       "      <td>4</td>\n",
       "      <td>F</td>\n",
       "      <td>Y</td>\n",
       "      <td>90.0</td>\n",
       "      <td>50.0</td>\n",
       "      <td>85.0</td>\n",
       "      <td>81.30%</td>\n",
       "    </tr>\n",
       "    <tr>\n",
       "      <th>4</th>\n",
       "      <td>5</td>\n",
       "      <td>F</td>\n",
       "      <td>Y</td>\n",
       "      <td>40.0</td>\n",
       "      <td>75.0</td>\n",
       "      <td>90.0</td>\n",
       "      <td>72.52%</td>\n",
       "    </tr>\n",
       "    <tr>\n",
       "      <th>...</th>\n",
       "      <td>...</td>\n",
       "      <td>...</td>\n",
       "      <td>...</td>\n",
       "      <td>...</td>\n",
       "      <td>...</td>\n",
       "      <td>...</td>\n",
       "      <td>...</td>\n",
       "    </tr>\n",
       "    <tr>\n",
       "      <th>95</th>\n",
       "      <td>96</td>\n",
       "      <td>M</td>\n",
       "      <td>Y</td>\n",
       "      <td>80.0</td>\n",
       "      <td>NaN</td>\n",
       "      <td>50.0</td>\n",
       "      <td>75.98%</td>\n",
       "    </tr>\n",
       "    <tr>\n",
       "      <th>96</th>\n",
       "      <td>97</td>\n",
       "      <td>M</td>\n",
       "      <td>Y</td>\n",
       "      <td>67.0</td>\n",
       "      <td>70.0</td>\n",
       "      <td>50.0</td>\n",
       "      <td>66.49%</td>\n",
       "    </tr>\n",
       "    <tr>\n",
       "      <th>97</th>\n",
       "      <td>98</td>\n",
       "      <td>M</td>\n",
       "      <td>Y</td>\n",
       "      <td>33.0</td>\n",
       "      <td>30.0</td>\n",
       "      <td>90.0</td>\n",
       "      <td>62.88%</td>\n",
       "    </tr>\n",
       "    <tr>\n",
       "      <th>98</th>\n",
       "      <td>99</td>\n",
       "      <td>M</td>\n",
       "      <td>Y</td>\n",
       "      <td>33.0</td>\n",
       "      <td>70.0</td>\n",
       "      <td>50.0</td>\n",
       "      <td>46.17%</td>\n",
       "    </tr>\n",
       "    <tr>\n",
       "      <th>99</th>\n",
       "      <td>100</td>\n",
       "      <td>M</td>\n",
       "      <td>N</td>\n",
       "      <td>73.0</td>\n",
       "      <td>NaN</td>\n",
       "      <td>90.0</td>\n",
       "      <td>58.71%</td>\n",
       "    </tr>\n",
       "  </tbody>\n",
       "</table>\n",
       "<p>100 rows × 7 columns</p>\n",
       "</div>"
      ],
      "text/plain": [
       "     ID Gender CIS   REQ    DFD   ERD Weighted\n",
       "0     1      M   N  90.0   85.0  80.0   77.56%\n",
       "1     2      M   Y  90.0  100.0  90.0   81.85%\n",
       "2     3      M   Y  90.0  100.0  90.0   84.59%\n",
       "3     4      F   Y  90.0   50.0  85.0   81.30%\n",
       "4     5      F   Y  40.0   75.0  90.0   72.52%\n",
       "..  ...    ...  ..   ...    ...   ...      ...\n",
       "95   96      M   Y  80.0    NaN  50.0   75.98%\n",
       "96   97      M   Y  67.0   70.0  50.0   66.49%\n",
       "97   98      M   Y  33.0   30.0  90.0   62.88%\n",
       "98   99      M   Y  33.0   70.0  50.0   46.17%\n",
       "99  100      M   N  73.0    NaN  90.0   58.71%\n",
       "\n",
       "[100 rows x 7 columns]"
      ]
     },
     "execution_count": 5,
     "metadata": {},
     "output_type": "execute_result"
    }
   ],
   "source": [
    "sd.head() \n",
    "sd.tail()\n",
    "sd.shape\n",
    "sd.dtypes\n",
    "sd.columns\n",
    "sd.info()\n",
    "sd"
   ]
  },
  {
   "cell_type": "markdown",
   "metadata": {},
   "source": [
    "## step 2 : verify columns, modify from upper to lower case and abbreviated"
   ]
  },
  {
   "cell_type": "code",
   "execution_count": 6,
   "metadata": {},
   "outputs": [],
   "source": [
    "\n",
    "sd.columns = ['id','gender','cis','req','dfd','erd','wght']\n"
   ]
  },
  {
   "cell_type": "markdown",
   "metadata": {},
   "source": [
    "# step 2.1 : change data type, look at the wght column (percent to float?)"
   ]
  },
  {
   "cell_type": "code",
   "execution_count": 7,
   "metadata": {},
   "outputs": [
    {
     "data": {
      "text/plain": [
       "id          int64\n",
       "gender     object\n",
       "cis        object\n",
       "req       float64\n",
       "dfd       float64\n",
       "erd       float64\n",
       "wght       object\n",
       "dtype: object"
      ]
     },
     "execution_count": 7,
     "metadata": {},
     "output_type": "execute_result"
    }
   ],
   "source": [
    "# convert string(object) to category; gender and cis.\n",
    "\n",
    "sd.dtypes\n",
    "sd.gender= sd.gender.astype('category')\n",
    "sd.cis = sd.cis.astype('category')"
   ]
  },
  {
   "cell_type": "markdown",
   "metadata": {},
   "source": [
    "# wght column; percent to float"
   ]
  },
  {
   "cell_type": "code",
   "execution_count": 8,
   "metadata": {},
   "outputs": [],
   "source": [
    "# strip the percentage symbol and convert to float value\n",
    "sd.wght=sd.wght.str.strip('%')\n"
   ]
  },
  {
   "cell_type": "code",
   "execution_count": 9,
   "metadata": {},
   "outputs": [],
   "source": [
    "sd.wght=sd.wght.astype('float')\n"
   ]
  },
  {
   "cell_type": "code",
   "execution_count": 10,
   "metadata": {},
   "outputs": [
    {
     "data": {
      "text/html": [
       "<div>\n",
       "<style scoped>\n",
       "    .dataframe tbody tr th:only-of-type {\n",
       "        vertical-align: middle;\n",
       "    }\n",
       "\n",
       "    .dataframe tbody tr th {\n",
       "        vertical-align: top;\n",
       "    }\n",
       "\n",
       "    .dataframe thead th {\n",
       "        text-align: right;\n",
       "    }\n",
       "</style>\n",
       "<table border=\"1\" class=\"dataframe\">\n",
       "  <thead>\n",
       "    <tr style=\"text-align: right;\">\n",
       "      <th></th>\n",
       "      <th>id</th>\n",
       "      <th>gender</th>\n",
       "      <th>cis</th>\n",
       "      <th>req</th>\n",
       "      <th>dfd</th>\n",
       "      <th>erd</th>\n",
       "      <th>wght</th>\n",
       "    </tr>\n",
       "  </thead>\n",
       "  <tbody>\n",
       "    <tr>\n",
       "      <th>0</th>\n",
       "      <td>1</td>\n",
       "      <td>M</td>\n",
       "      <td>N</td>\n",
       "      <td>90.0</td>\n",
       "      <td>85.0</td>\n",
       "      <td>80.0</td>\n",
       "      <td>77.56</td>\n",
       "    </tr>\n",
       "    <tr>\n",
       "      <th>1</th>\n",
       "      <td>2</td>\n",
       "      <td>M</td>\n",
       "      <td>Y</td>\n",
       "      <td>90.0</td>\n",
       "      <td>100.0</td>\n",
       "      <td>90.0</td>\n",
       "      <td>81.85</td>\n",
       "    </tr>\n",
       "    <tr>\n",
       "      <th>2</th>\n",
       "      <td>3</td>\n",
       "      <td>M</td>\n",
       "      <td>Y</td>\n",
       "      <td>90.0</td>\n",
       "      <td>100.0</td>\n",
       "      <td>90.0</td>\n",
       "      <td>84.59</td>\n",
       "    </tr>\n",
       "    <tr>\n",
       "      <th>3</th>\n",
       "      <td>4</td>\n",
       "      <td>F</td>\n",
       "      <td>Y</td>\n",
       "      <td>90.0</td>\n",
       "      <td>50.0</td>\n",
       "      <td>85.0</td>\n",
       "      <td>81.30</td>\n",
       "    </tr>\n",
       "    <tr>\n",
       "      <th>4</th>\n",
       "      <td>5</td>\n",
       "      <td>F</td>\n",
       "      <td>Y</td>\n",
       "      <td>40.0</td>\n",
       "      <td>75.0</td>\n",
       "      <td>90.0</td>\n",
       "      <td>72.52</td>\n",
       "    </tr>\n",
       "    <tr>\n",
       "      <th>...</th>\n",
       "      <td>...</td>\n",
       "      <td>...</td>\n",
       "      <td>...</td>\n",
       "      <td>...</td>\n",
       "      <td>...</td>\n",
       "      <td>...</td>\n",
       "      <td>...</td>\n",
       "    </tr>\n",
       "    <tr>\n",
       "      <th>95</th>\n",
       "      <td>96</td>\n",
       "      <td>M</td>\n",
       "      <td>Y</td>\n",
       "      <td>80.0</td>\n",
       "      <td>NaN</td>\n",
       "      <td>50.0</td>\n",
       "      <td>75.98</td>\n",
       "    </tr>\n",
       "    <tr>\n",
       "      <th>96</th>\n",
       "      <td>97</td>\n",
       "      <td>M</td>\n",
       "      <td>Y</td>\n",
       "      <td>67.0</td>\n",
       "      <td>70.0</td>\n",
       "      <td>50.0</td>\n",
       "      <td>66.49</td>\n",
       "    </tr>\n",
       "    <tr>\n",
       "      <th>97</th>\n",
       "      <td>98</td>\n",
       "      <td>M</td>\n",
       "      <td>Y</td>\n",
       "      <td>33.0</td>\n",
       "      <td>30.0</td>\n",
       "      <td>90.0</td>\n",
       "      <td>62.88</td>\n",
       "    </tr>\n",
       "    <tr>\n",
       "      <th>98</th>\n",
       "      <td>99</td>\n",
       "      <td>M</td>\n",
       "      <td>Y</td>\n",
       "      <td>33.0</td>\n",
       "      <td>70.0</td>\n",
       "      <td>50.0</td>\n",
       "      <td>46.17</td>\n",
       "    </tr>\n",
       "    <tr>\n",
       "      <th>99</th>\n",
       "      <td>100</td>\n",
       "      <td>M</td>\n",
       "      <td>N</td>\n",
       "      <td>73.0</td>\n",
       "      <td>NaN</td>\n",
       "      <td>90.0</td>\n",
       "      <td>58.71</td>\n",
       "    </tr>\n",
       "  </tbody>\n",
       "</table>\n",
       "<p>100 rows × 7 columns</p>\n",
       "</div>"
      ],
      "text/plain": [
       "     id gender cis   req    dfd   erd   wght\n",
       "0     1      M   N  90.0   85.0  80.0  77.56\n",
       "1     2      M   Y  90.0  100.0  90.0  81.85\n",
       "2     3      M   Y  90.0  100.0  90.0  84.59\n",
       "3     4      F   Y  90.0   50.0  85.0  81.30\n",
       "4     5      F   Y  40.0   75.0  90.0  72.52\n",
       "..  ...    ...  ..   ...    ...   ...    ...\n",
       "95   96      M   Y  80.0    NaN  50.0  75.98\n",
       "96   97      M   Y  67.0   70.0  50.0  66.49\n",
       "97   98      M   Y  33.0   30.0  90.0  62.88\n",
       "98   99      M   Y  33.0   70.0  50.0  46.17\n",
       "99  100      M   N  73.0    NaN  90.0  58.71\n",
       "\n",
       "[100 rows x 7 columns]"
      ]
     },
     "execution_count": 10,
     "metadata": {},
     "output_type": "execute_result"
    },
    {
     "data": {
      "text/plain": [
       "id           int64\n",
       "gender    category\n",
       "cis       category\n",
       "req        float64\n",
       "dfd        float64\n",
       "erd        float64\n",
       "wght       float64\n",
       "dtype: object"
      ]
     },
     "execution_count": 10,
     "metadata": {},
     "output_type": "execute_result"
    }
   ],
   "source": [
    "sd\n",
    "sd.dtypes"
   ]
  },
  {
   "cell_type": "markdown",
   "metadata": {},
   "source": [
    "# Step 3: drop duplicates and check with sum"
   ]
  },
  {
   "cell_type": "code",
   "execution_count": 11,
   "metadata": {},
   "outputs": [
    {
     "data": {
      "text/plain": [
       "(100, 7)"
      ]
     },
     "execution_count": 11,
     "metadata": {},
     "output_type": "execute_result"
    },
    {
     "data": {
      "text/plain": [
       "0"
      ]
     },
     "execution_count": 11,
     "metadata": {},
     "output_type": "execute_result"
    }
   ],
   "source": [
    "sd.drop_duplicates(inplace=True)\n",
    "sd.shape\n",
    "sd.duplicated().sum()\n",
    "# no dpulicates"
   ]
  },
  {
   "cell_type": "markdown",
   "metadata": {},
   "source": [
    "# Step 4: handle null values, check with sum()"
   ]
  },
  {
   "cell_type": "code",
   "execution_count": 12,
   "metadata": {},
   "outputs": [
    {
     "data": {
      "text/html": [
       "<div>\n",
       "<style scoped>\n",
       "    .dataframe tbody tr th:only-of-type {\n",
       "        vertical-align: middle;\n",
       "    }\n",
       "\n",
       "    .dataframe tbody tr th {\n",
       "        vertical-align: top;\n",
       "    }\n",
       "\n",
       "    .dataframe thead th {\n",
       "        text-align: right;\n",
       "    }\n",
       "</style>\n",
       "<table border=\"1\" class=\"dataframe\">\n",
       "  <thead>\n",
       "    <tr style=\"text-align: right;\">\n",
       "      <th></th>\n",
       "      <th>id</th>\n",
       "      <th>gender</th>\n",
       "      <th>cis</th>\n",
       "      <th>req</th>\n",
       "      <th>dfd</th>\n",
       "      <th>erd</th>\n",
       "      <th>wght</th>\n",
       "    </tr>\n",
       "  </thead>\n",
       "  <tbody>\n",
       "    <tr>\n",
       "      <th>35</th>\n",
       "      <td>36</td>\n",
       "      <td>M</td>\n",
       "      <td>N</td>\n",
       "      <td>NaN</td>\n",
       "      <td>NaN</td>\n",
       "      <td>NaN</td>\n",
       "      <td>35.29</td>\n",
       "    </tr>\n",
       "    <tr>\n",
       "      <th>37</th>\n",
       "      <td>38</td>\n",
       "      <td>M</td>\n",
       "      <td>N</td>\n",
       "      <td>NaN</td>\n",
       "      <td>40.0</td>\n",
       "      <td>50.0</td>\n",
       "      <td>61.44</td>\n",
       "    </tr>\n",
       "    <tr>\n",
       "      <th>41</th>\n",
       "      <td>42</td>\n",
       "      <td>F</td>\n",
       "      <td>N</td>\n",
       "      <td>NaN</td>\n",
       "      <td>20.0</td>\n",
       "      <td>NaN</td>\n",
       "      <td>51.27</td>\n",
       "    </tr>\n",
       "    <tr>\n",
       "      <th>43</th>\n",
       "      <td>44</td>\n",
       "      <td>M</td>\n",
       "      <td>N</td>\n",
       "      <td>NaN</td>\n",
       "      <td>60.0</td>\n",
       "      <td>50.0</td>\n",
       "      <td>56.39</td>\n",
       "    </tr>\n",
       "    <tr>\n",
       "      <th>93</th>\n",
       "      <td>94</td>\n",
       "      <td>M</td>\n",
       "      <td>Y</td>\n",
       "      <td>NaN</td>\n",
       "      <td>50.0</td>\n",
       "      <td>NaN</td>\n",
       "      <td>61.39</td>\n",
       "    </tr>\n",
       "    <tr>\n",
       "      <th>94</th>\n",
       "      <td>95</td>\n",
       "      <td>M</td>\n",
       "      <td>N</td>\n",
       "      <td>NaN</td>\n",
       "      <td>60.0</td>\n",
       "      <td>NaN</td>\n",
       "      <td>44.50</td>\n",
       "    </tr>\n",
       "  </tbody>\n",
       "</table>\n",
       "</div>"
      ],
      "text/plain": [
       "    id gender cis  req   dfd   erd   wght\n",
       "35  36      M   N  NaN   NaN   NaN  35.29\n",
       "37  38      M   N  NaN  40.0  50.0  61.44\n",
       "41  42      F   N  NaN  20.0   NaN  51.27\n",
       "43  44      M   N  NaN  60.0  50.0  56.39\n",
       "93  94      M   Y  NaN  50.0   NaN  61.39\n",
       "94  95      M   N  NaN  60.0   NaN  44.50"
      ]
     },
     "execution_count": 12,
     "metadata": {},
     "output_type": "execute_result"
    },
    {
     "data": {
      "text/html": [
       "<div>\n",
       "<style scoped>\n",
       "    .dataframe tbody tr th:only-of-type {\n",
       "        vertical-align: middle;\n",
       "    }\n",
       "\n",
       "    .dataframe tbody tr th {\n",
       "        vertical-align: top;\n",
       "    }\n",
       "\n",
       "    .dataframe thead th {\n",
       "        text-align: right;\n",
       "    }\n",
       "</style>\n",
       "<table border=\"1\" class=\"dataframe\">\n",
       "  <thead>\n",
       "    <tr style=\"text-align: right;\">\n",
       "      <th></th>\n",
       "      <th>id</th>\n",
       "      <th>gender</th>\n",
       "      <th>cis</th>\n",
       "      <th>req</th>\n",
       "      <th>dfd</th>\n",
       "      <th>erd</th>\n",
       "      <th>wght</th>\n",
       "    </tr>\n",
       "  </thead>\n",
       "  <tbody>\n",
       "    <tr>\n",
       "      <th>17</th>\n",
       "      <td>18</td>\n",
       "      <td>F</td>\n",
       "      <td>N</td>\n",
       "      <td>50.0</td>\n",
       "      <td>NaN</td>\n",
       "      <td>75.0</td>\n",
       "      <td>48.56</td>\n",
       "    </tr>\n",
       "    <tr>\n",
       "      <th>35</th>\n",
       "      <td>36</td>\n",
       "      <td>M</td>\n",
       "      <td>N</td>\n",
       "      <td>NaN</td>\n",
       "      <td>NaN</td>\n",
       "      <td>NaN</td>\n",
       "      <td>35.29</td>\n",
       "    </tr>\n",
       "    <tr>\n",
       "      <th>85</th>\n",
       "      <td>86</td>\n",
       "      <td>M</td>\n",
       "      <td>Y</td>\n",
       "      <td>85.0</td>\n",
       "      <td>NaN</td>\n",
       "      <td>50.0</td>\n",
       "      <td>51.23</td>\n",
       "    </tr>\n",
       "    <tr>\n",
       "      <th>95</th>\n",
       "      <td>96</td>\n",
       "      <td>M</td>\n",
       "      <td>Y</td>\n",
       "      <td>80.0</td>\n",
       "      <td>NaN</td>\n",
       "      <td>50.0</td>\n",
       "      <td>75.98</td>\n",
       "    </tr>\n",
       "    <tr>\n",
       "      <th>99</th>\n",
       "      <td>100</td>\n",
       "      <td>M</td>\n",
       "      <td>N</td>\n",
       "      <td>73.0</td>\n",
       "      <td>NaN</td>\n",
       "      <td>90.0</td>\n",
       "      <td>58.71</td>\n",
       "    </tr>\n",
       "  </tbody>\n",
       "</table>\n",
       "</div>"
      ],
      "text/plain": [
       "     id gender cis   req  dfd   erd   wght\n",
       "17   18      F   N  50.0  NaN  75.0  48.56\n",
       "35   36      M   N   NaN  NaN   NaN  35.29\n",
       "85   86      M   Y  85.0  NaN  50.0  51.23\n",
       "95   96      M   Y  80.0  NaN  50.0  75.98\n",
       "99  100      M   N  73.0  NaN  90.0  58.71"
      ]
     },
     "execution_count": 12,
     "metadata": {},
     "output_type": "execute_result"
    },
    {
     "data": {
      "text/html": [
       "<div>\n",
       "<style scoped>\n",
       "    .dataframe tbody tr th:only-of-type {\n",
       "        vertical-align: middle;\n",
       "    }\n",
       "\n",
       "    .dataframe tbody tr th {\n",
       "        vertical-align: top;\n",
       "    }\n",
       "\n",
       "    .dataframe thead th {\n",
       "        text-align: right;\n",
       "    }\n",
       "</style>\n",
       "<table border=\"1\" class=\"dataframe\">\n",
       "  <thead>\n",
       "    <tr style=\"text-align: right;\">\n",
       "      <th></th>\n",
       "      <th>id</th>\n",
       "      <th>gender</th>\n",
       "      <th>cis</th>\n",
       "      <th>req</th>\n",
       "      <th>dfd</th>\n",
       "      <th>erd</th>\n",
       "      <th>wght</th>\n",
       "    </tr>\n",
       "  </thead>\n",
       "  <tbody>\n",
       "    <tr>\n",
       "      <th>35</th>\n",
       "      <td>36</td>\n",
       "      <td>M</td>\n",
       "      <td>N</td>\n",
       "      <td>NaN</td>\n",
       "      <td>NaN</td>\n",
       "      <td>NaN</td>\n",
       "      <td>35.29</td>\n",
       "    </tr>\n",
       "    <tr>\n",
       "      <th>40</th>\n",
       "      <td>41</td>\n",
       "      <td>M</td>\n",
       "      <td>N</td>\n",
       "      <td>100.0</td>\n",
       "      <td>50.0</td>\n",
       "      <td>NaN</td>\n",
       "      <td>75.68</td>\n",
       "    </tr>\n",
       "    <tr>\n",
       "      <th>41</th>\n",
       "      <td>42</td>\n",
       "      <td>F</td>\n",
       "      <td>N</td>\n",
       "      <td>NaN</td>\n",
       "      <td>20.0</td>\n",
       "      <td>NaN</td>\n",
       "      <td>51.27</td>\n",
       "    </tr>\n",
       "    <tr>\n",
       "      <th>45</th>\n",
       "      <td>46</td>\n",
       "      <td>F</td>\n",
       "      <td>Y</td>\n",
       "      <td>70.0</td>\n",
       "      <td>30.0</td>\n",
       "      <td>NaN</td>\n",
       "      <td>70.78</td>\n",
       "    </tr>\n",
       "    <tr>\n",
       "      <th>53</th>\n",
       "      <td>54</td>\n",
       "      <td>M</td>\n",
       "      <td>N</td>\n",
       "      <td>80.0</td>\n",
       "      <td>60.0</td>\n",
       "      <td>NaN</td>\n",
       "      <td>73.10</td>\n",
       "    </tr>\n",
       "    <tr>\n",
       "      <th>72</th>\n",
       "      <td>73</td>\n",
       "      <td>M</td>\n",
       "      <td>N</td>\n",
       "      <td>100.0</td>\n",
       "      <td>100.0</td>\n",
       "      <td>NaN</td>\n",
       "      <td>79.09</td>\n",
       "    </tr>\n",
       "    <tr>\n",
       "      <th>73</th>\n",
       "      <td>74</td>\n",
       "      <td>M</td>\n",
       "      <td>Y</td>\n",
       "      <td>90.0</td>\n",
       "      <td>100.0</td>\n",
       "      <td>NaN</td>\n",
       "      <td>81.20</td>\n",
       "    </tr>\n",
       "    <tr>\n",
       "      <th>79</th>\n",
       "      <td>80</td>\n",
       "      <td>F</td>\n",
       "      <td>Y</td>\n",
       "      <td>60.0</td>\n",
       "      <td>40.0</td>\n",
       "      <td>NaN</td>\n",
       "      <td>54.14</td>\n",
       "    </tr>\n",
       "    <tr>\n",
       "      <th>91</th>\n",
       "      <td>92</td>\n",
       "      <td>F</td>\n",
       "      <td>N</td>\n",
       "      <td>80.0</td>\n",
       "      <td>40.0</td>\n",
       "      <td>NaN</td>\n",
       "      <td>64.20</td>\n",
       "    </tr>\n",
       "    <tr>\n",
       "      <th>93</th>\n",
       "      <td>94</td>\n",
       "      <td>M</td>\n",
       "      <td>Y</td>\n",
       "      <td>NaN</td>\n",
       "      <td>50.0</td>\n",
       "      <td>NaN</td>\n",
       "      <td>61.39</td>\n",
       "    </tr>\n",
       "    <tr>\n",
       "      <th>94</th>\n",
       "      <td>95</td>\n",
       "      <td>M</td>\n",
       "      <td>N</td>\n",
       "      <td>NaN</td>\n",
       "      <td>60.0</td>\n",
       "      <td>NaN</td>\n",
       "      <td>44.50</td>\n",
       "    </tr>\n",
       "  </tbody>\n",
       "</table>\n",
       "</div>"
      ],
      "text/plain": [
       "    id gender cis    req    dfd  erd   wght\n",
       "35  36      M   N    NaN    NaN  NaN  35.29\n",
       "40  41      M   N  100.0   50.0  NaN  75.68\n",
       "41  42      F   N    NaN   20.0  NaN  51.27\n",
       "45  46      F   Y   70.0   30.0  NaN  70.78\n",
       "53  54      M   N   80.0   60.0  NaN  73.10\n",
       "72  73      M   N  100.0  100.0  NaN  79.09\n",
       "73  74      M   Y   90.0  100.0  NaN  81.20\n",
       "79  80      F   Y   60.0   40.0  NaN  54.14\n",
       "91  92      F   N   80.0   40.0  NaN  64.20\n",
       "93  94      M   Y    NaN   50.0  NaN  61.39\n",
       "94  95      M   N    NaN   60.0  NaN  44.50"
      ]
     },
     "execution_count": 12,
     "metadata": {},
     "output_type": "execute_result"
    },
    {
     "data": {
      "text/plain": [
       "id         0\n",
       "gender     0\n",
       "cis        0\n",
       "req        6\n",
       "dfd        5\n",
       "erd       11\n",
       "wght       0\n",
       "dtype: int64"
      ]
     },
     "execution_count": 12,
     "metadata": {},
     "output_type": "execute_result"
    }
   ],
   "source": [
    "#first i'm showing all null values each row per column. Lastly, summing null values per column.\n",
    "sd[sd.req.isnull()] \n",
    "sd[sd.dfd.isnull()]\n",
    "sd[sd.erd.isnull()]\n",
    "sd.isnull().sum()"
   ]
  },
  {
   "cell_type": "code",
   "execution_count": 13,
   "metadata": {},
   "outputs": [
    {
     "data": {
      "text/plain": [
       "id        0\n",
       "gender    0\n",
       "cis       0\n",
       "req       0\n",
       "dfd       0\n",
       "erd       0\n",
       "wght      0\n",
       "dtype: int64"
      ]
     },
     "execution_count": 13,
     "metadata": {},
     "output_type": "execute_result"
    },
    {
     "data": {
      "text/plain": [
       "(83, 7)"
      ]
     },
     "execution_count": 13,
     "metadata": {},
     "output_type": "execute_result"
    }
   ],
   "source": [
    "sd.dropna(how='any', inplace=True) #replacing all null values with 0... Prof. suggested on email.\n",
    "sd.isnull().sum()\n",
    "sd.shape"
   ]
  },
  {
   "cell_type": "markdown",
   "metadata": {},
   "source": [
    "# fill with 0 or drop? *******************************************************\n",
    "sd.req.fillna(value=0, inplace=True)\n",
    "sd.dfd.fillna(value=0, inplace=True)\n",
    "sd.erd.fillna(value=0, inplace=True)\n",
    "\n",
    "sd[sd.req.isnull()]\n",
    "sd[sd.dfd.isnull()]\n",
    "sd[sd.erd.isnull()]\n",
    "\n",
    "sd.shape\n",
    "\n",
    "## This past coouple markdowns where I spent some time thinking what would be the best option for my data not to be vague, or short. One thing I thought it could work is to replace null values with the average of their column. Or replace null value with the average of their current score. Between two assignments. If more than 2 null values or null on wght, drop."
   ]
  },
  {
   "cell_type": "markdown",
   "metadata": {},
   "source": [
    "# Step 5: handle outliers, do a boxplot to see any outliers in the data set"
   ]
  },
  {
   "cell_type": "code",
   "execution_count": 14,
   "metadata": {},
   "outputs": [
    {
     "data": {
      "text/plain": [
       "<AxesSubplot:>"
      ]
     },
     "execution_count": 14,
     "metadata": {},
     "output_type": "execute_result"
    },
    {
     "data": {
      "image/png": "[encoded data removed]",
      "text/plain": [
       "<Figure size 432x288 with 1 Axes>"
      ]
     },
     "metadata": {
      "needs_background": "light"
     },
     "output_type": "display_data"
    }
   ],
   "source": [
    "\n",
    "import matplotlib.pyplot as plt\n",
    "import seaborn as sns\n",
    "columns = ['req','dfd','erd','wght']\n",
    "sns.boxplot(data=sd[columns])\n",
    "\n",
    "#we need to work on the req and wght variable"
   ]
  },
  {
   "cell_type": "markdown",
   "metadata": {},
   "source": [
    "# Step 5.2 : Drop outliers using percentile\n"
   ]
  },
  {
   "cell_type": "markdown",
   "metadata": {},
   "source": [
    "#three sigmas approach\n",
    "upper_limit =sd['req'].mean() + 3 * sd['req'].std()\n",
    "lower_limit = sd['req'].mean() - 3 * sd['req'].std()\n",
    "\n",
    "print(upper_limit)\n",
    "print(lower_limit)\n",
    "sd = sd[(sd ['req'] < upper_limit) & (sd['req'] > lower_limit)]"
   ]
  },
  {
   "cell_type": "code",
   "execution_count": null,
   "metadata": {},
   "outputs": [],
   "source": []
  },
  {
   "cell_type": "code",
   "execution_count": 15,
   "metadata": {},
   "outputs": [
    {
     "data": {
      "text/plain": [
       "20.0"
      ]
     },
     "execution_count": 15,
     "metadata": {},
     "output_type": "execute_result"
    }
   ],
   "source": [
    "#percentile approach \n",
    "percentile25 = sd['req'].quantile(0.25)\n",
    "percentile75 = sd['req'].quantile(0.75)\n",
    "iqr = percentile75 - percentile25\n",
    "iqr"
   ]
  },
  {
   "cell_type": "code",
   "execution_count": 16,
   "metadata": {},
   "outputs": [
    {
     "data": {
      "text/plain": [
       "(75, 7)"
      ]
     },
     "execution_count": 16,
     "metadata": {},
     "output_type": "execute_result"
    }
   ],
   "source": [
    "upper_limit = percentile75 + 1.5 * iqr\n",
    "lower_limit = percentile25 - 1.5 * iqr\n",
    "sd = sd[(sd['req'] < upper_limit)& (sd['req'] > lower_limit)]\n",
    "sd.shape"
   ]
  },
  {
   "cell_type": "code",
   "execution_count": 17,
   "metadata": {},
   "outputs": [
    {
     "data": {
      "text/plain": [
       "13.079999999999998"
      ]
     },
     "execution_count": 17,
     "metadata": {},
     "output_type": "execute_result"
    },
    {
     "data": {
      "text/plain": [
       "(75, 7)"
      ]
     },
     "execution_count": 17,
     "metadata": {},
     "output_type": "execute_result"
    }
   ],
   "source": [
    "percentile25w = sd['wght'].quantile(0.25)\n",
    "percentile75w = sd['wght'].quantile(0.75)\n",
    "iqrw = percentile75w - percentile25w\n",
    "iqrw\n",
    "sd.shape"
   ]
  },
  {
   "cell_type": "code",
   "execution_count": 18,
   "metadata": {},
   "outputs": [
    {
     "data": {
      "text/plain": [
       "(74, 7)"
      ]
     },
     "execution_count": 18,
     "metadata": {},
     "output_type": "execute_result"
    }
   ],
   "source": [
    "upper_limitw = percentile75w + 1.5 * iqrw\n",
    "lower_limitw = percentile25w - 1.5 * iqrw\n",
    "sd = sd[(sd['wght'] < upper_limitw)& (sd['wght'] > lower_limitw)]\n",
    "sd.shape"
   ]
  },
  {
   "cell_type": "markdown",
   "metadata": {},
   "source": [
    "# Step 5.3: re-run the boxplot to double check outliers"
   ]
  },
  {
   "cell_type": "code",
   "execution_count": 19,
   "metadata": {},
   "outputs": [
    {
     "data": {
      "text/plain": [
       "<AxesSubplot:>"
      ]
     },
     "execution_count": 19,
     "metadata": {},
     "output_type": "execute_result"
    },
    {
     "data": {
      "image/png": "[encoded data removed]",
      "text/plain": [
       "<Figure size 432x288 with 1 Axes>"
      ]
     },
     "metadata": {
      "needs_background": "light"
     },
     "output_type": "display_data"
    }
   ],
   "source": [
    "#no outliers, no duplicates, and no null values\n",
    "sns.boxplot(data=sd[columns])\n"
   ]
  },
  {
   "cell_type": "code",
   "execution_count": null,
   "metadata": {},
   "outputs": [],
   "source": []
  },
  {
   "cell_type": "markdown",
   "metadata": {},
   "source": [
    "# Step6 :create a copy of the cleaned dataframe, save the cleaned dataframe to a sd_cleaned.csv"
   ]
  },
  {
   "cell_type": "code",
   "execution_count": 20,
   "metadata": {},
   "outputs": [
    {
     "data": {
      "text/html": [
       "<div>\n",
       "<style scoped>\n",
       "    .dataframe tbody tr th:only-of-type {\n",
       "        vertical-align: middle;\n",
       "    }\n",
       "\n",
       "    .dataframe tbody tr th {\n",
       "        vertical-align: top;\n",
       "    }\n",
       "\n",
       "    .dataframe thead th {\n",
       "        text-align: right;\n",
       "    }\n",
       "</style>\n",
       "<table border=\"1\" class=\"dataframe\">\n",
       "  <thead>\n",
       "    <tr style=\"text-align: right;\">\n",
       "      <th></th>\n",
       "      <th>id</th>\n",
       "      <th>gender</th>\n",
       "      <th>cis</th>\n",
       "      <th>req</th>\n",
       "      <th>dfd</th>\n",
       "      <th>erd</th>\n",
       "      <th>wght</th>\n",
       "    </tr>\n",
       "  </thead>\n",
       "  <tbody>\n",
       "    <tr>\n",
       "      <th>0</th>\n",
       "      <td>1</td>\n",
       "      <td>M</td>\n",
       "      <td>N</td>\n",
       "      <td>90.0</td>\n",
       "      <td>85.0</td>\n",
       "      <td>80.0</td>\n",
       "      <td>77.56</td>\n",
       "    </tr>\n",
       "    <tr>\n",
       "      <th>1</th>\n",
       "      <td>2</td>\n",
       "      <td>M</td>\n",
       "      <td>Y</td>\n",
       "      <td>90.0</td>\n",
       "      <td>100.0</td>\n",
       "      <td>90.0</td>\n",
       "      <td>81.85</td>\n",
       "    </tr>\n",
       "    <tr>\n",
       "      <th>2</th>\n",
       "      <td>3</td>\n",
       "      <td>M</td>\n",
       "      <td>Y</td>\n",
       "      <td>90.0</td>\n",
       "      <td>100.0</td>\n",
       "      <td>90.0</td>\n",
       "      <td>84.59</td>\n",
       "    </tr>\n",
       "    <tr>\n",
       "      <th>3</th>\n",
       "      <td>4</td>\n",
       "      <td>F</td>\n",
       "      <td>Y</td>\n",
       "      <td>90.0</td>\n",
       "      <td>50.0</td>\n",
       "      <td>85.0</td>\n",
       "      <td>81.30</td>\n",
       "    </tr>\n",
       "    <tr>\n",
       "      <th>6</th>\n",
       "      <td>7</td>\n",
       "      <td>F</td>\n",
       "      <td>N</td>\n",
       "      <td>90.0</td>\n",
       "      <td>80.0</td>\n",
       "      <td>80.0</td>\n",
       "      <td>78.43</td>\n",
       "    </tr>\n",
       "  </tbody>\n",
       "</table>\n",
       "</div>"
      ],
      "text/plain": [
       "   id gender cis   req    dfd   erd   wght\n",
       "0   1      M   N  90.0   85.0  80.0  77.56\n",
       "1   2      M   Y  90.0  100.0  90.0  81.85\n",
       "2   3      M   Y  90.0  100.0  90.0  84.59\n",
       "3   4      F   Y  90.0   50.0  85.0  81.30\n",
       "6   7      F   N  90.0   80.0  80.0  78.43"
      ]
     },
     "execution_count": 20,
     "metadata": {},
     "output_type": "execute_result"
    },
    {
     "data": {
      "text/plain": [
       "id           int64\n",
       "gender    category\n",
       "cis       category\n",
       "req        float64\n",
       "dfd        float64\n",
       "erd        float64\n",
       "wght       float64\n",
       "dtype: object"
      ]
     },
     "execution_count": 20,
     "metadata": {},
     "output_type": "execute_result"
    },
    {
     "name": "stdout",
     "output_type": "stream",
     "text": [
      "<class 'pandas.core.frame.DataFrame'>\n",
      "Int64Index: 74 entries, 0 to 96\n",
      "Data columns (total 7 columns):\n",
      " #   Column  Non-Null Count  Dtype   \n",
      "---  ------  --------------  -----   \n",
      " 0   id      74 non-null     int64   \n",
      " 1   gender  74 non-null     category\n",
      " 2   cis     74 non-null     category\n",
      " 3   req     74 non-null     float64 \n",
      " 4   dfd     74 non-null     float64 \n",
      " 5   erd     74 non-null     float64 \n",
      " 6   wght    74 non-null     float64 \n",
      "dtypes: category(2), float64(4), int64(1)\n",
      "memory usage: 3.8 KB\n"
     ]
    }
   ],
   "source": [
    "# Check everything\n",
    "\n",
    "sd.head()\n",
    "sd.dtypes\n",
    "sd.info()\n"
   ]
  },
  {
   "cell_type": "markdown",
   "metadata": {},
   "source": [
    "                                ## Exploratory Data Analysis\n",
    "\n"
   ]
  },
  {
   "cell_type": "markdown",
   "metadata": {},
   "source": [
    "\n",
    "# Group by gender and cis showing the mean/stdv for each assignment"
   ]
  },
  {
   "cell_type": "code",
   "execution_count": 21,
   "metadata": {},
   "outputs": [
    {
     "data": {
      "text/plain": [
       "req    83.675676\n",
       "dfd    70.675676\n",
       "erd    71.756757\n",
       "dtype: float64"
      ]
     },
     "execution_count": 21,
     "metadata": {},
     "output_type": "execute_result"
    },
    {
     "data": {
      "text/html": [
       "<div>\n",
       "<style scoped>\n",
       "    .dataframe tbody tr th:only-of-type {\n",
       "        vertical-align: middle;\n",
       "    }\n",
       "\n",
       "    .dataframe tbody tr th {\n",
       "        vertical-align: top;\n",
       "    }\n",
       "\n",
       "    .dataframe thead th {\n",
       "        text-align: right;\n",
       "    }\n",
       "</style>\n",
       "<table border=\"1\" class=\"dataframe\">\n",
       "  <thead>\n",
       "    <tr style=\"text-align: right;\">\n",
       "      <th></th>\n",
       "      <th></th>\n",
       "      <th>req</th>\n",
       "      <th>dfd</th>\n",
       "      <th>erd</th>\n",
       "    </tr>\n",
       "    <tr>\n",
       "      <th>gender</th>\n",
       "      <th>cis</th>\n",
       "      <th></th>\n",
       "      <th></th>\n",
       "      <th></th>\n",
       "    </tr>\n",
       "  </thead>\n",
       "  <tbody>\n",
       "    <tr>\n",
       "      <th rowspan=\"2\" valign=\"top\">F</th>\n",
       "      <th>N</th>\n",
       "      <td>81.562500</td>\n",
       "      <td>65.625000</td>\n",
       "      <td>68.750000</td>\n",
       "    </tr>\n",
       "    <tr>\n",
       "      <th>Y</th>\n",
       "      <td>84.642857</td>\n",
       "      <td>68.928571</td>\n",
       "      <td>76.428571</td>\n",
       "    </tr>\n",
       "    <tr>\n",
       "      <th rowspan=\"2\" valign=\"top\">M</th>\n",
       "      <th>N</th>\n",
       "      <td>80.833333</td>\n",
       "      <td>65.000000</td>\n",
       "      <td>61.250000</td>\n",
       "    </tr>\n",
       "    <tr>\n",
       "      <th>Y</th>\n",
       "      <td>85.375000</td>\n",
       "      <td>76.093750</td>\n",
       "      <td>75.156250</td>\n",
       "    </tr>\n",
       "  </tbody>\n",
       "</table>\n",
       "</div>"
      ],
      "text/plain": [
       "                  req        dfd        erd\n",
       "gender cis                                 \n",
       "F      N    81.562500  65.625000  68.750000\n",
       "       Y    84.642857  68.928571  76.428571\n",
       "M      N    80.833333  65.000000  61.250000\n",
       "       Y    85.375000  76.093750  75.156250"
      ]
     },
     "execution_count": 21,
     "metadata": {},
     "output_type": "execute_result"
    },
    {
     "data": {
      "text/plain": [
       "req    12.791380\n",
       "dfd    25.806502\n",
       "erd    19.835495\n",
       "dtype: float64"
      ]
     },
     "execution_count": 21,
     "metadata": {},
     "output_type": "execute_result"
    },
    {
     "data": {
      "text/html": [
       "<div>\n",
       "<style scoped>\n",
       "    .dataframe tbody tr th:only-of-type {\n",
       "        vertical-align: middle;\n",
       "    }\n",
       "\n",
       "    .dataframe tbody tr th {\n",
       "        vertical-align: top;\n",
       "    }\n",
       "\n",
       "    .dataframe thead th {\n",
       "        text-align: right;\n",
       "    }\n",
       "</style>\n",
       "<table border=\"1\" class=\"dataframe\">\n",
       "  <thead>\n",
       "    <tr style=\"text-align: right;\">\n",
       "      <th></th>\n",
       "      <th></th>\n",
       "      <th>req</th>\n",
       "      <th>dfd</th>\n",
       "      <th>erd</th>\n",
       "    </tr>\n",
       "    <tr>\n",
       "      <th>gender</th>\n",
       "      <th>cis</th>\n",
       "      <th></th>\n",
       "      <th></th>\n",
       "      <th></th>\n",
       "    </tr>\n",
       "  </thead>\n",
       "  <tbody>\n",
       "    <tr>\n",
       "      <th rowspan=\"2\" valign=\"top\">F</th>\n",
       "      <th>N</th>\n",
       "      <td>13.870683</td>\n",
       "      <td>24.554361</td>\n",
       "      <td>20.776589</td>\n",
       "    </tr>\n",
       "    <tr>\n",
       "      <th>Y</th>\n",
       "      <td>13.652879</td>\n",
       "      <td>27.608428</td>\n",
       "      <td>17.145146</td>\n",
       "    </tr>\n",
       "    <tr>\n",
       "      <th rowspan=\"2\" valign=\"top\">M</th>\n",
       "      <th>N</th>\n",
       "      <td>9.003366</td>\n",
       "      <td>28.524312</td>\n",
       "      <td>23.464189</td>\n",
       "    </tr>\n",
       "    <tr>\n",
       "      <th>Y</th>\n",
       "      <td>13.282902</td>\n",
       "      <td>24.715620</td>\n",
       "      <td>18.160768</td>\n",
       "    </tr>\n",
       "  </tbody>\n",
       "</table>\n",
       "</div>"
      ],
      "text/plain": [
       "                  req        dfd        erd\n",
       "gender cis                                 \n",
       "F      N    13.870683  24.554361  20.776589\n",
       "       Y    13.652879  27.608428  17.145146\n",
       "M      N     9.003366  28.524312  23.464189\n",
       "       Y    13.282902  24.715620  18.160768"
      ]
     },
     "execution_count": 21,
     "metadata": {},
     "output_type": "execute_result"
    },
    {
     "data": {
      "text/html": [
       "<div>\n",
       "<style scoped>\n",
       "    .dataframe tbody tr th:only-of-type {\n",
       "        vertical-align: middle;\n",
       "    }\n",
       "\n",
       "    .dataframe tbody tr th {\n",
       "        vertical-align: top;\n",
       "    }\n",
       "\n",
       "    .dataframe thead th {\n",
       "        text-align: right;\n",
       "    }\n",
       "</style>\n",
       "<table border=\"1\" class=\"dataframe\">\n",
       "  <thead>\n",
       "    <tr style=\"text-align: right;\">\n",
       "      <th></th>\n",
       "      <th></th>\n",
       "      <th>min</th>\n",
       "      <th>max</th>\n",
       "      <th>sum</th>\n",
       "    </tr>\n",
       "    <tr>\n",
       "      <th>gender</th>\n",
       "      <th>cis</th>\n",
       "      <th></th>\n",
       "      <th></th>\n",
       "      <th></th>\n",
       "    </tr>\n",
       "  </thead>\n",
       "  <tbody>\n",
       "    <tr>\n",
       "      <th rowspan=\"2\" valign=\"top\">F</th>\n",
       "      <th>N</th>\n",
       "      <td>64.17</td>\n",
       "      <td>86.56</td>\n",
       "      <td>1221.59</td>\n",
       "    </tr>\n",
       "    <tr>\n",
       "      <th>Y</th>\n",
       "      <td>67.10</td>\n",
       "      <td>96.14</td>\n",
       "      <td>1144.25</td>\n",
       "    </tr>\n",
       "    <tr>\n",
       "      <th rowspan=\"2\" valign=\"top\">M</th>\n",
       "      <th>N</th>\n",
       "      <td>51.48</td>\n",
       "      <td>79.70</td>\n",
       "      <td>847.17</td>\n",
       "    </tr>\n",
       "    <tr>\n",
       "      <th>Y</th>\n",
       "      <td>60.30</td>\n",
       "      <td>96.95</td>\n",
       "      <td>2576.61</td>\n",
       "    </tr>\n",
       "  </tbody>\n",
       "</table>\n",
       "</div>"
      ],
      "text/plain": [
       "              min    max      sum\n",
       "gender cis                       \n",
       "F      N    64.17  86.56  1221.59\n",
       "       Y    67.10  96.14  1144.25\n",
       "M      N    51.48  79.70   847.17\n",
       "       Y    60.30  96.95  2576.61"
      ]
     },
     "execution_count": 21,
     "metadata": {},
     "output_type": "execute_result"
    }
   ],
   "source": [
    "#mean for three assignments\n",
    "\n",
    "sd[['req','dfd','erd']].mean()\n",
    "\n",
    "# mean by grouping gender and cis students\n",
    "sd.groupby(['gender','cis'])[['req','dfd','erd']].mean()\n",
    "\n",
    "\n",
    "#stdv for three assignments\n",
    "sd[['req','dfd','erd']].std()\n",
    "\n",
    "\n",
    "#stdv by grouping gender and cis students\n",
    "sd.groupby(['gender','cis'])[['req','dfd','erd']].std()\n",
    "\n",
    "#min, max, sum in groups\n",
    "sd.groupby(['gender','cis'])['wght'].agg([min,max,sum])"
   ]
  },
  {
   "cell_type": "markdown",
   "metadata": {},
   "source": [
    "# Observation #1: \n",
    "\n",
    "\n",
    "The standard deviaton for all groups has a wider spread from all 3 assignments. The dfd data will be more distributed.\n",
    "\n",
    "\n",
    "Many students seem they did well in the first assignment, req, can we confirm this later?"
   ]
  },
  {
   "cell_type": "markdown",
   "metadata": {},
   "source": [
    "# Count, visualize cis and non cis students completed their assingment by gender"
   ]
  },
  {
   "cell_type": "code",
   "execution_count": 22,
   "metadata": {},
   "outputs": [
    {
     "data": {
      "text/plain": [
       "<seaborn.axisgrid.FacetGrid at 0x7fd967f1dd00>"
      ]
     },
     "execution_count": 22,
     "metadata": {},
     "output_type": "execute_result"
    },
    {
     "data": {
      "text/plain": [
       "M    44\n",
       "F    30\n",
       "Name: gender, dtype: int64"
      ]
     },
     "execution_count": 22,
     "metadata": {},
     "output_type": "execute_result"
    },
    {
     "data": {
      "text/plain": [
       "<seaborn.axisgrid.FacetGrid at 0x7fd967f36520>"
      ]
     },
     "execution_count": 22,
     "metadata": {},
     "output_type": "execute_result"
    },
    {
     "data": {
      "text/plain": [
       "Y    46\n",
       "N    28\n",
       "Name: cis, dtype: int64"
      ]
     },
     "execution_count": 22,
     "metadata": {},
     "output_type": "execute_result"
    },
    {
     "data": {
      "image/png": "[encoded data removed]",
      "text/plain": [
       "<Figure size 360x360 with 1 Axes>"
      ]
     },
     "metadata": {
      "needs_background": "light"
     },
     "output_type": "display_data"
    },
    {
     "data": {
      "image/png": "[encoded data removed]",
      "text/plain": [
       "<Figure size 360x360 with 1 Axes>"
      ]
     },
     "metadata": {
      "needs_background": "light"
     },
     "output_type": "display_data"
    }
   ],
   "source": [
    "import matplotlib.pyplot as plt\n",
    "import seaborn as sns\n",
    "\n",
    "sns.catplot(x='gender', data=sd, kind='count')\n",
    "sd['gender'].value_counts(sort=True)\n",
    "\n",
    "sns.catplot(x='cis', data=sd, kind='count')\n",
    "sd['cis'].value_counts(sort=True)\n",
    "\n",
    "\n",
    "plt.show()\n",
    "\n",
    "\n"
   ]
  },
  {
   "cell_type": "code",
   "execution_count": 23,
   "metadata": {},
   "outputs": [
    {
     "data": {
      "text/html": [
       "<div>\n",
       "<style scoped>\n",
       "    .dataframe tbody tr th:only-of-type {\n",
       "        vertical-align: middle;\n",
       "    }\n",
       "\n",
       "    .dataframe tbody tr th {\n",
       "        vertical-align: top;\n",
       "    }\n",
       "\n",
       "    .dataframe thead th {\n",
       "        text-align: right;\n",
       "    }\n",
       "</style>\n",
       "<table border=\"1\" class=\"dataframe\">\n",
       "  <thead>\n",
       "    <tr style=\"text-align: right;\">\n",
       "      <th></th>\n",
       "      <th>gender</th>\n",
       "      <th>cis</th>\n",
       "      <th>req</th>\n",
       "      <th>dfd</th>\n",
       "      <th>erd</th>\n",
       "      <th>wght</th>\n",
       "    </tr>\n",
       "  </thead>\n",
       "  <tbody>\n",
       "    <tr>\n",
       "      <th>0</th>\n",
       "      <td>M</td>\n",
       "      <td>N</td>\n",
       "      <td>90.0</td>\n",
       "      <td>85.0</td>\n",
       "      <td>80.0</td>\n",
       "      <td>77.56</td>\n",
       "    </tr>\n",
       "    <tr>\n",
       "      <th>1</th>\n",
       "      <td>M</td>\n",
       "      <td>Y</td>\n",
       "      <td>90.0</td>\n",
       "      <td>100.0</td>\n",
       "      <td>90.0</td>\n",
       "      <td>81.85</td>\n",
       "    </tr>\n",
       "    <tr>\n",
       "      <th>2</th>\n",
       "      <td>M</td>\n",
       "      <td>Y</td>\n",
       "      <td>90.0</td>\n",
       "      <td>100.0</td>\n",
       "      <td>90.0</td>\n",
       "      <td>84.59</td>\n",
       "    </tr>\n",
       "    <tr>\n",
       "      <th>3</th>\n",
       "      <td>F</td>\n",
       "      <td>Y</td>\n",
       "      <td>90.0</td>\n",
       "      <td>50.0</td>\n",
       "      <td>85.0</td>\n",
       "      <td>81.30</td>\n",
       "    </tr>\n",
       "    <tr>\n",
       "      <th>6</th>\n",
       "      <td>F</td>\n",
       "      <td>N</td>\n",
       "      <td>90.0</td>\n",
       "      <td>80.0</td>\n",
       "      <td>80.0</td>\n",
       "      <td>78.43</td>\n",
       "    </tr>\n",
       "  </tbody>\n",
       "</table>\n",
       "</div>"
      ],
      "text/plain": [
       "  gender cis   req    dfd   erd   wght\n",
       "0      M   N  90.0   85.0  80.0  77.56\n",
       "1      M   Y  90.0  100.0  90.0  81.85\n",
       "2      M   Y  90.0  100.0  90.0  84.59\n",
       "3      F   Y  90.0   50.0  85.0  81.30\n",
       "6      F   N  90.0   80.0  80.0  78.43"
      ]
     },
     "execution_count": 23,
     "metadata": {},
     "output_type": "execute_result"
    },
    {
     "name": "stdout",
     "output_type": "stream",
     "text": [
      "<class 'pandas.core.frame.DataFrame'>\n",
      "Int64Index: 74 entries, 0 to 96\n",
      "Data columns (total 6 columns):\n",
      " #   Column  Non-Null Count  Dtype   \n",
      "---  ------  --------------  -----   \n",
      " 0   gender  74 non-null     category\n",
      " 1   cis     74 non-null     category\n",
      " 2   req     74 non-null     float64 \n",
      " 3   dfd     74 non-null     float64 \n",
      " 4   erd     74 non-null     float64 \n",
      " 5   wght    74 non-null     float64 \n",
      "dtypes: category(2), float64(4)\n",
      "memory usage: 5.7 KB\n"
     ]
    }
   ],
   "source": [
    "# delete the id column, not sure if this should be done......\n",
    "sd = sd.loc[:,'gender':'wght']\n",
    "sd.head()\n",
    "\n",
    "\n",
    "sd.info()"
   ]
  },
  {
   "cell_type": "markdown",
   "metadata": {},
   "source": [
    "# Save new and clean dataset"
   ]
  },
  {
   "cell_type": "code",
   "execution_count": 24,
   "metadata": {},
   "outputs": [],
   "source": [
    "import pandas as pd #saved cleaned data\n",
    "sd.to_csv('data/sd_cleaned.csv')"
   ]
  },
  {
   "cell_type": "code",
   "execution_count": 25,
   "metadata": {},
   "outputs": [
    {
     "data": {
      "text/plain": [
       "Index(['gender', 'cis', 'req', 'dfd', 'erd', 'wght'], dtype='object')"
      ]
     },
     "execution_count": 25,
     "metadata": {},
     "output_type": "execute_result"
    },
    {
     "data": {
      "text/plain": [
       "gender    category\n",
       "cis       category\n",
       "req        float64\n",
       "dfd        float64\n",
       "erd        float64\n",
       "wght       float64\n",
       "dtype: object"
      ]
     },
     "execution_count": 25,
     "metadata": {},
     "output_type": "execute_result"
    },
    {
     "data": {
      "text/plain": [
       "(74, 6)"
      ]
     },
     "execution_count": 25,
     "metadata": {},
     "output_type": "execute_result"
    }
   ],
   "source": [
    "sd.keys()\n",
    "sd.dtypes\n",
    "sd.shape"
   ]
  },
  {
   "cell_type": "markdown",
   "metadata": {},
   "source": [
    "# Graph the counts in groups by weight"
   ]
  },
  {
   "cell_type": "code",
   "execution_count": 26,
   "metadata": {},
   "outputs": [
    {
     "data": {
      "text/plain": [
       "<seaborn.axisgrid.FacetGrid at 0x7fd967fd26d0>"
      ]
     },
     "execution_count": 26,
     "metadata": {},
     "output_type": "execute_result"
    },
    {
     "data": {
      "text/plain": [
       "<seaborn.axisgrid.FacetGrid at 0x7fd968087970>"
      ]
     },
     "execution_count": 26,
     "metadata": {},
     "output_type": "execute_result"
    },
    {
     "data": {
      "image/png": "[encoded data removed]",
      "text/plain": [
       "<Figure size 403.5x360 with 1 Axes>"
      ]
     },
     "metadata": {
      "needs_background": "light"
     },
     "output_type": "display_data"
    },
    {
     "data": {
      "image/png": "[encoded data removed]",
      "text/plain": [
       "<Figure size 403.5x360 with 1 Axes>"
      ]
     },
     "metadata": {
      "needs_background": "light"
     },
     "output_type": "display_data"
    }
   ],
   "source": [
    "\n",
    "sns.catplot(x=\"gender\", y=\"wght\", hue=\"cis\", kind=\"swarm\", data=sd)\n",
    "\n",
    "sns.catplot(x=\"gender\", y=\"wght\", hue='cis',kind=\"bar\", data=sd)\n",
    "\n",
    "plt.show()\n",
    "\n",
    "\n"
   ]
  },
  {
   "cell_type": "markdown",
   "metadata": {},
   "source": [
    "# Observation#2:\n",
    "\n",
    "Even though more male students are in the class, CIS Female students have bigger weight grades than males. However, we can see the cluster around 76%-85% performance for CIS male students. \n",
    "\n",
    "\n",
    "\n",
    "NON-CIS female students also show higher grades than non-cis male students."
   ]
  },
  {
   "cell_type": "markdown",
   "metadata": {},
   "source": [
    "# Lets plot a bell shape graph and see how everything is distributed. We will see the skewness and kurtosis for the assignments"
   ]
  },
  {
   "cell_type": "code",
   "execution_count": 27,
   "metadata": {},
   "outputs": [
    {
     "data": {
      "text/plain": [
       "<AxesSubplot:ylabel='Density'>"
      ]
     },
     "execution_count": 27,
     "metadata": {},
     "output_type": "execute_result"
    },
    {
     "data": {
      "text/plain": [
       "Text(0.5, 0, 'All three assignments')"
      ]
     },
     "execution_count": 27,
     "metadata": {},
     "output_type": "execute_result"
    },
    {
     "data": {
      "image/png": "[encoded data removed]",
      "text/plain": [
       "<Figure size 432x288 with 1 Axes>"
      ]
     },
     "metadata": {
      "needs_background": "light"
     },
     "output_type": "display_data"
    },
    {
     "name": "stdout",
     "output_type": "stream",
     "text": [
      "\n",
      " ---Assignments and Total Performance mean--- \n",
      " req     83.675676\n",
      "dfd     70.675676\n",
      "erd     71.756757\n",
      "wght    78.238108\n",
      "dtype: float64\n",
      "\n",
      " ---Assignments and Total Performance median--- \n",
      " req     90.000\n",
      "dfd     80.000\n",
      "erd     80.000\n",
      "wght    78.425\n",
      "dtype: float64\n",
      "\n",
      " --- Assignments and Total Performance standard deviaton --- \n",
      " req     12.791380\n",
      "dfd     25.806502\n",
      "erd     19.835495\n",
      "wght     9.692136\n",
      "dtype: float64\n",
      "\n",
      " --- Assignment skewness --- \n",
      " req    -0.897765\n",
      "dfd    -0.772765\n",
      "erd    -0.584550\n",
      "wght   -0.115530\n",
      "dtype: float64\n",
      "\n",
      " --- Assignment kurtosis --- \n",
      " req     0.277153\n",
      "dfd    -0.573110\n",
      "erd    -0.966338\n",
      "wght   -0.172170\n",
      "dtype: float64\n"
     ]
    },
    {
     "data": {
      "text/plain": [
       "<AxesSubplot:ylabel='Density'>"
      ]
     },
     "execution_count": 27,
     "metadata": {},
     "output_type": "execute_result"
    },
    {
     "data": {
      "text/plain": [
       "Text(0.5, 0, 'All three assignments Vs the total weight of their grades')"
      ]
     },
     "execution_count": 27,
     "metadata": {},
     "output_type": "execute_result"
    },
    {
     "data": {
      "image/png": "[encoded data removed]",
      "text/plain": [
       "<Figure size 432x288 with 1 Axes>"
      ]
     },
     "metadata": {
      "needs_background": "light"
     },
     "output_type": "display_data"
    }
   ],
   "source": [
    "\n",
    "\n",
    "columns=['req','dfd','erd']\n",
    "sns.kdeplot(data=sd[columns], shade=True)\n",
    "plt.xlabel('All three assignments')\n",
    "plt.show()\n",
    "\n",
    "\n",
    "print('\\n ---Assignments and Total Performance mean--- \\n',sd[['req','dfd','erd','wght']].mean())\n",
    "      \n",
    "print('\\n ---Assignments and Total Performance median--- \\n',sd[['req','dfd','erd','wght']].median())\n",
    "\n",
    "\n",
    "    \n",
    "print('\\n --- Assignments and Total Performance standard deviaton --- \\n', sd[['req','dfd','erd','wght']].std())\n",
    "\n",
    "\n",
    "      \n",
    "print('\\n --- Assignment skewness --- \\n', sd.loc[:,'req' : 'wght'].skew())\n",
    "print('\\n --- Assignment kurtosis --- \\n', sd.loc[:, 'req' : 'wght'].kurt())\n",
    "\n",
    "\n",
    "sns.kdeplot(data=sd.loc[:, 'req':'wght'], shade=True)\n",
    "plt.xlabel('All three assignments Vs the total weight of their grades')\n",
    "plt.show()\n",
    "\n"
   ]
  },
  {
   "cell_type": "markdown",
   "metadata": {},
   "source": [
    "# Observation # 3:\n",
    "\n",
    "This confirmed our previous observation regarding stdv. The assignment 'dfd' spreads out wider than others, the distributtion is bigger than others. Seems that students found the 2nd assignment more difficult than the other two. Not normal, asymmetrical distributed.\n",
    "\n",
    "While 'erd' was also another assignment most students found it difficult, some of them did good. We can see it has a distribution of grades ranges from  10 to 120. A little narrower than 'dfd', still hard to compare data because it is not normally distributed.\n",
    "\n",
    "The first assignment 'req', most of them did better than the average . Showing a higher mean and a smaller stdv. We can assume as the course continues, the assignments get harder and students struggle in their grades.\n",
    "\n",
    "The (weight) the total performance and tells us the total performance of the class is somewhat normally distributed with a narrow bell shape. Small standard deviation and high mean.\n",
    "\n",
    "# Additional comments:\n",
    "The kurtosis for our wght variables, is less than -1. This means it is not normally distributed. Moderaly skewed to the left.\n",
    "\n",
    "\n",
    "req: mean < median and low standard deviation \n",
    "\n",
    "dfd: mean < median and very high stdv\n",
    "\n",
    "erd: mean < median and somewhat hight stdv\n",
    "\n",
    "wght: mean and median almost equal with a difference of 0.99....\n",
    "\n"
   ]
  },
  {
   "cell_type": "code",
   "execution_count": 28,
   "metadata": {},
   "outputs": [
    {
     "data": {
      "text/plain": [
       "<AxesSubplot:xlabel='req', ylabel='Count'>"
      ]
     },
     "execution_count": 28,
     "metadata": {},
     "output_type": "execute_result"
    },
    {
     "data": {
      "text/plain": [
       "<AxesSubplot:xlabel='dfd', ylabel='Count'>"
      ]
     },
     "execution_count": 28,
     "metadata": {},
     "output_type": "execute_result"
    },
    {
     "data": {
      "text/plain": [
       "<AxesSubplot:xlabel='erd', ylabel='Count'>"
      ]
     },
     "execution_count": 28,
     "metadata": {},
     "output_type": "execute_result"
    },
    {
     "data": {
      "text/plain": [
       "<AxesSubplot:xlabel='wght', ylabel='Count'>"
      ]
     },
     "execution_count": 28,
     "metadata": {},
     "output_type": "execute_result"
    },
    {
     "data": {
      "image/png": "[encoded data removed]",
      "text/plain": [
       "<Figure size 720x720 with 4 Axes>"
      ]
     },
     "metadata": {
      "needs_background": "light"
     },
     "output_type": "display_data"
    }
   ],
   "source": [
    "import matplotlib.pyplot as plt\n",
    "import seaborn as sns\n",
    "\n",
    "fig, axs = plt.subplots (2,2, figsize = (10, 10))\n",
    "\n",
    "sns.histplot(data=sd.req, kde=True, ax = axs[0,0])\n",
    "sns.histplot(data=sd.dfd, kde=True, ax = axs[0,1])\n",
    "sns.histplot(data=sd.erd, kde=True, ax = axs[1,0])\n",
    "sns.histplot(data=sd.wght, kde=True, ax = axs[1,1])"
   ]
  },
  {
   "cell_type": "markdown",
   "metadata": {},
   "source": [
    "# Working with categorical variables"
   ]
  },
  {
   "cell_type": "code",
   "execution_count": 29,
   "metadata": {},
   "outputs": [
    {
     "data": {
      "text/plain": [
       "<AxesSubplot:xlabel='gender', ylabel='count'>"
      ]
     },
     "execution_count": 29,
     "metadata": {},
     "output_type": "execute_result"
    },
    {
     "data": {
      "text/plain": [
       "Text(0.5, 1.0, 'Gender Count')"
      ]
     },
     "execution_count": 29,
     "metadata": {},
     "output_type": "execute_result"
    },
    {
     "data": {
      "image/png": "[encoded data removed]",
      "text/plain": [
       "<Figure size 432x288 with 1 Axes>"
      ]
     },
     "metadata": {
      "needs_background": "light"
     },
     "output_type": "display_data"
    }
   ],
   "source": [
    "# We enough samples to work with this amount. \n",
    "\n",
    "sns.countplot(x='gender', data = sd)\n",
    "plt.title('Gender Count')"
   ]
  },
  {
   "cell_type": "code",
   "execution_count": 30,
   "metadata": {},
   "outputs": [
    {
     "data": {
      "text/plain": [
       "pandas.core.series.Series"
      ]
     },
     "execution_count": 30,
     "metadata": {},
     "output_type": "execute_result"
    },
    {
     "data": {
      "text/html": [
       "<div>\n",
       "<style scoped>\n",
       "    .dataframe tbody tr th:only-of-type {\n",
       "        vertical-align: middle;\n",
       "    }\n",
       "\n",
       "    .dataframe tbody tr th {\n",
       "        vertical-align: top;\n",
       "    }\n",
       "\n",
       "    .dataframe thead th {\n",
       "        text-align: right;\n",
       "    }\n",
       "</style>\n",
       "<table border=\"1\" class=\"dataframe\">\n",
       "  <thead>\n",
       "    <tr style=\"text-align: right;\">\n",
       "      <th></th>\n",
       "      <th>gndrct</th>\n",
       "    </tr>\n",
       "  </thead>\n",
       "  <tbody>\n",
       "    <tr>\n",
       "      <th>M</th>\n",
       "      <td>44</td>\n",
       "    </tr>\n",
       "    <tr>\n",
       "      <th>F</th>\n",
       "      <td>30</td>\n",
       "    </tr>\n",
       "  </tbody>\n",
       "</table>\n",
       "</div>"
      ],
      "text/plain": [
       "   gndrct\n",
       "M      44\n",
       "F      30"
      ]
     },
     "execution_count": 30,
     "metadata": {},
     "output_type": "execute_result"
    },
    {
     "data": {
      "text/html": [
       "<div>\n",
       "<style scoped>\n",
       "    .dataframe tbody tr th:only-of-type {\n",
       "        vertical-align: middle;\n",
       "    }\n",
       "\n",
       "    .dataframe tbody tr th {\n",
       "        vertical-align: top;\n",
       "    }\n",
       "\n",
       "    .dataframe thead th {\n",
       "        text-align: right;\n",
       "    }\n",
       "</style>\n",
       "<table border=\"1\" class=\"dataframe\">\n",
       "  <thead>\n",
       "    <tr style=\"text-align: right;\">\n",
       "      <th></th>\n",
       "      <th>gndrct</th>\n",
       "      <th>percentage</th>\n",
       "    </tr>\n",
       "  </thead>\n",
       "  <tbody>\n",
       "    <tr>\n",
       "      <th>M</th>\n",
       "      <td>44</td>\n",
       "      <td>0.594595</td>\n",
       "    </tr>\n",
       "    <tr>\n",
       "      <th>F</th>\n",
       "      <td>30</td>\n",
       "      <td>0.405405</td>\n",
       "    </tr>\n",
       "  </tbody>\n",
       "</table>\n",
       "</div>"
      ],
      "text/plain": [
       "   gndrct  percentage\n",
       "M      44    0.594595\n",
       "F      30    0.405405"
      ]
     },
     "execution_count": 30,
     "metadata": {},
     "output_type": "execute_result"
    }
   ],
   "source": [
    "#Create a column with percentage of gender in the class\n",
    "\n",
    "\n",
    "genderC = sd.gender.value_counts()\n",
    "type(genderC) #this is a series, you have convert it to data frame.\n",
    "\n",
    "genderdf = pd.DataFrame(genderC)\n",
    "genderdf.columns = ['gndrct']\n",
    "genderdf\n",
    "\n",
    "#add a column 'percentage' to the dataframe\n",
    "\n",
    "genderdf['percentage'] = genderdf/genderC.sum()\n",
    "genderdf\n",
    "\n",
    "\n",
    "\n",
    "\n",
    "\n",
    "\n",
    "#maybe join this new column later?"
   ]
  },
  {
   "cell_type": "markdown",
   "metadata": {},
   "source": [
    "# Note: we cannot do crosstabs/contigency (in this case) with numerical variables. In order to analyze numerical values in the contigency table, we need to add a new column to classify the numerical values to represent them into a categorical value. Depending on the what suits the dataset."
   ]
  },
  {
   "cell_type": "code",
   "execution_count": 31,
   "metadata": {},
   "outputs": [
    {
     "data": {
      "text/html": [
       "<div>\n",
       "<style scoped>\n",
       "    .dataframe tbody tr th:only-of-type {\n",
       "        vertical-align: middle;\n",
       "    }\n",
       "\n",
       "    .dataframe tbody tr th {\n",
       "        vertical-align: top;\n",
       "    }\n",
       "\n",
       "    .dataframe thead th {\n",
       "        text-align: right;\n",
       "    }\n",
       "</style>\n",
       "<table border=\"1\" class=\"dataframe\">\n",
       "  <thead>\n",
       "    <tr style=\"text-align: right;\">\n",
       "      <th></th>\n",
       "      <th>gender</th>\n",
       "      <th>cis</th>\n",
       "      <th>req</th>\n",
       "      <th>dfd</th>\n",
       "      <th>erd</th>\n",
       "      <th>wght</th>\n",
       "      <th>status</th>\n",
       "    </tr>\n",
       "  </thead>\n",
       "  <tbody>\n",
       "    <tr>\n",
       "      <th>0</th>\n",
       "      <td>M</td>\n",
       "      <td>N</td>\n",
       "      <td>90.0</td>\n",
       "      <td>85.0</td>\n",
       "      <td>80.0</td>\n",
       "      <td>77.56</td>\n",
       "      <td>outstanding</td>\n",
       "    </tr>\n",
       "    <tr>\n",
       "      <th>1</th>\n",
       "      <td>M</td>\n",
       "      <td>Y</td>\n",
       "      <td>90.0</td>\n",
       "      <td>100.0</td>\n",
       "      <td>90.0</td>\n",
       "      <td>81.85</td>\n",
       "      <td>outstanding</td>\n",
       "    </tr>\n",
       "    <tr>\n",
       "      <th>2</th>\n",
       "      <td>M</td>\n",
       "      <td>Y</td>\n",
       "      <td>90.0</td>\n",
       "      <td>100.0</td>\n",
       "      <td>90.0</td>\n",
       "      <td>84.59</td>\n",
       "      <td>outstanding</td>\n",
       "    </tr>\n",
       "    <tr>\n",
       "      <th>3</th>\n",
       "      <td>F</td>\n",
       "      <td>Y</td>\n",
       "      <td>90.0</td>\n",
       "      <td>50.0</td>\n",
       "      <td>85.0</td>\n",
       "      <td>81.30</td>\n",
       "      <td>outstanding</td>\n",
       "    </tr>\n",
       "    <tr>\n",
       "      <th>6</th>\n",
       "      <td>F</td>\n",
       "      <td>N</td>\n",
       "      <td>90.0</td>\n",
       "      <td>80.0</td>\n",
       "      <td>80.0</td>\n",
       "      <td>78.43</td>\n",
       "      <td>outstanding</td>\n",
       "    </tr>\n",
       "    <tr>\n",
       "      <th>...</th>\n",
       "      <td>...</td>\n",
       "      <td>...</td>\n",
       "      <td>...</td>\n",
       "      <td>...</td>\n",
       "      <td>...</td>\n",
       "      <td>...</td>\n",
       "      <td>...</td>\n",
       "    </tr>\n",
       "    <tr>\n",
       "      <th>87</th>\n",
       "      <td>M</td>\n",
       "      <td>Y</td>\n",
       "      <td>85.0</td>\n",
       "      <td>70.0</td>\n",
       "      <td>50.0</td>\n",
       "      <td>66.84</td>\n",
       "      <td>poor</td>\n",
       "    </tr>\n",
       "    <tr>\n",
       "      <th>89</th>\n",
       "      <td>F</td>\n",
       "      <td>Y</td>\n",
       "      <td>80.0</td>\n",
       "      <td>40.0</td>\n",
       "      <td>50.0</td>\n",
       "      <td>67.10</td>\n",
       "      <td>poor</td>\n",
       "    </tr>\n",
       "    <tr>\n",
       "      <th>90</th>\n",
       "      <td>M</td>\n",
       "      <td>Y</td>\n",
       "      <td>95.0</td>\n",
       "      <td>100.0</td>\n",
       "      <td>80.0</td>\n",
       "      <td>93.50</td>\n",
       "      <td>outstanding</td>\n",
       "    </tr>\n",
       "    <tr>\n",
       "      <th>92</th>\n",
       "      <td>F</td>\n",
       "      <td>N</td>\n",
       "      <td>95.0</td>\n",
       "      <td>40.0</td>\n",
       "      <td>80.0</td>\n",
       "      <td>71.74</td>\n",
       "      <td>poor</td>\n",
       "    </tr>\n",
       "    <tr>\n",
       "      <th>96</th>\n",
       "      <td>M</td>\n",
       "      <td>Y</td>\n",
       "      <td>67.0</td>\n",
       "      <td>70.0</td>\n",
       "      <td>50.0</td>\n",
       "      <td>66.49</td>\n",
       "      <td>poor</td>\n",
       "    </tr>\n",
       "  </tbody>\n",
       "</table>\n",
       "<p>74 rows × 7 columns</p>\n",
       "</div>"
      ],
      "text/plain": [
       "   gender cis   req    dfd   erd   wght       status\n",
       "0       M   N  90.0   85.0  80.0  77.56  outstanding\n",
       "1       M   Y  90.0  100.0  90.0  81.85  outstanding\n",
       "2       M   Y  90.0  100.0  90.0  84.59  outstanding\n",
       "3       F   Y  90.0   50.0  85.0  81.30  outstanding\n",
       "6       F   N  90.0   80.0  80.0  78.43  outstanding\n",
       "..    ...  ..   ...    ...   ...    ...          ...\n",
       "87      M   Y  85.0   70.0  50.0  66.84         poor\n",
       "89      F   Y  80.0   40.0  50.0  67.10         poor\n",
       "90      M   Y  95.0  100.0  80.0  93.50  outstanding\n",
       "92      F   N  95.0   40.0  80.0  71.74         poor\n",
       "96      M   Y  67.0   70.0  50.0  66.49         poor\n",
       "\n",
       "[74 rows x 7 columns]"
      ]
     },
     "execution_count": 31,
     "metadata": {},
     "output_type": "execute_result"
    }
   ],
   "source": [
    "import numpy as np\n",
    "\n",
    "#sd['status']=np.where(sd.wght >= 76, 'outstanding', 'poor')\n",
    "#sd\n",
    "\n",
    "# or we can do it with a for loop:\n",
    "sd['status'] = ['outstanding' if x >= 76 else 'poor' for x in sd['wght']]\n",
    "sd"
   ]
  },
  {
   "cell_type": "code",
   "execution_count": null,
   "metadata": {},
   "outputs": [],
   "source": []
  },
  {
   "cell_type": "code",
   "execution_count": 32,
   "metadata": {},
   "outputs": [
    {
     "name": "stdout",
     "output_type": "stream",
     "text": [
      "\n",
      " --- Sum from two categories by class status --- \n",
      "\n"
     ]
    },
    {
     "data": {
      "text/html": [
       "<div>\n",
       "<style scoped>\n",
       "    .dataframe tbody tr th:only-of-type {\n",
       "        vertical-align: middle;\n",
       "    }\n",
       "\n",
       "    .dataframe tbody tr th {\n",
       "        vertical-align: top;\n",
       "    }\n",
       "\n",
       "    .dataframe thead th {\n",
       "        text-align: right;\n",
       "    }\n",
       "</style>\n",
       "<table border=\"1\" class=\"dataframe\">\n",
       "  <thead>\n",
       "    <tr style=\"text-align: right;\">\n",
       "      <th></th>\n",
       "      <th>status</th>\n",
       "      <th>outstanding</th>\n",
       "      <th>poor</th>\n",
       "      <th>All</th>\n",
       "    </tr>\n",
       "    <tr>\n",
       "      <th>gender</th>\n",
       "      <th>cis</th>\n",
       "      <th></th>\n",
       "      <th></th>\n",
       "      <th></th>\n",
       "    </tr>\n",
       "  </thead>\n",
       "  <tbody>\n",
       "    <tr>\n",
       "      <th rowspan=\"2\" valign=\"top\">F</th>\n",
       "      <th>N</th>\n",
       "      <td>9</td>\n",
       "      <td>7</td>\n",
       "      <td>16</td>\n",
       "    </tr>\n",
       "    <tr>\n",
       "      <th>Y</th>\n",
       "      <td>9</td>\n",
       "      <td>5</td>\n",
       "      <td>14</td>\n",
       "    </tr>\n",
       "    <tr>\n",
       "      <th rowspan=\"2\" valign=\"top\">M</th>\n",
       "      <th>N</th>\n",
       "      <td>4</td>\n",
       "      <td>8</td>\n",
       "      <td>12</td>\n",
       "    </tr>\n",
       "    <tr>\n",
       "      <th>Y</th>\n",
       "      <td>23</td>\n",
       "      <td>9</td>\n",
       "      <td>32</td>\n",
       "    </tr>\n",
       "    <tr>\n",
       "      <th>All</th>\n",
       "      <th></th>\n",
       "      <td>45</td>\n",
       "      <td>29</td>\n",
       "      <td>74</td>\n",
       "    </tr>\n",
       "  </tbody>\n",
       "</table>\n",
       "</div>"
      ],
      "text/plain": [
       "status      outstanding  poor  All\n",
       "gender cis                        \n",
       "F      N              9     7   16\n",
       "       Y              9     5   14\n",
       "M      N              4     8   12\n",
       "       Y             23     9   32\n",
       "All                  45    29   74"
      ]
     },
     "execution_count": 32,
     "metadata": {},
     "output_type": "execute_result"
    },
    {
     "name": "stdout",
     "output_type": "stream",
     "text": [
      "\n",
      " --- Percentage from two categories by class status --- \n",
      "\n"
     ]
    },
    {
     "data": {
      "text/html": [
       "<div>\n",
       "<style scoped>\n",
       "    .dataframe tbody tr th:only-of-type {\n",
       "        vertical-align: middle;\n",
       "    }\n",
       "\n",
       "    .dataframe tbody tr th {\n",
       "        vertical-align: top;\n",
       "    }\n",
       "\n",
       "    .dataframe thead th {\n",
       "        text-align: right;\n",
       "    }\n",
       "</style>\n",
       "<table border=\"1\" class=\"dataframe\">\n",
       "  <thead>\n",
       "    <tr style=\"text-align: right;\">\n",
       "      <th></th>\n",
       "      <th>status</th>\n",
       "      <th>outstanding</th>\n",
       "      <th>poor</th>\n",
       "      <th>All</th>\n",
       "    </tr>\n",
       "    <tr>\n",
       "      <th>gender</th>\n",
       "      <th>cis</th>\n",
       "      <th></th>\n",
       "      <th></th>\n",
       "      <th></th>\n",
       "    </tr>\n",
       "  </thead>\n",
       "  <tbody>\n",
       "    <tr>\n",
       "      <th rowspan=\"2\" valign=\"top\">F</th>\n",
       "      <th>N</th>\n",
       "      <td>0.200000</td>\n",
       "      <td>0.241379</td>\n",
       "      <td>0.216216</td>\n",
       "    </tr>\n",
       "    <tr>\n",
       "      <th>Y</th>\n",
       "      <td>0.200000</td>\n",
       "      <td>0.172414</td>\n",
       "      <td>0.189189</td>\n",
       "    </tr>\n",
       "    <tr>\n",
       "      <th rowspan=\"2\" valign=\"top\">M</th>\n",
       "      <th>N</th>\n",
       "      <td>0.088889</td>\n",
       "      <td>0.275862</td>\n",
       "      <td>0.162162</td>\n",
       "    </tr>\n",
       "    <tr>\n",
       "      <th>Y</th>\n",
       "      <td>0.511111</td>\n",
       "      <td>0.310345</td>\n",
       "      <td>0.432432</td>\n",
       "    </tr>\n",
       "  </tbody>\n",
       "</table>\n",
       "</div>"
      ],
      "text/plain": [
       "status      outstanding      poor       All\n",
       "gender cis                                 \n",
       "F      N       0.200000  0.241379  0.216216\n",
       "       Y       0.200000  0.172414  0.189189\n",
       "M      N       0.088889  0.275862  0.162162\n",
       "       Y       0.511111  0.310345  0.432432"
      ]
     },
     "execution_count": 32,
     "metadata": {},
     "output_type": "execute_result"
    },
    {
     "name": "stdout",
     "output_type": "stream",
     "text": [
      "\n",
      " --- Percentage by gender --- \n",
      "\n"
     ]
    },
    {
     "data": {
      "text/html": [
       "<div>\n",
       "<style scoped>\n",
       "    .dataframe tbody tr th:only-of-type {\n",
       "        vertical-align: middle;\n",
       "    }\n",
       "\n",
       "    .dataframe tbody tr th {\n",
       "        vertical-align: top;\n",
       "    }\n",
       "\n",
       "    .dataframe thead th {\n",
       "        text-align: right;\n",
       "    }\n",
       "</style>\n",
       "<table border=\"1\" class=\"dataframe\">\n",
       "  <thead>\n",
       "    <tr style=\"text-align: right;\">\n",
       "      <th></th>\n",
       "      <th>gndrct</th>\n",
       "      <th>percentage</th>\n",
       "    </tr>\n",
       "  </thead>\n",
       "  <tbody>\n",
       "    <tr>\n",
       "      <th>M</th>\n",
       "      <td>44</td>\n",
       "      <td>0.594595</td>\n",
       "    </tr>\n",
       "    <tr>\n",
       "      <th>F</th>\n",
       "      <td>30</td>\n",
       "      <td>0.405405</td>\n",
       "    </tr>\n",
       "  </tbody>\n",
       "</table>\n",
       "</div>"
      ],
      "text/plain": [
       "   gndrct  percentage\n",
       "M      44    0.594595\n",
       "F      30    0.405405"
      ]
     },
     "execution_count": 32,
     "metadata": {},
     "output_type": "execute_result"
    },
    {
     "data": {
      "text/plain": [
       "<seaborn.axisgrid.FacetGrid at 0x7fd968970ac0>"
      ]
     },
     "execution_count": 32,
     "metadata": {},
     "output_type": "execute_result"
    },
    {
     "data": {
      "image/png": "[encoded data removed]",
      "text/plain": [
       "<Figure size 403.5x360 with 1 Axes>"
      ]
     },
     "metadata": {
      "needs_background": "light"
     },
     "output_type": "display_data"
    }
   ],
   "source": [
    "# now we can do a crosstab to see how many students are doing in the class\n",
    "\n",
    "import pandas as pd\n",
    "import matplotlib.pyplot as plt\n",
    "import seaborn as sns\n",
    "\n",
    "print('\\n --- Sum from two categories by class status --- \\n')\n",
    "pd.crosstab([sd.gender, sd.cis], sd['status'], margins=True)\n",
    "\n",
    "print('\\n --- Percentage from two categories by class status --- \\n')\n",
    "pd.crosstab([sd.gender, sd.cis], sd['status'], margins=True, normalize='columns')\n",
    "\n",
    "print('\\n --- Percentage by gender --- \\n')\n",
    "\n",
    "genderdf\n",
    "\n",
    "sns.catplot(x=\"gender\", y=\"wght\", hue=\"cis\", kind=\"swarm\", data=sd)\n",
    "\n",
    "\n",
    "\n",
    "\n",
    "\n",
    "\n"
   ]
  },
  {
   "cell_type": "code",
   "execution_count": 33,
   "metadata": {},
   "outputs": [
    {
     "name": "stdout",
     "output_type": "stream",
     "text": [
      "\n",
      " --- CIS & NON-CIS Students Count / Mean / Standard Deviation --- \n",
      "\n"
     ]
    },
    {
     "data": {
      "text/html": [
       "<div>\n",
       "<style scoped>\n",
       "    .dataframe tbody tr th:only-of-type {\n",
       "        vertical-align: middle;\n",
       "    }\n",
       "\n",
       "    .dataframe tbody tr th {\n",
       "        vertical-align: top;\n",
       "    }\n",
       "\n",
       "    .dataframe thead tr th {\n",
       "        text-align: left;\n",
       "    }\n",
       "\n",
       "    .dataframe thead tr:last-of-type th {\n",
       "        text-align: right;\n",
       "    }\n",
       "</style>\n",
       "<table border=\"1\" class=\"dataframe\">\n",
       "  <thead>\n",
       "    <tr>\n",
       "      <th></th>\n",
       "      <th colspan=\"3\" halign=\"left\">req</th>\n",
       "      <th colspan=\"3\" halign=\"left\">dfd</th>\n",
       "      <th colspan=\"3\" halign=\"left\">erd</th>\n",
       "    </tr>\n",
       "    <tr>\n",
       "      <th></th>\n",
       "      <th>count</th>\n",
       "      <th>mean</th>\n",
       "      <th>std</th>\n",
       "      <th>count</th>\n",
       "      <th>mean</th>\n",
       "      <th>std</th>\n",
       "      <th>count</th>\n",
       "      <th>mean</th>\n",
       "      <th>std</th>\n",
       "    </tr>\n",
       "    <tr>\n",
       "      <th>cis</th>\n",
       "      <th></th>\n",
       "      <th></th>\n",
       "      <th></th>\n",
       "      <th></th>\n",
       "      <th></th>\n",
       "      <th></th>\n",
       "      <th></th>\n",
       "      <th></th>\n",
       "      <th></th>\n",
       "    </tr>\n",
       "  </thead>\n",
       "  <tbody>\n",
       "    <tr>\n",
       "      <th>N</th>\n",
       "      <td>28</td>\n",
       "      <td>81.250000</td>\n",
       "      <td>11.834116</td>\n",
       "      <td>28</td>\n",
       "      <td>65.357143</td>\n",
       "      <td>25.817327</td>\n",
       "      <td>28</td>\n",
       "      <td>65.535714</td>\n",
       "      <td>21.872496</td>\n",
       "    </tr>\n",
       "    <tr>\n",
       "      <th>Y</th>\n",
       "      <td>46</td>\n",
       "      <td>85.152174</td>\n",
       "      <td>13.248006</td>\n",
       "      <td>46</td>\n",
       "      <td>73.913043</td>\n",
       "      <td>25.536750</td>\n",
       "      <td>46</td>\n",
       "      <td>75.543478</td>\n",
       "      <td>17.676986</td>\n",
       "    </tr>\n",
       "  </tbody>\n",
       "</table>\n",
       "</div>"
      ],
      "text/plain": [
       "      req                         dfd                         erd             \\\n",
       "    count       mean        std count       mean        std count       mean   \n",
       "cis                                                                            \n",
       "N      28  81.250000  11.834116    28  65.357143  25.817327    28  65.535714   \n",
       "Y      46  85.152174  13.248006    46  73.913043  25.536750    46  75.543478   \n",
       "\n",
       "                \n",
       "           std  \n",
       "cis             \n",
       "N    21.872496  \n",
       "Y    17.676986  "
      ]
     },
     "execution_count": 33,
     "metadata": {},
     "output_type": "execute_result"
    }
   ],
   "source": [
    "#Aggregate statistics by CIS students\n",
    "\n",
    "\n",
    "print('\\n --- CIS & NON-CIS Students Count / Mean / Standard Deviation --- \\n')\n",
    "\n",
    "agfunc=['count','mean','std'] #set up the functions as list\n",
    "dict_str={'req':agfunc, 'dfd':agfunc, 'erd':agfunc} #create dictionary; columns with aggfunctions!!\n",
    "sd.groupby('cis').agg(dict_str)\n",
    "\n"
   ]
  },
  {
   "cell_type": "code",
   "execution_count": 34,
   "metadata": {},
   "outputs": [
    {
     "name": "stdout",
     "output_type": "stream",
     "text": [
      "\n",
      " --- Gender Student Count / Mean / Standard Deviation --- \n",
      "\n"
     ]
    },
    {
     "data": {
      "text/html": [
       "<div>\n",
       "<style scoped>\n",
       "    .dataframe tbody tr th:only-of-type {\n",
       "        vertical-align: middle;\n",
       "    }\n",
       "\n",
       "    .dataframe tbody tr th {\n",
       "        vertical-align: top;\n",
       "    }\n",
       "\n",
       "    .dataframe thead tr th {\n",
       "        text-align: left;\n",
       "    }\n",
       "\n",
       "    .dataframe thead tr:last-of-type th {\n",
       "        text-align: right;\n",
       "    }\n",
       "</style>\n",
       "<table border=\"1\" class=\"dataframe\">\n",
       "  <thead>\n",
       "    <tr>\n",
       "      <th></th>\n",
       "      <th colspan=\"3\" halign=\"left\">req</th>\n",
       "      <th colspan=\"3\" halign=\"left\">dfd</th>\n",
       "      <th colspan=\"3\" halign=\"left\">erd</th>\n",
       "    </tr>\n",
       "    <tr>\n",
       "      <th></th>\n",
       "      <th>count</th>\n",
       "      <th>mean</th>\n",
       "      <th>std</th>\n",
       "      <th>count</th>\n",
       "      <th>mean</th>\n",
       "      <th>std</th>\n",
       "      <th>count</th>\n",
       "      <th>mean</th>\n",
       "      <th>std</th>\n",
       "    </tr>\n",
       "    <tr>\n",
       "      <th>gender</th>\n",
       "      <th></th>\n",
       "      <th></th>\n",
       "      <th></th>\n",
       "      <th></th>\n",
       "      <th></th>\n",
       "      <th></th>\n",
       "      <th></th>\n",
       "      <th></th>\n",
       "      <th></th>\n",
       "    </tr>\n",
       "  </thead>\n",
       "  <tbody>\n",
       "    <tr>\n",
       "      <th>F</th>\n",
       "      <td>30</td>\n",
       "      <td>83.000000</td>\n",
       "      <td>13.620471</td>\n",
       "      <td>30</td>\n",
       "      <td>67.166667</td>\n",
       "      <td>25.619340</td>\n",
       "      <td>30</td>\n",
       "      <td>72.333333</td>\n",
       "      <td>19.241359</td>\n",
       "    </tr>\n",
       "    <tr>\n",
       "      <th>M</th>\n",
       "      <td>44</td>\n",
       "      <td>84.136364</td>\n",
       "      <td>12.333714</td>\n",
       "      <td>44</td>\n",
       "      <td>73.068182</td>\n",
       "      <td>25.952011</td>\n",
       "      <td>44</td>\n",
       "      <td>71.363636</td>\n",
       "      <td>20.441739</td>\n",
       "    </tr>\n",
       "  </tbody>\n",
       "</table>\n",
       "</div>"
      ],
      "text/plain": [
       "         req                         dfd                         erd  \\\n",
       "       count       mean        std count       mean        std count   \n",
       "gender                                                                 \n",
       "F         30  83.000000  13.620471    30  67.166667  25.619340    30   \n",
       "M         44  84.136364  12.333714    44  73.068182  25.952011    44   \n",
       "\n",
       "                              \n",
       "             mean        std  \n",
       "gender                        \n",
       "F       72.333333  19.241359  \n",
       "M       71.363636  20.441739  "
      ]
     },
     "execution_count": 34,
     "metadata": {},
     "output_type": "execute_result"
    }
   ],
   "source": [
    "# by gender\n",
    "print('\\n --- Gender Student Count / Mean / Standard Deviation --- \\n')\n",
    "\n",
    "agfunc=['count','mean','std'] #set up the functions as list\n",
    "dict_str={'req':agfunc, 'dfd':agfunc, 'erd':agfunc} #create dictionary; columns with aggfunctions!!\n",
    "sd.groupby('gender').agg(dict_str)\n",
    "\n"
   ]
  },
  {
   "cell_type": "code",
   "execution_count": 35,
   "metadata": {},
   "outputs": [
    {
     "data": {
      "text/html": [
       "<div>\n",
       "<style scoped>\n",
       "    .dataframe tbody tr th:only-of-type {\n",
       "        vertical-align: middle;\n",
       "    }\n",
       "\n",
       "    .dataframe tbody tr th {\n",
       "        vertical-align: top;\n",
       "    }\n",
       "\n",
       "    .dataframe thead tr th {\n",
       "        text-align: left;\n",
       "    }\n",
       "\n",
       "    .dataframe thead tr:last-of-type th {\n",
       "        text-align: right;\n",
       "    }\n",
       "</style>\n",
       "<table border=\"1\" class=\"dataframe\">\n",
       "  <thead>\n",
       "    <tr>\n",
       "      <th></th>\n",
       "      <th></th>\n",
       "      <th colspan=\"3\" halign=\"left\">req</th>\n",
       "      <th colspan=\"3\" halign=\"left\">dfd</th>\n",
       "      <th colspan=\"3\" halign=\"left\">erd</th>\n",
       "    </tr>\n",
       "    <tr>\n",
       "      <th></th>\n",
       "      <th></th>\n",
       "      <th>count</th>\n",
       "      <th>mean</th>\n",
       "      <th>std</th>\n",
       "      <th>count</th>\n",
       "      <th>mean</th>\n",
       "      <th>std</th>\n",
       "      <th>count</th>\n",
       "      <th>mean</th>\n",
       "      <th>std</th>\n",
       "    </tr>\n",
       "    <tr>\n",
       "      <th>gender</th>\n",
       "      <th>cis</th>\n",
       "      <th></th>\n",
       "      <th></th>\n",
       "      <th></th>\n",
       "      <th></th>\n",
       "      <th></th>\n",
       "      <th></th>\n",
       "      <th></th>\n",
       "      <th></th>\n",
       "      <th></th>\n",
       "    </tr>\n",
       "  </thead>\n",
       "  <tbody>\n",
       "    <tr>\n",
       "      <th rowspan=\"2\" valign=\"top\">F</th>\n",
       "      <th>N</th>\n",
       "      <td>16</td>\n",
       "      <td>81.562500</td>\n",
       "      <td>13.870683</td>\n",
       "      <td>16</td>\n",
       "      <td>65.625000</td>\n",
       "      <td>24.554361</td>\n",
       "      <td>16</td>\n",
       "      <td>68.750000</td>\n",
       "      <td>20.776589</td>\n",
       "    </tr>\n",
       "    <tr>\n",
       "      <th>Y</th>\n",
       "      <td>14</td>\n",
       "      <td>84.642857</td>\n",
       "      <td>13.652879</td>\n",
       "      <td>14</td>\n",
       "      <td>68.928571</td>\n",
       "      <td>27.608428</td>\n",
       "      <td>14</td>\n",
       "      <td>76.428571</td>\n",
       "      <td>17.145146</td>\n",
       "    </tr>\n",
       "    <tr>\n",
       "      <th rowspan=\"2\" valign=\"top\">M</th>\n",
       "      <th>N</th>\n",
       "      <td>12</td>\n",
       "      <td>80.833333</td>\n",
       "      <td>9.003366</td>\n",
       "      <td>12</td>\n",
       "      <td>65.000000</td>\n",
       "      <td>28.524312</td>\n",
       "      <td>12</td>\n",
       "      <td>61.250000</td>\n",
       "      <td>23.464189</td>\n",
       "    </tr>\n",
       "    <tr>\n",
       "      <th>Y</th>\n",
       "      <td>32</td>\n",
       "      <td>85.375000</td>\n",
       "      <td>13.282902</td>\n",
       "      <td>32</td>\n",
       "      <td>76.093750</td>\n",
       "      <td>24.715620</td>\n",
       "      <td>32</td>\n",
       "      <td>75.156250</td>\n",
       "      <td>18.160768</td>\n",
       "    </tr>\n",
       "  </tbody>\n",
       "</table>\n",
       "</div>"
      ],
      "text/plain": [
       "             req                         dfd                         erd  \\\n",
       "           count       mean        std count       mean        std count   \n",
       "gender cis                                                                 \n",
       "F      N      16  81.562500  13.870683    16  65.625000  24.554361    16   \n",
       "       Y      14  84.642857  13.652879    14  68.928571  27.608428    14   \n",
       "M      N      12  80.833333   9.003366    12  65.000000  28.524312    12   \n",
       "       Y      32  85.375000  13.282902    32  76.093750  24.715620    32   \n",
       "\n",
       "                                  \n",
       "                 mean        std  \n",
       "gender cis                        \n",
       "F      N    68.750000  20.776589  \n",
       "       Y    76.428571  17.145146  \n",
       "M      N    61.250000  23.464189  \n",
       "       Y    75.156250  18.160768  "
      ]
     },
     "execution_count": 35,
     "metadata": {},
     "output_type": "execute_result"
    }
   ],
   "source": [
    "# Crosstab by cis and gender along with all the grades \n",
    "\n",
    "agfunc=['count','mean','std'] #set up the functions as list\n",
    "dict_str={'req':agfunc, 'dfd':agfunc, 'erd':agfunc} #create dictionary; columns with aggfunctions!!\n",
    "sd.groupby(['gender','cis']).agg(dict_str)"
   ]
  },
  {
   "cell_type": "markdown",
   "metadata": {},
   "source": [
    "# Observation 4: \n",
    "\n",
    "We can confirm the cluster outweights the number of CIS male students than female by more than half. We can also see almost a quarter of CIS male students have poor grade status in the class. \n",
    "\n",
    "However, a portion of (CIS & NON-CIS) females have better grades than males as seen in their weight for more than 85%."
   ]
  },
  {
   "cell_type": "code",
   "execution_count": 36,
   "metadata": {},
   "outputs": [
    {
     "data": {
      "text/html": [
       "<div>\n",
       "<style scoped>\n",
       "    .dataframe tbody tr th:only-of-type {\n",
       "        vertical-align: middle;\n",
       "    }\n",
       "\n",
       "    .dataframe tbody tr th {\n",
       "        vertical-align: top;\n",
       "    }\n",
       "\n",
       "    .dataframe thead tr th {\n",
       "        text-align: left;\n",
       "    }\n",
       "\n",
       "    .dataframe thead tr:last-of-type th {\n",
       "        text-align: right;\n",
       "    }\n",
       "</style>\n",
       "<table border=\"1\" class=\"dataframe\">\n",
       "  <thead>\n",
       "    <tr>\n",
       "      <th></th>\n",
       "      <th colspan=\"3\" halign=\"left\">req</th>\n",
       "      <th colspan=\"3\" halign=\"left\">dfd</th>\n",
       "      <th colspan=\"3\" halign=\"left\">erd</th>\n",
       "    </tr>\n",
       "    <tr>\n",
       "      <th></th>\n",
       "      <th>count</th>\n",
       "      <th>mean</th>\n",
       "      <th>std</th>\n",
       "      <th>count</th>\n",
       "      <th>mean</th>\n",
       "      <th>std</th>\n",
       "      <th>count</th>\n",
       "      <th>mean</th>\n",
       "      <th>std</th>\n",
       "    </tr>\n",
       "    <tr>\n",
       "      <th>gender</th>\n",
       "      <th></th>\n",
       "      <th></th>\n",
       "      <th></th>\n",
       "      <th></th>\n",
       "      <th></th>\n",
       "      <th></th>\n",
       "      <th></th>\n",
       "      <th></th>\n",
       "      <th></th>\n",
       "    </tr>\n",
       "  </thead>\n",
       "  <tbody>\n",
       "    <tr>\n",
       "      <th>F</th>\n",
       "      <td>30</td>\n",
       "      <td>83.000000</td>\n",
       "      <td>13.620471</td>\n",
       "      <td>30</td>\n",
       "      <td>67.166667</td>\n",
       "      <td>25.619340</td>\n",
       "      <td>30</td>\n",
       "      <td>72.333333</td>\n",
       "      <td>19.241359</td>\n",
       "    </tr>\n",
       "    <tr>\n",
       "      <th>M</th>\n",
       "      <td>44</td>\n",
       "      <td>84.136364</td>\n",
       "      <td>12.333714</td>\n",
       "      <td>44</td>\n",
       "      <td>73.068182</td>\n",
       "      <td>25.952011</td>\n",
       "      <td>44</td>\n",
       "      <td>71.363636</td>\n",
       "      <td>20.441739</td>\n",
       "    </tr>\n",
       "  </tbody>\n",
       "</table>\n",
       "</div>"
      ],
      "text/plain": [
       "         req                         dfd                         erd  \\\n",
       "       count       mean        std count       mean        std count   \n",
       "gender                                                                 \n",
       "F         30  83.000000  13.620471    30  67.166667  25.619340    30   \n",
       "M         44  84.136364  12.333714    44  73.068182  25.952011    44   \n",
       "\n",
       "                              \n",
       "             mean        std  \n",
       "gender                        \n",
       "F       72.333333  19.241359  \n",
       "M       71.363636  20.441739  "
      ]
     },
     "execution_count": 36,
     "metadata": {},
     "output_type": "execute_result"
    }
   ],
   "source": [
    "#for gender only\n",
    "\n",
    "agfunc=['count','mean','std'] #set up the functions as list\n",
    "dict_str={'req':agfunc, 'dfd':agfunc, 'erd':agfunc} #create dictionary; columns with aggfunctions!!\n",
    "sd.groupby('gender').agg(dict_str)\n"
   ]
  },
  {
   "cell_type": "code",
   "execution_count": 37,
   "metadata": {},
   "outputs": [
    {
     "name": "stdout",
     "output_type": "stream",
     "text": [
      "\n",
      " --- Pairplot for entire DataFrame --- \n",
      "\n"
     ]
    },
    {
     "data": {
      "text/plain": [
       "<seaborn.axisgrid.PairGrid at 0x7fd969002a60>"
      ]
     },
     "execution_count": 37,
     "metadata": {},
     "output_type": "execute_result"
    },
    {
     "data": {
      "image/png": "[encoded data removed]",
      "text/plain": [
       "<Figure size 720x720 with 20 Axes>"
      ]
     },
     "metadata": {
      "needs_background": "light"
     },
     "output_type": "display_data"
    }
   ],
   "source": [
    "import pandas as pd\n",
    "import matplotlib.pyplot as plt\n",
    "import seaborn as sns\n",
    "\n",
    "print('\\n --- Pairplot for entire DataFrame --- \\n')\n",
    "sns.pairplot(sd)"
   ]
  },
  {
   "cell_type": "code",
   "execution_count": 38,
   "metadata": {},
   "outputs": [
    {
     "name": "stdout",
     "output_type": "stream",
     "text": [
      "\n",
      " --- Pairplot for Gender --- \n",
      "\n"
     ]
    },
    {
     "data": {
      "text/plain": [
       "<seaborn.axisgrid.PairGrid at 0x7fd9680760a0>"
      ]
     },
     "execution_count": 38,
     "metadata": {},
     "output_type": "execute_result"
    },
    {
     "data": {
      "image/png": "[encoded data removed]",
      "text/plain": [
       "<Figure size 764.625x720 with 20 Axes>"
      ]
     },
     "metadata": {
      "needs_background": "light"
     },
     "output_type": "display_data"
    }
   ],
   "source": [
    "print('\\n --- Pairplot for Gender --- \\n')\n",
    "sns.pairplot(data=sd, hue='gender')\n",
    "\n"
   ]
  },
  {
   "cell_type": "code",
   "execution_count": 39,
   "metadata": {},
   "outputs": [
    {
     "name": "stdout",
     "output_type": "stream",
     "text": [
      "\n",
      " --- Pairplot for CIS/NON-CIS --- \n",
      "\n"
     ]
    },
    {
     "data": {
      "text/plain": [
       "<seaborn.axisgrid.PairGrid at 0x7fd969553520>"
      ]
     },
     "execution_count": 39,
     "metadata": {},
     "output_type": "execute_result"
    },
    {
     "data": {
      "image/png": "[encoded data removed]",
      "text/plain": [
       "<Figure size 763.5x720 with 20 Axes>"
      ]
     },
     "metadata": {
      "needs_background": "light"
     },
     "output_type": "display_data"
    }
   ],
   "source": [
    "print('\\n --- Pairplot for CIS/NON-CIS --- \\n')\n",
    "sns.pairplot(data=sd, hue='cis')"
   ]
  },
  {
   "cell_type": "markdown",
   "metadata": {},
   "source": [
    "# Correlations - Heatmaps"
   ]
  },
  {
   "cell_type": "code",
   "execution_count": 40,
   "metadata": {},
   "outputs": [
    {
     "data": {
      "text/plain": [
       "<AxesSubplot:>"
      ]
     },
     "execution_count": 40,
     "metadata": {},
     "output_type": "execute_result"
    },
    {
     "data": {
      "image/png": "[encoded data removed]",
      "text/plain": [
       "<Figure size 432x288 with 2 Axes>"
      ]
     },
     "metadata": {
      "needs_background": "light"
     },
     "output_type": "display_data"
    }
   ],
   "source": [
    "sns.heatmap(sd.corr(), annot=True, cmap='autumn')#entire dataframe in the heatmap\n"
   ]
  },
  {
   "cell_type": "markdown",
   "metadata": {},
   "source": [
    "# Corr. Observations: \n",
    "All three assingments somewhat correlated together to the total performance (make sense).\n",
    "Very weak relationship with req and dfd."
   ]
  },
  {
   "cell_type": "code",
   "execution_count": 41,
   "metadata": {},
   "outputs": [
    {
     "name": "stdout",
     "output_type": "stream",
     "text": [
      "\n",
      " --- Heatmap for Female Students --- \n",
      "\n"
     ]
    },
    {
     "data": {
      "text/plain": [
       "<AxesSubplot:>"
      ]
     },
     "execution_count": 41,
     "metadata": {},
     "output_type": "execute_result"
    },
    {
     "data": {
      "text/plain": [
       "0.6061277713774522"
      ]
     },
     "execution_count": 41,
     "metadata": {},
     "output_type": "execute_result"
    },
    {
     "data": {
      "image/png": "[encoded data removed]",
      "text/plain": [
       "<Figure size 432x288 with 2 Axes>"
      ]
     },
     "metadata": {
      "needs_background": "light"
     },
     "output_type": "display_data"
    }
   ],
   "source": [
    "print('\\n --- Heatmap for Female Students --- \\n')\n",
    "\n",
    "female=sd[sd['gender']== 'F']\n",
    "sns.heatmap(female.corr(), annot=True, cmap='PRGn')\n",
    "\n",
    "#Pearson Correlation\n",
    "\n",
    "females=sd[sd['gender']=='F']\n",
    "females['dfd'].corr(females['wght'])"
   ]
  },
  {
   "cell_type": "markdown",
   "metadata": {},
   "source": [
    "# Corr. Observations:\n",
    "\n",
    "\n",
    "Female students have a little more than average correlation between dfd assignment and the total performance.  \n",
    "\n",
    "While the other two assignments a little less correlated. We have, again, weak relationship between req and dfd along with erd."
   ]
  },
  {
   "cell_type": "code",
   "execution_count": 42,
   "metadata": {},
   "outputs": [
    {
     "name": "stdout",
     "output_type": "stream",
     "text": [
      "\n",
      " --- Heatmap for Male Students --- \n",
      "\n"
     ]
    },
    {
     "data": {
      "text/plain": [
       "<AxesSubplot:>"
      ]
     },
     "execution_count": 42,
     "metadata": {},
     "output_type": "execute_result"
    },
    {
     "data": {
      "text/plain": [
       "0.5576964527626181"
      ]
     },
     "execution_count": 42,
     "metadata": {},
     "output_type": "execute_result"
    },
    {
     "data": {
      "image/png": "[encoded data removed]",
      "text/plain": [
       "<Figure size 432x288 with 2 Axes>"
      ]
     },
     "metadata": {
      "needs_background": "light"
     },
     "output_type": "display_data"
    }
   ],
   "source": [
    "print('\\n --- Heatmap for Male Students --- \\n')\n",
    "\n",
    "\n",
    "male=sd[sd['gender']== 'M']\n",
    "sns.heatmap(male.corr(), annot=True, cmap='Paired')\n",
    "\n",
    "#Pearson correlation\n",
    "males=sd[sd['gender']=='M']\n",
    "males['erd'].corr(males['wght'])"
   ]
  },
  {
   "cell_type": "markdown",
   "metadata": {},
   "source": [
    "# Corr. Observations:\n",
    "Male student show to be somewhat correlated in their effort with the erd assignment. Students study more?\n",
    "\n",
    "Very weak relationship req and dfd assignment, again..."
   ]
  },
  {
   "cell_type": "code",
   "execution_count": 43,
   "metadata": {},
   "outputs": [
    {
     "data": {
      "text/plain": [
       "<AxesSubplot:>"
      ]
     },
     "execution_count": 43,
     "metadata": {},
     "output_type": "execute_result"
    },
    {
     "data": {
      "text/plain": [
       "-0.05763213008912129"
      ]
     },
     "execution_count": 43,
     "metadata": {},
     "output_type": "execute_result"
    },
    {
     "data": {
      "image/png": "[encoded data removed]",
      "text/plain": [
       "<Figure size 432x288 with 2 Axes>"
      ]
     },
     "metadata": {
      "needs_background": "light"
     },
     "output_type": "display_data"
    }
   ],
   "source": [
    "cis=sd[sd['cis']== 'Y']\n",
    "sns.heatmap(cis.corr(), annot=True, cmap='Reds')\n",
    "\n",
    "\n",
    "cisY=sd[sd['cis']=='Y']\n",
    "cisY['req'].corr(cisY['dfd'])"
   ]
  },
  {
   "cell_type": "markdown",
   "metadata": {},
   "source": [
    "# Corr Observations:\n",
    "\n",
    "Between req and dfd, CIS students show a weak relationship in their assignments, negative correlation. Flat relationship. \n",
    "\n",
    "Mild correlation between erd and their weight performance."
   ]
  },
  {
   "cell_type": "code",
   "execution_count": 44,
   "metadata": {},
   "outputs": [
    {
     "data": {
      "text/plain": [
       "<AxesSubplot:>"
      ]
     },
     "execution_count": 44,
     "metadata": {},
     "output_type": "execute_result"
    },
    {
     "data": {
      "image/png": "[encoded data removed]",
      "text/plain": [
       "<Figure size 432x288 with 2 Axes>"
      ]
     },
     "metadata": {
      "needs_background": "light"
     },
     "output_type": "display_data"
    }
   ],
   "source": [
    "cisN=sd[sd['cis']=='N']\n",
    "sns.heatmap(cisN.corr(), annot=True, cmap='Greens')\n"
   ]
  },
  {
   "cell_type": "markdown",
   "metadata": {},
   "source": [
    "# Corr observations: \n",
    "\n",
    "Mild relationship with all assignments with NON cis students.."
   ]
  },
  {
   "cell_type": "markdown",
   "metadata": {},
   "source": [
    "# Observation # 5:\n",
    "The heatmap can tells that there is a pattern of weak relationship between req and dfd in all four correlations. \n",
    "\n",
    "While most of them illustrate that the last assignment correlates with the total performance. \n",
    "\n",
    "Overall all three assignments have an average correlation with male/female students and CIS/NON-CIS students.\n",
    "\n",
    "\n",
    "\n",
    "\n",
    "\n",
    "\n"
   ]
  },
  {
   "cell_type": "code",
   "execution_count": 45,
   "metadata": {},
   "outputs": [],
   "source": [
    "import pandas as pd\n",
    "import numpy as np\n",
    "import matplotlib.pyplot as plt\n",
    "import seaborn as sns"
   ]
  },
  {
   "cell_type": "code",
   "execution_count": 46,
   "metadata": {},
   "outputs": [
    {
     "data": {
      "text/plain": [
       "gender    category\n",
       "cis       category\n",
       "req        float64\n",
       "dfd        float64\n",
       "erd        float64\n",
       "wght       float64\n",
       "status      object\n",
       "dtype: object"
      ]
     },
     "execution_count": 46,
     "metadata": {},
     "output_type": "execute_result"
    },
    {
     "data": {
      "text/html": [
       "<div>\n",
       "<style scoped>\n",
       "    .dataframe tbody tr th:only-of-type {\n",
       "        vertical-align: middle;\n",
       "    }\n",
       "\n",
       "    .dataframe tbody tr th {\n",
       "        vertical-align: top;\n",
       "    }\n",
       "\n",
       "    .dataframe thead th {\n",
       "        text-align: right;\n",
       "    }\n",
       "</style>\n",
       "<table border=\"1\" class=\"dataframe\">\n",
       "  <thead>\n",
       "    <tr style=\"text-align: right;\">\n",
       "      <th></th>\n",
       "      <th>req</th>\n",
       "      <th>dfd</th>\n",
       "      <th>erd</th>\n",
       "      <th>wght</th>\n",
       "    </tr>\n",
       "  </thead>\n",
       "  <tbody>\n",
       "    <tr>\n",
       "      <th>count</th>\n",
       "      <td>74.000000</td>\n",
       "      <td>74.000000</td>\n",
       "      <td>74.000000</td>\n",
       "      <td>74.000000</td>\n",
       "    </tr>\n",
       "    <tr>\n",
       "      <th>mean</th>\n",
       "      <td>83.675676</td>\n",
       "      <td>70.675676</td>\n",
       "      <td>71.756757</td>\n",
       "      <td>78.238108</td>\n",
       "    </tr>\n",
       "    <tr>\n",
       "      <th>std</th>\n",
       "      <td>12.791380</td>\n",
       "      <td>25.806502</td>\n",
       "      <td>19.835495</td>\n",
       "      <td>9.692136</td>\n",
       "    </tr>\n",
       "    <tr>\n",
       "      <th>min</th>\n",
       "      <td>50.000000</td>\n",
       "      <td>20.000000</td>\n",
       "      <td>30.000000</td>\n",
       "      <td>51.480000</td>\n",
       "    </tr>\n",
       "    <tr>\n",
       "      <th>25%</th>\n",
       "      <td>80.000000</td>\n",
       "      <td>50.000000</td>\n",
       "      <td>50.000000</td>\n",
       "      <td>71.075000</td>\n",
       "    </tr>\n",
       "    <tr>\n",
       "      <th>50%</th>\n",
       "      <td>90.000000</td>\n",
       "      <td>80.000000</td>\n",
       "      <td>80.000000</td>\n",
       "      <td>78.425000</td>\n",
       "    </tr>\n",
       "    <tr>\n",
       "      <th>75%</th>\n",
       "      <td>90.000000</td>\n",
       "      <td>90.000000</td>\n",
       "      <td>90.000000</td>\n",
       "      <td>84.230000</td>\n",
       "    </tr>\n",
       "    <tr>\n",
       "      <th>max</th>\n",
       "      <td>100.000000</td>\n",
       "      <td>100.000000</td>\n",
       "      <td>100.000000</td>\n",
       "      <td>96.950000</td>\n",
       "    </tr>\n",
       "  </tbody>\n",
       "</table>\n",
       "</div>"
      ],
      "text/plain": [
       "              req         dfd         erd       wght\n",
       "count   74.000000   74.000000   74.000000  74.000000\n",
       "mean    83.675676   70.675676   71.756757  78.238108\n",
       "std     12.791380   25.806502   19.835495   9.692136\n",
       "min     50.000000   20.000000   30.000000  51.480000\n",
       "25%     80.000000   50.000000   50.000000  71.075000\n",
       "50%     90.000000   80.000000   80.000000  78.425000\n",
       "75%     90.000000   90.000000   90.000000  84.230000\n",
       "max    100.000000  100.000000  100.000000  96.950000"
      ]
     },
     "execution_count": 46,
     "metadata": {},
     "output_type": "execute_result"
    },
    {
     "name": "stdout",
     "output_type": "stream",
     "text": [
      "<class 'pandas.core.frame.DataFrame'>\n",
      "Int64Index: 74 entries, 0 to 96\n",
      "Data columns (total 7 columns):\n",
      " #   Column  Non-Null Count  Dtype   \n",
      "---  ------  --------------  -----   \n",
      " 0   gender  74 non-null     category\n",
      " 1   cis     74 non-null     category\n",
      " 2   req     74 non-null     float64 \n",
      " 3   dfd     74 non-null     float64 \n",
      " 4   erd     74 non-null     float64 \n",
      " 5   wght    74 non-null     float64 \n",
      " 6   status  74 non-null     object  \n",
      "dtypes: category(2), float64(4), object(1)\n",
      "memory usage: 6.3+ KB\n"
     ]
    },
    {
     "data": {
      "text/plain": [
       "gender    category\n",
       "cis       category\n",
       "req        float64\n",
       "dfd        float64\n",
       "erd        float64\n",
       "wght       float64\n",
       "status    category\n",
       "dtype: object"
      ]
     },
     "execution_count": 46,
     "metadata": {},
     "output_type": "execute_result"
    }
   ],
   "source": [
    "sd.dtypes\n",
    "sd.describe()\n",
    "sd.info()\n",
    "\n",
    "#we need to change the data typr for new column 'status'\n",
    "sd['status']=sd.status.astype('category')\n",
    "\n",
    "sd.dtypes"
   ]
  },
  {
   "cell_type": "markdown",
   "metadata": {},
   "source": [
    "                                # # Data Analysis\n",
    "                                \n",
    "                                \n",
    "                                \n",
    "                                \n",
    "                                \n",
    "                                \n",
    "refer to chapter 8 and upcoming chapter 9 on multiple regression.\n",
    "This part may not be complete since you will need the EDA to guide you.\n",
    "In general, write down what you thoughts like with the columns of the sd dataframe,  what patterns would you expect to see? The set up some statistical analyses to test your \"theories\". "
   ]
  },
  {
   "cell_type": "markdown",
   "metadata": {},
   "source": [
    "# Chi-square test between gender and cis"
   ]
  },
  {
   "cell_type": "markdown",
   "metadata": {},
   "source": [
    "# Hypothesis :\n",
    "H0= gender is independent from majoring in cis\n",
    "\n",
    "Ha = gender is NOT independent from majoring in cis"
   ]
  },
  {
   "cell_type": "code",
   "execution_count": 47,
   "metadata": {},
   "outputs": [
    {
     "data": {
      "text/html": [
       "<div>\n",
       "<style scoped>\n",
       "    .dataframe tbody tr th:only-of-type {\n",
       "        vertical-align: middle;\n",
       "    }\n",
       "\n",
       "    .dataframe tbody tr th {\n",
       "        vertical-align: top;\n",
       "    }\n",
       "\n",
       "    .dataframe thead th {\n",
       "        text-align: right;\n",
       "    }\n",
       "</style>\n",
       "<table border=\"1\" class=\"dataframe\">\n",
       "  <thead>\n",
       "    <tr style=\"text-align: right;\">\n",
       "      <th>cis</th>\n",
       "      <th>N</th>\n",
       "      <th>Y</th>\n",
       "      <th>All</th>\n",
       "    </tr>\n",
       "    <tr>\n",
       "      <th>gender</th>\n",
       "      <th></th>\n",
       "      <th></th>\n",
       "      <th></th>\n",
       "    </tr>\n",
       "  </thead>\n",
       "  <tbody>\n",
       "    <tr>\n",
       "      <th>F</th>\n",
       "      <td>16</td>\n",
       "      <td>14</td>\n",
       "      <td>30</td>\n",
       "    </tr>\n",
       "    <tr>\n",
       "      <th>M</th>\n",
       "      <td>12</td>\n",
       "      <td>32</td>\n",
       "      <td>44</td>\n",
       "    </tr>\n",
       "    <tr>\n",
       "      <th>All</th>\n",
       "      <td>28</td>\n",
       "      <td>46</td>\n",
       "      <td>74</td>\n",
       "    </tr>\n",
       "  </tbody>\n",
       "</table>\n",
       "</div>"
      ],
      "text/plain": [
       "cis      N   Y  All\n",
       "gender             \n",
       "F       16  14   30\n",
       "M       12  32   44\n",
       "All     28  46   74"
      ]
     },
     "execution_count": 47,
     "metadata": {},
     "output_type": "execute_result"
    },
    {
     "name": "stdout",
     "output_type": "stream",
     "text": [
      "chi square is : 5.150612 with 4th degree of freedom and the p-value is    0.2721899454\n",
      "p value is 0.2721899454252265\n",
      "Independent (H0 holds true)\n"
     ]
    }
   ],
   "source": [
    "from scipy.stats import chi2_contingency\n",
    "\n",
    "\n",
    "gender_cis=pd.crosstab(sd['gender'],sd['cis'], margins=True)\n",
    "gender_cis\n",
    "\n",
    "\n",
    "stat, p, dof, expected = chi2_contingency(gender_cis)\n",
    "\n",
    "print('chi square is : %8.6f with %1dth degree of freedom and the p-value is %15.10f' % (stat,dof,p))\n",
    "\n",
    "alpha = 0.05\n",
    "print('p value is ' + str(p))\n",
    "if p <= alpha:\n",
    "    print('Dependent (Reject H0)')\n",
    "else:\n",
    "    print('Independent (H0 holds true)')\n",
    "    \n"
   ]
  },
  {
   "cell_type": "markdown",
   "metadata": {},
   "source": [
    "# Conclusion: gender and cis are independent, they are not mutually exclusive. We cannot reject null hypothesis. "
   ]
  },
  {
   "cell_type": "code",
   "execution_count": null,
   "metadata": {},
   "outputs": [],
   "source": []
  },
  {
   "cell_type": "code",
   "execution_count": null,
   "metadata": {},
   "outputs": [],
   "source": []
  },
  {
   "cell_type": "markdown",
   "metadata": {},
   "source": [
    "# HYPOTHESIS testing for CIS/NON-CIS students\n",
    "\n",
    "H0 = CIS/NON-CIS students are independent of their course status.\n",
    "\n",
    "\n",
    "Ha = CIS/NON-CIS students are NOT independent of their course status."
   ]
  },
  {
   "cell_type": "markdown",
   "metadata": {},
   "source": [
    "# Chi Square Test"
   ]
  },
  {
   "cell_type": "code",
   "execution_count": 48,
   "metadata": {},
   "outputs": [
    {
     "data": {
      "text/html": [
       "<div>\n",
       "<style scoped>\n",
       "    .dataframe tbody tr th:only-of-type {\n",
       "        vertical-align: middle;\n",
       "    }\n",
       "\n",
       "    .dataframe tbody tr th {\n",
       "        vertical-align: top;\n",
       "    }\n",
       "\n",
       "    .dataframe thead th {\n",
       "        text-align: right;\n",
       "    }\n",
       "</style>\n",
       "<table border=\"1\" class=\"dataframe\">\n",
       "  <thead>\n",
       "    <tr style=\"text-align: right;\">\n",
       "      <th>cis</th>\n",
       "      <th>N</th>\n",
       "      <th>Y</th>\n",
       "      <th>All</th>\n",
       "    </tr>\n",
       "    <tr>\n",
       "      <th>status</th>\n",
       "      <th></th>\n",
       "      <th></th>\n",
       "      <th></th>\n",
       "    </tr>\n",
       "  </thead>\n",
       "  <tbody>\n",
       "    <tr>\n",
       "      <th>outstanding</th>\n",
       "      <td>13</td>\n",
       "      <td>32</td>\n",
       "      <td>45</td>\n",
       "    </tr>\n",
       "    <tr>\n",
       "      <th>poor</th>\n",
       "      <td>15</td>\n",
       "      <td>14</td>\n",
       "      <td>29</td>\n",
       "    </tr>\n",
       "    <tr>\n",
       "      <th>All</th>\n",
       "      <td>28</td>\n",
       "      <td>46</td>\n",
       "      <td>74</td>\n",
       "    </tr>\n",
       "  </tbody>\n",
       "</table>\n",
       "</div>"
      ],
      "text/plain": [
       "cis           N   Y  All\n",
       "status                  \n",
       "outstanding  13  32   45\n",
       "poor         15  14   29\n",
       "All          28  46   74"
      ]
     },
     "execution_count": 48,
     "metadata": {},
     "output_type": "execute_result"
    },
    {
     "name": "stdout",
     "output_type": "stream",
     "text": [
      "chi square is : 3.909650 with 4th degree of freedom and the p-value is    0.4183714722\n",
      "p value is 0.41837147217536463\n",
      "Independent (H0 holds true)\n"
     ]
    }
   ],
   "source": [
    "# chi square test for CIS\n",
    "\n",
    "sd_cstatus=pd.crosstab(sd['status'], sd['cis'], margins=True)\n",
    "sd_cstatus\n",
    "\n",
    "\n",
    "\n",
    "from scipy.stats import chi2_contingency\n",
    "\n",
    "stat,p, dof, expected = chi2_contingency(sd_cstatus)\n",
    "\n",
    "#stat is the chi square, p is the p-value, and dof is degree of freedom. Expected means the array of expected values\n",
    "# for each cell of the table.\n",
    "\n",
    "print('chi square is : %8.6f with %1dth degree of freedom and the p-value is %15.10f' % (stat,dof,p))\n",
    "\n",
    "\n",
    "alpha = 0.05\n",
    "print('p value is ' + str(p))\n",
    "if p <= alpha:\n",
    "    print('Dependent (Reject H0)')\n",
    "else:\n",
    "    print('Independent (H0 holds true)')\n",
    "    \n",
    "\n",
    "\n",
    "\n"
   ]
  },
  {
   "cell_type": "markdown",
   "metadata": {},
   "source": [
    "# The conclusion refers to p-value is higher than alpha and less than chi square. Meaning student's major is independent from their grades. Does not affect their grade if the student is a CIS major or not."
   ]
  },
  {
   "cell_type": "markdown",
   "metadata": {},
   "source": [
    "# T-Test for CIS/NON-CIS"
   ]
  },
  {
   "cell_type": "markdown",
   "metadata": {},
   "source": [
    "H0 : u1 = u2 (the sample mean of CIS students is equal to NON-CIS students)\n",
    "\n",
    "Ha : u1 != u2 (the sample mean of CIS students is NOT equal to NON-CIS students)\n",
    "\n",
    "\n",
    "\n"
   ]
  },
  {
   "cell_type": "code",
   "execution_count": 49,
   "metadata": {},
   "outputs": [
    {
     "data": {
      "text/plain": [
       "Text(0.5, 1.0, 'CIS Students Weighted Performance')"
      ]
     },
     "execution_count": 49,
     "metadata": {},
     "output_type": "execute_result"
    },
    {
     "data": {
      "text/plain": [
       "Text(0.5, 1.0, 'NON-CIS Students Weighted Performance')"
      ]
     },
     "execution_count": 49,
     "metadata": {},
     "output_type": "execute_result"
    },
    {
     "data": {
      "text/plain": [
       "-0.09077601696360642"
      ]
     },
     "execution_count": 49,
     "metadata": {},
     "output_type": "execute_result"
    },
    {
     "data": {
      "text/plain": [
       "-0.5918581414040608"
      ]
     },
     "execution_count": 49,
     "metadata": {},
     "output_type": "execute_result"
    },
    {
     "data": {
      "text/plain": [
       "LeveneResult(statistic=0.23637031170888195, pvalue=0.6283165422935616)"
      ]
     },
     "execution_count": 49,
     "metadata": {},
     "output_type": "execute_result"
    },
    {
     "data": {
      "text/plain": [
       "Ttest_indResult(statistic=3.1999772613560227, pvalue=0.0020451071786437855)"
      ]
     },
     "execution_count": 49,
     "metadata": {},
     "output_type": "execute_result"
    },
    {
     "name": "stdout",
     "output_type": "stream",
     "text": [
      "\n",
      " ------------------------ \n",
      "\n",
      "CIS major students performance is statistically better/bigger than the NON-CIS major students\n",
      "\n",
      " ------------------------ \n",
      "\n",
      "CIS major students mean:  80.88826086956522\n",
      "NON-CIS major students mean:  73.88428571428571\n"
     ]
    },
    {
     "data": {
      "image/png": "[encoded data removed]",
      "text/plain": [
       "<Figure size 720x720 with 2 Axes>"
      ]
     },
     "metadata": {
      "needs_background": "light"
     },
     "output_type": "display_data"
    }
   ],
   "source": [
    "import scipy.stats as stats\n",
    "\n",
    "#create a histogram\n",
    "cissY= sd[sd['cis']=='Y']\n",
    "cissN= sd[sd['cis']=='N']\n",
    "fig, axs = plt.subplots(1,2, figsize =(10,10))\n",
    "sns.histplot(data=cissY ['wght'], kde = True, ax = axs[0]).set_title('CIS Students Weighted Performance')\n",
    "sns.histplot(data=cissN ['wght'], kde = True, ax = axs[1]).set_title('NON-CIS Students Weighted Performance')\n",
    "\n",
    "#confirm with skewness\n",
    "cissY['wght'].skew()\n",
    "cissN['wght'].skew()\n",
    "\n",
    "\n",
    "\n",
    "#null hypothesis for Levene: the variance are equal across all samples (alpha=0.05 < pvalue=0.78)\n",
    "#     we cannot reject H0 hypothesis\n",
    "# if this would have failed (alpha>pvalue) we have to run a Welch's t-test.\n",
    "stats.levene(cissY['wght'], cissN['wght'])\n",
    "\n",
    "\n",
    "\n",
    "# run independent test\n",
    "\n",
    "stats.ttest_ind(cissY['wght'], cissN['wght'])\n",
    "\n",
    "print('\\n ------------------------ \\n')\n",
    "\n",
    "\n",
    "\n",
    "#More specific and comparing means\n",
    "\n",
    "if (cissY['wght'].mean() ) > (cissN['wght'].mean() ):\n",
    "    print('CIS major students performance is statistically better/bigger than the NON-CIS major students')\n",
    "else:\n",
    "    print('NON-CIS major students performance is better/bigger than CIS major students performance')\n",
    "    \n",
    "    \n",
    "\n",
    "#CONFIRM by calculating their mean\n",
    "print('\\n ------------------------ \\n')\n",
    "print('CIS major students mean: ', cissY['wght'].mean())\n",
    "print('NON-CIS major students mean: ', cissN['wght'].mean())"
   ]
  },
  {
   "cell_type": "markdown",
   "metadata": {},
   "source": [
    "# Observation # 6: \n",
    "\n",
    "After creating histogram and running independent test, the skewness confirm that both distributions are somewhat normal. Skewness on both are stable and not beyond -1 or 1. As well as the p-value reflects that is higer than alpha and rejecting H0 hypothesis. Holding that the mean performance of CIS and NON-CIS sutdents ARE NOT THE SAME.\n",
    "\n",
    "\n",
    "The results explain that CIS major students perform better than NON-CIS major students. The Chi-square results shows that students and grades and independent from each other, meaning, it does not matter if they are CIS or NON-CIS that affect could their grade.Furthermore, T-Test illustrated that their means are different and statistically reflected CIS students outperform NON-CIS students in their total weighted performance.\n"
   ]
  },
  {
   "cell_type": "markdown",
   "metadata": {},
   "source": [
    "# Hypothesis testing for Gender\n",
    "\n",
    "H0 = Male and Female students are independent of their course status.\n",
    "\n",
    "Ha = Males and Female students are NOT independent of their course status."
   ]
  },
  {
   "cell_type": "markdown",
   "metadata": {},
   "source": [
    "# Chi-square test"
   ]
  },
  {
   "cell_type": "code",
   "execution_count": 50,
   "metadata": {},
   "outputs": [
    {
     "data": {
      "text/html": [
       "<div>\n",
       "<style scoped>\n",
       "    .dataframe tbody tr th:only-of-type {\n",
       "        vertical-align: middle;\n",
       "    }\n",
       "\n",
       "    .dataframe tbody tr th {\n",
       "        vertical-align: top;\n",
       "    }\n",
       "\n",
       "    .dataframe thead th {\n",
       "        text-align: right;\n",
       "    }\n",
       "</style>\n",
       "<table border=\"1\" class=\"dataframe\">\n",
       "  <thead>\n",
       "    <tr style=\"text-align: right;\">\n",
       "      <th>gender</th>\n",
       "      <th>F</th>\n",
       "      <th>M</th>\n",
       "      <th>All</th>\n",
       "    </tr>\n",
       "    <tr>\n",
       "      <th>status</th>\n",
       "      <th></th>\n",
       "      <th></th>\n",
       "      <th></th>\n",
       "    </tr>\n",
       "  </thead>\n",
       "  <tbody>\n",
       "    <tr>\n",
       "      <th>outstanding</th>\n",
       "      <td>18</td>\n",
       "      <td>27</td>\n",
       "      <td>45</td>\n",
       "    </tr>\n",
       "    <tr>\n",
       "      <th>poor</th>\n",
       "      <td>12</td>\n",
       "      <td>17</td>\n",
       "      <td>29</td>\n",
       "    </tr>\n",
       "    <tr>\n",
       "      <th>All</th>\n",
       "      <td>30</td>\n",
       "      <td>44</td>\n",
       "      <td>74</td>\n",
       "    </tr>\n",
       "  </tbody>\n",
       "</table>\n",
       "</div>"
      ],
      "text/plain": [
       "gender        F   M  All\n",
       "status                  \n",
       "outstanding  18  27   45\n",
       "poor         12  17   29\n",
       "All          30  44   74"
      ]
     },
     "execution_count": 50,
     "metadata": {},
     "output_type": "execute_result"
    },
    {
     "name": "stdout",
     "output_type": "stream",
     "text": [
      "chi square is : 0.013918 with 4th degree of freedom and the p-value is    0.9999758965\n",
      "p value is 0.999975896491498\n",
      "Independent (H0 holds true)\n"
     ]
    }
   ],
   "source": [
    "sd_gstatus=pd.crosstab(sd['status'], sd['gender'], margins=True)\n",
    "sd_gstatus\n",
    "\n",
    "\n",
    "\n",
    "from scipy.stats import chi2_contingency\n",
    "\n",
    "stat,p, dof, expected = chi2_contingency(sd_gstatus)\n",
    "\n",
    "#stat is the chi square, p is the p-value, and dof is degree of freedom. Expected means the array of expected values\n",
    "# for each cell of the table.\n",
    "\n",
    "print('chi square is : %8.6f with %1dth degree of freedom and the p-value is %15.10f' % (stat,dof,p))\n",
    "\n",
    "\n",
    "alpha = 0.05\n",
    "print('p value is ' + str(p))\n",
    "if p <= alpha:\n",
    "    print('Dependent (Reject H0)')\n",
    "else:\n",
    "    print('Independent (H0 holds true)')\n",
    "    \n",
    "\n"
   ]
  },
  {
   "cell_type": "code",
   "execution_count": 51,
   "metadata": {},
   "outputs": [
    {
     "data": {
      "text/plain": [
       "Text(0.5, 1.0, 'Male students Weighted Performance')"
      ]
     },
     "execution_count": 51,
     "metadata": {},
     "output_type": "execute_result"
    },
    {
     "data": {
      "text/plain": [
       "Text(0.5, 1.0, 'Female stuents Weighted Performance')"
      ]
     },
     "execution_count": 51,
     "metadata": {},
     "output_type": "execute_result"
    },
    {
     "name": "stdout",
     "output_type": "stream",
     "text": [
      "Male Skew:  \n",
      " -0.1456292496262542\n",
      "Female Skew: \n",
      " 0.06874807413251881\n",
      "Levene test: \n",
      " LeveneResult(statistic=0.15936100997086172, pvalue=0.6909271309563556)\n",
      "Independent Test: \n",
      " Ttest_indResult(statistic=-0.45425730977837103, pvalue=0.6510101269075385)\n",
      "\n",
      " ------------------------ \n",
      "\n",
      "Female students performance is better/bigger than male students performance\n",
      "\n",
      " ------------------------ \n",
      "\n",
      "Male students mean:  77.81318181818182\n",
      "Female students mean:  78.86133333333333\n"
     ]
    },
    {
     "data": {
      "image/png": "[encoded data removed]",
      "text/plain": [
       "<Figure size 720x720 with 2 Axes>"
      ]
     },
     "metadata": {
      "needs_background": "light"
     },
     "output_type": "display_data"
    }
   ],
   "source": [
    "import scipy.stats as stats\n",
    "\n",
    "#create a histogram\n",
    "chim= sd[sd['gender']=='M']\n",
    "chif= sd[sd['gender']=='F']\n",
    "fig, axs = plt.subplots(1,2, figsize =(10,10))\n",
    "sns.histplot(data=chim ['wght'], kde = True, ax = axs[0]).set_title('Male students Weighted Performance')\n",
    "sns.histplot(data=chif ['wght'], kde = True, ax = axs[1]).set_title('Female stuents Weighted Performance')\n",
    "\n",
    "#confirm with skewness\n",
    "print('Male Skew:  \\n', chim['wght'].skew())\n",
    "print('Female Skew: \\n', chif['wght'].skew())\n",
    "\n",
    "\n",
    "\n",
    "#null hypothesis using Levene test: the variance are equal across all samples (alpha < pvalue)\n",
    "#     we cannot reject H0 hypothesis\n",
    "# if this would have failed (alpha>pvalue) we have to run a Welch's t-test.\n",
    "\n",
    "print('Levene test: \\n', stats.levene(chim['wght'], chif['wght']))\n",
    "\n",
    "\n",
    "\n",
    "# run independent test\n",
    "\n",
    "print('Independent Test: \\n', stats.ttest_ind(chim['wght'], chif['wght']))\n",
    "\n",
    "print('\\n ------------------------ \\n')\n",
    "\n",
    "\n",
    "\n",
    "#More specific and comparing means\n",
    "\n",
    "if (chim['wght'].mean() ) > (chif['wght'].mean() ):\n",
    "    print('Male students performance is statistically better/bigger than female students')\n",
    "else:\n",
    "    print('Female students performance is better/bigger than male students performance')\n",
    "    \n",
    "    \n",
    "\n",
    "#CONFIRM by calculating their mean\n",
    "print('\\n ------------------------ \\n')\n",
    "print('Male students mean: ', chim['wght'].mean())\n",
    "print('Female students mean: ', chif['wght'].mean())"
   ]
  },
  {
   "cell_type": "markdown",
   "metadata": {},
   "source": []
  },
  {
   "cell_type": "code",
   "execution_count": 52,
   "metadata": {},
   "outputs": [
    {
     "data": {
      "text/html": [
       "<div>\n",
       "<style scoped>\n",
       "    .dataframe tbody tr th:only-of-type {\n",
       "        vertical-align: middle;\n",
       "    }\n",
       "\n",
       "    .dataframe tbody tr th {\n",
       "        vertical-align: top;\n",
       "    }\n",
       "\n",
       "    .dataframe thead th {\n",
       "        text-align: right;\n",
       "    }\n",
       "</style>\n",
       "<table border=\"1\" class=\"dataframe\">\n",
       "  <thead>\n",
       "    <tr style=\"text-align: right;\">\n",
       "      <th></th>\n",
       "      <th>gender</th>\n",
       "      <th>cis</th>\n",
       "      <th>req</th>\n",
       "      <th>dfd</th>\n",
       "      <th>erd</th>\n",
       "      <th>wght</th>\n",
       "      <th>status</th>\n",
       "      <th>ranking</th>\n",
       "    </tr>\n",
       "  </thead>\n",
       "  <tbody>\n",
       "    <tr>\n",
       "      <th>0</th>\n",
       "      <td>M</td>\n",
       "      <td>N</td>\n",
       "      <td>90.0</td>\n",
       "      <td>85.0</td>\n",
       "      <td>80.0</td>\n",
       "      <td>77.56</td>\n",
       "      <td>outstanding</td>\n",
       "      <td>C</td>\n",
       "    </tr>\n",
       "    <tr>\n",
       "      <th>1</th>\n",
       "      <td>M</td>\n",
       "      <td>Y</td>\n",
       "      <td>90.0</td>\n",
       "      <td>100.0</td>\n",
       "      <td>90.0</td>\n",
       "      <td>81.85</td>\n",
       "      <td>outstanding</td>\n",
       "      <td>B</td>\n",
       "    </tr>\n",
       "    <tr>\n",
       "      <th>2</th>\n",
       "      <td>M</td>\n",
       "      <td>Y</td>\n",
       "      <td>90.0</td>\n",
       "      <td>100.0</td>\n",
       "      <td>90.0</td>\n",
       "      <td>84.59</td>\n",
       "      <td>outstanding</td>\n",
       "      <td>B</td>\n",
       "    </tr>\n",
       "    <tr>\n",
       "      <th>3</th>\n",
       "      <td>F</td>\n",
       "      <td>Y</td>\n",
       "      <td>90.0</td>\n",
       "      <td>50.0</td>\n",
       "      <td>85.0</td>\n",
       "      <td>81.30</td>\n",
       "      <td>outstanding</td>\n",
       "      <td>B</td>\n",
       "    </tr>\n",
       "    <tr>\n",
       "      <th>6</th>\n",
       "      <td>F</td>\n",
       "      <td>N</td>\n",
       "      <td>90.0</td>\n",
       "      <td>80.0</td>\n",
       "      <td>80.0</td>\n",
       "      <td>78.43</td>\n",
       "      <td>outstanding</td>\n",
       "      <td>C</td>\n",
       "    </tr>\n",
       "    <tr>\n",
       "      <th>...</th>\n",
       "      <td>...</td>\n",
       "      <td>...</td>\n",
       "      <td>...</td>\n",
       "      <td>...</td>\n",
       "      <td>...</td>\n",
       "      <td>...</td>\n",
       "      <td>...</td>\n",
       "      <td>...</td>\n",
       "    </tr>\n",
       "    <tr>\n",
       "      <th>87</th>\n",
       "      <td>M</td>\n",
       "      <td>Y</td>\n",
       "      <td>85.0</td>\n",
       "      <td>70.0</td>\n",
       "      <td>50.0</td>\n",
       "      <td>66.84</td>\n",
       "      <td>poor</td>\n",
       "      <td>D</td>\n",
       "    </tr>\n",
       "    <tr>\n",
       "      <th>89</th>\n",
       "      <td>F</td>\n",
       "      <td>Y</td>\n",
       "      <td>80.0</td>\n",
       "      <td>40.0</td>\n",
       "      <td>50.0</td>\n",
       "      <td>67.10</td>\n",
       "      <td>poor</td>\n",
       "      <td>D</td>\n",
       "    </tr>\n",
       "    <tr>\n",
       "      <th>90</th>\n",
       "      <td>M</td>\n",
       "      <td>Y</td>\n",
       "      <td>95.0</td>\n",
       "      <td>100.0</td>\n",
       "      <td>80.0</td>\n",
       "      <td>93.50</td>\n",
       "      <td>outstanding</td>\n",
       "      <td>A</td>\n",
       "    </tr>\n",
       "    <tr>\n",
       "      <th>92</th>\n",
       "      <td>F</td>\n",
       "      <td>N</td>\n",
       "      <td>95.0</td>\n",
       "      <td>40.0</td>\n",
       "      <td>80.0</td>\n",
       "      <td>71.74</td>\n",
       "      <td>poor</td>\n",
       "      <td>D</td>\n",
       "    </tr>\n",
       "    <tr>\n",
       "      <th>96</th>\n",
       "      <td>M</td>\n",
       "      <td>Y</td>\n",
       "      <td>67.0</td>\n",
       "      <td>70.0</td>\n",
       "      <td>50.0</td>\n",
       "      <td>66.49</td>\n",
       "      <td>poor</td>\n",
       "      <td>D</td>\n",
       "    </tr>\n",
       "  </tbody>\n",
       "</table>\n",
       "<p>74 rows × 8 columns</p>\n",
       "</div>"
      ],
      "text/plain": [
       "   gender cis   req    dfd   erd   wght       status ranking\n",
       "0       M   N  90.0   85.0  80.0  77.56  outstanding       C\n",
       "1       M   Y  90.0  100.0  90.0  81.85  outstanding       B\n",
       "2       M   Y  90.0  100.0  90.0  84.59  outstanding       B\n",
       "3       F   Y  90.0   50.0  85.0  81.30  outstanding       B\n",
       "6       F   N  90.0   80.0  80.0  78.43  outstanding       C\n",
       "..    ...  ..   ...    ...   ...    ...          ...     ...\n",
       "87      M   Y  85.0   70.0  50.0  66.84         poor       D\n",
       "89      F   Y  80.0   40.0  50.0  67.10         poor       D\n",
       "90      M   Y  95.0  100.0  80.0  93.50  outstanding       A\n",
       "92      F   N  95.0   40.0  80.0  71.74         poor       D\n",
       "96      M   Y  67.0   70.0  50.0  66.49         poor       D\n",
       "\n",
       "[74 rows x 8 columns]"
      ]
     },
     "execution_count": 52,
     "metadata": {},
     "output_type": "execute_result"
    }
   ],
   "source": [
    "#if you want to rank or categorize with a need column from an old column, use dictionary and replace method\n",
    "bins=[0,60,76,80,90,100]\n",
    "labels = ['F','D','C','B','A']\n",
    "\n",
    "sd['ranking'] = pd.cut(sd['wght'], bins, labels = labels)\n",
    "sd\n"
   ]
  },
  {
   "cell_type": "code",
   "execution_count": 53,
   "metadata": {},
   "outputs": [
    {
     "data": {
      "text/html": [
       "<div>\n",
       "<style scoped>\n",
       "    .dataframe tbody tr th:only-of-type {\n",
       "        vertical-align: middle;\n",
       "    }\n",
       "\n",
       "    .dataframe tbody tr th {\n",
       "        vertical-align: top;\n",
       "    }\n",
       "\n",
       "    .dataframe thead th {\n",
       "        text-align: right;\n",
       "    }\n",
       "</style>\n",
       "<table border=\"1\" class=\"dataframe\">\n",
       "  <thead>\n",
       "    <tr style=\"text-align: right;\">\n",
       "      <th></th>\n",
       "      <th>gender</th>\n",
       "      <th>cis</th>\n",
       "      <th>req</th>\n",
       "      <th>dfd</th>\n",
       "      <th>erd</th>\n",
       "      <th>wght</th>\n",
       "      <th>ranking</th>\n",
       "      <th>newstatus</th>\n",
       "    </tr>\n",
       "  </thead>\n",
       "  <tbody>\n",
       "    <tr>\n",
       "      <th>0</th>\n",
       "      <td>M</td>\n",
       "      <td>N</td>\n",
       "      <td>90.0</td>\n",
       "      <td>85.0</td>\n",
       "      <td>80.0</td>\n",
       "      <td>77.56</td>\n",
       "      <td>C</td>\n",
       "      <td>average</td>\n",
       "    </tr>\n",
       "    <tr>\n",
       "      <th>1</th>\n",
       "      <td>M</td>\n",
       "      <td>Y</td>\n",
       "      <td>90.0</td>\n",
       "      <td>100.0</td>\n",
       "      <td>90.0</td>\n",
       "      <td>81.85</td>\n",
       "      <td>B</td>\n",
       "      <td>good</td>\n",
       "    </tr>\n",
       "    <tr>\n",
       "      <th>2</th>\n",
       "      <td>M</td>\n",
       "      <td>Y</td>\n",
       "      <td>90.0</td>\n",
       "      <td>100.0</td>\n",
       "      <td>90.0</td>\n",
       "      <td>84.59</td>\n",
       "      <td>B</td>\n",
       "      <td>good</td>\n",
       "    </tr>\n",
       "    <tr>\n",
       "      <th>3</th>\n",
       "      <td>F</td>\n",
       "      <td>Y</td>\n",
       "      <td>90.0</td>\n",
       "      <td>50.0</td>\n",
       "      <td>85.0</td>\n",
       "      <td>81.30</td>\n",
       "      <td>B</td>\n",
       "      <td>good</td>\n",
       "    </tr>\n",
       "    <tr>\n",
       "      <th>6</th>\n",
       "      <td>F</td>\n",
       "      <td>N</td>\n",
       "      <td>90.0</td>\n",
       "      <td>80.0</td>\n",
       "      <td>80.0</td>\n",
       "      <td>78.43</td>\n",
       "      <td>C</td>\n",
       "      <td>average</td>\n",
       "    </tr>\n",
       "    <tr>\n",
       "      <th>...</th>\n",
       "      <td>...</td>\n",
       "      <td>...</td>\n",
       "      <td>...</td>\n",
       "      <td>...</td>\n",
       "      <td>...</td>\n",
       "      <td>...</td>\n",
       "      <td>...</td>\n",
       "      <td>...</td>\n",
       "    </tr>\n",
       "    <tr>\n",
       "      <th>87</th>\n",
       "      <td>M</td>\n",
       "      <td>Y</td>\n",
       "      <td>85.0</td>\n",
       "      <td>70.0</td>\n",
       "      <td>50.0</td>\n",
       "      <td>66.84</td>\n",
       "      <td>D</td>\n",
       "      <td>poor</td>\n",
       "    </tr>\n",
       "    <tr>\n",
       "      <th>89</th>\n",
       "      <td>F</td>\n",
       "      <td>Y</td>\n",
       "      <td>80.0</td>\n",
       "      <td>40.0</td>\n",
       "      <td>50.0</td>\n",
       "      <td>67.10</td>\n",
       "      <td>D</td>\n",
       "      <td>poor</td>\n",
       "    </tr>\n",
       "    <tr>\n",
       "      <th>90</th>\n",
       "      <td>M</td>\n",
       "      <td>Y</td>\n",
       "      <td>95.0</td>\n",
       "      <td>100.0</td>\n",
       "      <td>80.0</td>\n",
       "      <td>93.50</td>\n",
       "      <td>A</td>\n",
       "      <td>outstanding</td>\n",
       "    </tr>\n",
       "    <tr>\n",
       "      <th>92</th>\n",
       "      <td>F</td>\n",
       "      <td>N</td>\n",
       "      <td>95.0</td>\n",
       "      <td>40.0</td>\n",
       "      <td>80.0</td>\n",
       "      <td>71.74</td>\n",
       "      <td>D</td>\n",
       "      <td>poor</td>\n",
       "    </tr>\n",
       "    <tr>\n",
       "      <th>96</th>\n",
       "      <td>M</td>\n",
       "      <td>Y</td>\n",
       "      <td>67.0</td>\n",
       "      <td>70.0</td>\n",
       "      <td>50.0</td>\n",
       "      <td>66.49</td>\n",
       "      <td>D</td>\n",
       "      <td>poor</td>\n",
       "    </tr>\n",
       "  </tbody>\n",
       "</table>\n",
       "<p>74 rows × 8 columns</p>\n",
       "</div>"
      ],
      "text/plain": [
       "   gender cis   req    dfd   erd   wght ranking    newstatus\n",
       "0       M   N  90.0   85.0  80.0  77.56       C      average\n",
       "1       M   Y  90.0  100.0  90.0  81.85       B         good\n",
       "2       M   Y  90.0  100.0  90.0  84.59       B         good\n",
       "3       F   Y  90.0   50.0  85.0  81.30       B         good\n",
       "6       F   N  90.0   80.0  80.0  78.43       C      average\n",
       "..    ...  ..   ...    ...   ...    ...     ...          ...\n",
       "87      M   Y  85.0   70.0  50.0  66.84       D         poor\n",
       "89      F   Y  80.0   40.0  50.0  67.10       D         poor\n",
       "90      M   Y  95.0  100.0  80.0  93.50       A  outstanding\n",
       "92      F   N  95.0   40.0  80.0  71.74       D         poor\n",
       "96      M   Y  67.0   70.0  50.0  66.49       D         poor\n",
       "\n",
       "[74 rows x 8 columns]"
      ]
     },
     "execution_count": 53,
     "metadata": {},
     "output_type": "execute_result"
    }
   ],
   "source": [
    "# map the grades with categories, add it to a new column, and  colum\n",
    "\n",
    "newRanking={'A': 'outstanding', 'B':'good', 'C':'average', 'D':'poor', 'F':'failing'}\n",
    "\n",
    "sd['newstatus']=sd['ranking'].replace(newRanking)\n",
    "\n",
    "\n",
    "\n",
    "sd.drop('status', axis=1, inplace=True)\n",
    "sd\n"
   ]
  },
  {
   "cell_type": "code",
   "execution_count": 54,
   "metadata": {},
   "outputs": [
    {
     "data": {
      "text/html": [
       "<div>\n",
       "<style scoped>\n",
       "    .dataframe tbody tr th:only-of-type {\n",
       "        vertical-align: middle;\n",
       "    }\n",
       "\n",
       "    .dataframe tbody tr th {\n",
       "        vertical-align: top;\n",
       "    }\n",
       "\n",
       "    .dataframe thead th {\n",
       "        text-align: right;\n",
       "    }\n",
       "</style>\n",
       "<table border=\"1\" class=\"dataframe\">\n",
       "  <thead>\n",
       "    <tr style=\"text-align: right;\">\n",
       "      <th></th>\n",
       "      <th>gender</th>\n",
       "      <th>cis</th>\n",
       "      <th>req</th>\n",
       "      <th>dfd</th>\n",
       "      <th>erd</th>\n",
       "      <th>wght</th>\n",
       "      <th>status</th>\n",
       "      <th>ranking</th>\n",
       "    </tr>\n",
       "  </thead>\n",
       "  <tbody>\n",
       "    <tr>\n",
       "      <th>0</th>\n",
       "      <td>M</td>\n",
       "      <td>N</td>\n",
       "      <td>90.0</td>\n",
       "      <td>85.0</td>\n",
       "      <td>80.0</td>\n",
       "      <td>77.56</td>\n",
       "      <td>average</td>\n",
       "      <td>C</td>\n",
       "    </tr>\n",
       "    <tr>\n",
       "      <th>1</th>\n",
       "      <td>M</td>\n",
       "      <td>Y</td>\n",
       "      <td>90.0</td>\n",
       "      <td>100.0</td>\n",
       "      <td>90.0</td>\n",
       "      <td>81.85</td>\n",
       "      <td>good</td>\n",
       "      <td>B</td>\n",
       "    </tr>\n",
       "    <tr>\n",
       "      <th>2</th>\n",
       "      <td>M</td>\n",
       "      <td>Y</td>\n",
       "      <td>90.0</td>\n",
       "      <td>100.0</td>\n",
       "      <td>90.0</td>\n",
       "      <td>84.59</td>\n",
       "      <td>good</td>\n",
       "      <td>B</td>\n",
       "    </tr>\n",
       "    <tr>\n",
       "      <th>3</th>\n",
       "      <td>F</td>\n",
       "      <td>Y</td>\n",
       "      <td>90.0</td>\n",
       "      <td>50.0</td>\n",
       "      <td>85.0</td>\n",
       "      <td>81.30</td>\n",
       "      <td>good</td>\n",
       "      <td>B</td>\n",
       "    </tr>\n",
       "    <tr>\n",
       "      <th>6</th>\n",
       "      <td>F</td>\n",
       "      <td>N</td>\n",
       "      <td>90.0</td>\n",
       "      <td>80.0</td>\n",
       "      <td>80.0</td>\n",
       "      <td>78.43</td>\n",
       "      <td>average</td>\n",
       "      <td>C</td>\n",
       "    </tr>\n",
       "    <tr>\n",
       "      <th>...</th>\n",
       "      <td>...</td>\n",
       "      <td>...</td>\n",
       "      <td>...</td>\n",
       "      <td>...</td>\n",
       "      <td>...</td>\n",
       "      <td>...</td>\n",
       "      <td>...</td>\n",
       "      <td>...</td>\n",
       "    </tr>\n",
       "    <tr>\n",
       "      <th>87</th>\n",
       "      <td>M</td>\n",
       "      <td>Y</td>\n",
       "      <td>85.0</td>\n",
       "      <td>70.0</td>\n",
       "      <td>50.0</td>\n",
       "      <td>66.84</td>\n",
       "      <td>poor</td>\n",
       "      <td>D</td>\n",
       "    </tr>\n",
       "    <tr>\n",
       "      <th>89</th>\n",
       "      <td>F</td>\n",
       "      <td>Y</td>\n",
       "      <td>80.0</td>\n",
       "      <td>40.0</td>\n",
       "      <td>50.0</td>\n",
       "      <td>67.10</td>\n",
       "      <td>poor</td>\n",
       "      <td>D</td>\n",
       "    </tr>\n",
       "    <tr>\n",
       "      <th>90</th>\n",
       "      <td>M</td>\n",
       "      <td>Y</td>\n",
       "      <td>95.0</td>\n",
       "      <td>100.0</td>\n",
       "      <td>80.0</td>\n",
       "      <td>93.50</td>\n",
       "      <td>outstanding</td>\n",
       "      <td>A</td>\n",
       "    </tr>\n",
       "    <tr>\n",
       "      <th>92</th>\n",
       "      <td>F</td>\n",
       "      <td>N</td>\n",
       "      <td>95.0</td>\n",
       "      <td>40.0</td>\n",
       "      <td>80.0</td>\n",
       "      <td>71.74</td>\n",
       "      <td>poor</td>\n",
       "      <td>D</td>\n",
       "    </tr>\n",
       "    <tr>\n",
       "      <th>96</th>\n",
       "      <td>M</td>\n",
       "      <td>Y</td>\n",
       "      <td>67.0</td>\n",
       "      <td>70.0</td>\n",
       "      <td>50.0</td>\n",
       "      <td>66.49</td>\n",
       "      <td>poor</td>\n",
       "      <td>D</td>\n",
       "    </tr>\n",
       "  </tbody>\n",
       "</table>\n",
       "<p>74 rows × 8 columns</p>\n",
       "</div>"
      ],
      "text/plain": [
       "   gender cis   req    dfd   erd   wght       status ranking\n",
       "0       M   N  90.0   85.0  80.0  77.56      average       C\n",
       "1       M   Y  90.0  100.0  90.0  81.85         good       B\n",
       "2       M   Y  90.0  100.0  90.0  84.59         good       B\n",
       "3       F   Y  90.0   50.0  85.0  81.30         good       B\n",
       "6       F   N  90.0   80.0  80.0  78.43      average       C\n",
       "..    ...  ..   ...    ...   ...    ...          ...     ...\n",
       "87      M   Y  85.0   70.0  50.0  66.84         poor       D\n",
       "89      F   Y  80.0   40.0  50.0  67.10         poor       D\n",
       "90      M   Y  95.0  100.0  80.0  93.50  outstanding       A\n",
       "92      F   N  95.0   40.0  80.0  71.74         poor       D\n",
       "96      M   Y  67.0   70.0  50.0  66.49         poor       D\n",
       "\n",
       "[74 rows x 8 columns]"
      ]
     },
     "execution_count": 54,
     "metadata": {},
     "output_type": "execute_result"
    }
   ],
   "source": [
    "sd.rename(columns={'newstatus':'status'}, inplace=True)\n",
    "sd = sd[['gender','cis','req','dfd','erd','wght','status','ranking']]\n",
    "sd\n"
   ]
  },
  {
   "cell_type": "code",
   "execution_count": 55,
   "metadata": {},
   "outputs": [],
   "source": [
    "\n",
    "\n",
    "#WE CANNOT ORDER THE LABELS IN THE HISTOGRAM, WE NEED TO USE PANDAS TO ORDER THEM AND INSERT IN THE HISTPLOT SYNTAX\n",
    "\n",
    "\n",
    "sd['status'] = pd.Categorical(sd['status'], ['outstanding','good','average','poor','failing'], ordered=True)\n",
    "sd['ranking'] = pd.Categorical(sd['ranking'],['A','B','C','D','F'])"
   ]
  },
  {
   "cell_type": "code",
   "execution_count": 56,
   "metadata": {},
   "outputs": [
    {
     "data": {
      "text/plain": [
       "Text(0.5, 1.0, 'ranking')"
      ]
     },
     "execution_count": 56,
     "metadata": {},
     "output_type": "execute_result"
    },
    {
     "data": {
      "text/plain": [
       "D    27\n",
       "B    23\n",
       "C    12\n",
       "A    10\n",
       "F     2\n",
       "Name: ranking, dtype: int64"
      ]
     },
     "execution_count": 56,
     "metadata": {},
     "output_type": "execute_result"
    },
    {
     "data": {
      "image/png": "[encoded data removed]",
      "text/plain": [
       "<Figure size 432x288 with 1 Axes>"
      ]
     },
     "metadata": {
      "needs_background": "light"
     },
     "output_type": "display_data"
    }
   ],
   "source": [
    "# now we get the histogram in order!\n",
    "\n",
    "sns.histplot(data=sd ['ranking'], kde = True).set_title('ranking')\n",
    "sd.ranking.value_counts()\n"
   ]
  },
  {
   "cell_type": "code",
   "execution_count": 57,
   "metadata": {},
   "outputs": [
    {
     "data": {
      "text/plain": [
       "<AxesSubplot:xlabel='cis', ylabel='Count'>"
      ]
     },
     "execution_count": 57,
     "metadata": {},
     "output_type": "execute_result"
    },
    {
     "data": {
      "text/plain": [
       "<AxesSubplot:xlabel='gender', ylabel='Count'>"
      ]
     },
     "execution_count": 57,
     "metadata": {},
     "output_type": "execute_result"
    },
    {
     "data": {
      "text/plain": [
       "<AxesSubplot:xlabel='status', ylabel='Count'>"
      ]
     },
     "execution_count": 57,
     "metadata": {},
     "output_type": "execute_result"
    },
    {
     "data": {
      "text/plain": [
       "<AxesSubplot:xlabel='ranking', ylabel='Count'>"
      ]
     },
     "execution_count": 57,
     "metadata": {},
     "output_type": "execute_result"
    },
    {
     "data": {
      "image/png": "[encoded data removed]",
      "text/plain": [
       "<Figure size 720x720 with 4 Axes>"
      ]
     },
     "metadata": {
      "needs_background": "light"
     },
     "output_type": "display_data"
    }
   ],
   "source": [
    "import matplotlib.pyplot as plt\n",
    "import seaborn as sns\n",
    "\n",
    "fig, axs = plt.subplots (2,2, figsize = (10, 10))\n",
    "\n",
    "sns.histplot(data=sd.cis, kde=True, ax = axs[0,0])\n",
    "sns.histplot(data=sd.gender, kde=True, ax = axs[0,1])\n",
    "sns.histplot(data=sd, x='status', kde=True, ax = axs[1,0])\n",
    "sns.histplot(data=sd, x='ranking', kde=True, ax = axs[1,1])\n"
   ]
  },
  {
   "cell_type": "code",
   "execution_count": 58,
   "metadata": {},
   "outputs": [
    {
     "data": {
      "text/html": [
       "<div>\n",
       "<style scoped>\n",
       "    .dataframe tbody tr th:only-of-type {\n",
       "        vertical-align: middle;\n",
       "    }\n",
       "\n",
       "    .dataframe tbody tr th {\n",
       "        vertical-align: top;\n",
       "    }\n",
       "\n",
       "    .dataframe thead th {\n",
       "        text-align: right;\n",
       "    }\n",
       "</style>\n",
       "<table border=\"1\" class=\"dataframe\">\n",
       "  <thead>\n",
       "    <tr style=\"text-align: right;\">\n",
       "      <th>cis</th>\n",
       "      <th>N</th>\n",
       "      <th>Y</th>\n",
       "      <th>All</th>\n",
       "    </tr>\n",
       "    <tr>\n",
       "      <th>ranking</th>\n",
       "      <th></th>\n",
       "      <th></th>\n",
       "      <th></th>\n",
       "    </tr>\n",
       "  </thead>\n",
       "  <tbody>\n",
       "    <tr>\n",
       "      <th>A</th>\n",
       "      <td>0</td>\n",
       "      <td>10</td>\n",
       "      <td>10</td>\n",
       "    </tr>\n",
       "    <tr>\n",
       "      <th>B</th>\n",
       "      <td>6</td>\n",
       "      <td>17</td>\n",
       "      <td>23</td>\n",
       "    </tr>\n",
       "    <tr>\n",
       "      <th>C</th>\n",
       "      <td>7</td>\n",
       "      <td>5</td>\n",
       "      <td>12</td>\n",
       "    </tr>\n",
       "    <tr>\n",
       "      <th>D</th>\n",
       "      <td>13</td>\n",
       "      <td>14</td>\n",
       "      <td>27</td>\n",
       "    </tr>\n",
       "    <tr>\n",
       "      <th>F</th>\n",
       "      <td>2</td>\n",
       "      <td>0</td>\n",
       "      <td>2</td>\n",
       "    </tr>\n",
       "    <tr>\n",
       "      <th>All</th>\n",
       "      <td>28</td>\n",
       "      <td>46</td>\n",
       "      <td>74</td>\n",
       "    </tr>\n",
       "  </tbody>\n",
       "</table>\n",
       "</div>"
      ],
      "text/plain": [
       "cis       N   Y  All\n",
       "ranking             \n",
       "A         0  10   10\n",
       "B         6  17   23\n",
       "C         7   5   12\n",
       "D        13  14   27\n",
       "F         2   0    2\n",
       "All      28  46   74"
      ]
     },
     "execution_count": 58,
     "metadata": {},
     "output_type": "execute_result"
    },
    {
     "data": {
      "text/html": [
       "<div>\n",
       "<style scoped>\n",
       "    .dataframe tbody tr th:only-of-type {\n",
       "        vertical-align: middle;\n",
       "    }\n",
       "\n",
       "    .dataframe tbody tr th {\n",
       "        vertical-align: top;\n",
       "    }\n",
       "\n",
       "    .dataframe thead th {\n",
       "        text-align: right;\n",
       "    }\n",
       "</style>\n",
       "<table border=\"1\" class=\"dataframe\">\n",
       "  <thead>\n",
       "    <tr style=\"text-align: right;\">\n",
       "      <th>gender</th>\n",
       "      <th>F</th>\n",
       "      <th>M</th>\n",
       "      <th>All</th>\n",
       "    </tr>\n",
       "    <tr>\n",
       "      <th>ranking</th>\n",
       "      <th></th>\n",
       "      <th></th>\n",
       "      <th></th>\n",
       "    </tr>\n",
       "  </thead>\n",
       "  <tbody>\n",
       "    <tr>\n",
       "      <th>A</th>\n",
       "      <td>3</td>\n",
       "      <td>7</td>\n",
       "      <td>10</td>\n",
       "    </tr>\n",
       "    <tr>\n",
       "      <th>B</th>\n",
       "      <td>12</td>\n",
       "      <td>11</td>\n",
       "      <td>23</td>\n",
       "    </tr>\n",
       "    <tr>\n",
       "      <th>C</th>\n",
       "      <td>3</td>\n",
       "      <td>9</td>\n",
       "      <td>12</td>\n",
       "    </tr>\n",
       "    <tr>\n",
       "      <th>D</th>\n",
       "      <td>12</td>\n",
       "      <td>15</td>\n",
       "      <td>27</td>\n",
       "    </tr>\n",
       "    <tr>\n",
       "      <th>F</th>\n",
       "      <td>0</td>\n",
       "      <td>2</td>\n",
       "      <td>2</td>\n",
       "    </tr>\n",
       "    <tr>\n",
       "      <th>All</th>\n",
       "      <td>30</td>\n",
       "      <td>44</td>\n",
       "      <td>74</td>\n",
       "    </tr>\n",
       "  </tbody>\n",
       "</table>\n",
       "</div>"
      ],
      "text/plain": [
       "gender    F   M  All\n",
       "ranking             \n",
       "A         3   7   10\n",
       "B        12  11   23\n",
       "C         3   9   12\n",
       "D        12  15   27\n",
       "F         0   2    2\n",
       "All      30  44   74"
      ]
     },
     "execution_count": 58,
     "metadata": {},
     "output_type": "execute_result"
    }
   ],
   "source": [
    "sd_cranking=pd.crosstab(sd['ranking'], sd['cis'], margins=True)\n",
    "sd_cranking\n",
    "\n",
    "sd_granking=pd.crosstab(sd['ranking'], sd['gender'], margins=True)\n",
    "sd_granking\n"
   ]
  },
  {
   "cell_type": "markdown",
   "metadata": {},
   "source": [
    "# Chi-Square test for gender, ranking and cis, ranking "
   ]
  },
  {
   "cell_type": "markdown",
   "metadata": {},
   "source": [
    "# Testing cis and ranking"
   ]
  },
  {
   "cell_type": "markdown",
   "metadata": {},
   "source": [
    "H0 = CIS and NON-CIS students are independent of their ranking(grades).\n",
    "\n",
    "Ha = CIS and NON-CIS are NOT independent of their ranking(grades)."
   ]
  },
  {
   "cell_type": "code",
   "execution_count": 59,
   "metadata": {},
   "outputs": [
    {
     "name": "stdout",
     "output_type": "stream",
     "text": [
      "chi square is : 14.086310 with 10th degree of freedom and the p-value is    0.1690910158\n",
      "p value is 0.16909101575019309\n",
      "Independent (H0 holds true)\n"
     ]
    }
   ],
   "source": [
    "from scipy.stats import chi2_contingency \n",
    "\n",
    "stat, p, dof, expected = chi2_contingency(sd_cranking)\n",
    "\n",
    "print('chi square is : %8.6f with %1dth degree of freedom and the p-value is %15.10f' % (stat,dof,p))\n",
    "\n",
    "\n",
    "alpha = 0.05\n",
    "print('p value is ' + str(p))\n",
    "if p <= alpha:\n",
    "    print('Dependent (Reject H0)')\n",
    "else:\n",
    "    print('Independent (H0 holds true)')\n",
    "    \n"
   ]
  },
  {
   "cell_type": "markdown",
   "metadata": {},
   "source": [
    "# Conclusion: \n",
    "Students major (CIS or NON-CIS) are independent from the ranking categorical variable. The p-value is more than alpha and there is 95% confidence that if they are CIS or NON-CIS major does not determine or affect their ranking. Meaning whether students are CIS and NON-CIS students, it does not affect their ranking. Hence, their grade."
   ]
  },
  {
   "cell_type": "markdown",
   "metadata": {},
   "source": [
    "## Chi Square test for gender and ranking"
   ]
  },
  {
   "cell_type": "code",
   "execution_count": 60,
   "metadata": {},
   "outputs": [
    {
     "name": "stdout",
     "output_type": "stream",
     "text": [
      "chi square is : 4.488830 with 10th degree of freedom and the p-value is    0.9226131564\n",
      "p value is 0.9226131563869042\n",
      "Independent (H0 holds true)\n"
     ]
    }
   ],
   "source": [
    "stat, p, dof, expected = chi2_contingency(sd_granking)\n",
    "\n",
    "print('chi square is : %8.6f with %1dth degree of freedom and the p-value is %15.10f' % (stat,dof,p))\n",
    "\n",
    "\n",
    "alpha = 0.05\n",
    "print('p value is ' + str(p))\n",
    "if p <= alpha:\n",
    "    print('Dependent (Reject H0)')\n",
    "else:\n",
    "    print('Independent (H0 holds true)')\n",
    "    "
   ]
  },
  {
   "cell_type": "markdown",
   "metadata": {},
   "source": [
    "## Conclusion:\n",
    "Students' gender are independent from their ranking. We cannot reject null hypothesis. The chi-square test p-value is higer than alpha. Telling us that students' gender does not affect their ranking. "
   ]
  },
  {
   "cell_type": "code",
   "execution_count": 61,
   "metadata": {},
   "outputs": [
    {
     "data": {
      "text/html": [
       "<div>\n",
       "<style scoped>\n",
       "    .dataframe tbody tr th:only-of-type {\n",
       "        vertical-align: middle;\n",
       "    }\n",
       "\n",
       "    .dataframe tbody tr th {\n",
       "        vertical-align: top;\n",
       "    }\n",
       "\n",
       "    .dataframe thead th {\n",
       "        text-align: right;\n",
       "    }\n",
       "</style>\n",
       "<table border=\"1\" class=\"dataframe\">\n",
       "  <thead>\n",
       "    <tr style=\"text-align: right;\">\n",
       "      <th></th>\n",
       "      <th>gender</th>\n",
       "      <th>cis</th>\n",
       "      <th>req</th>\n",
       "      <th>dfd</th>\n",
       "      <th>erd</th>\n",
       "      <th>wght</th>\n",
       "      <th>status</th>\n",
       "      <th>ranking</th>\n",
       "    </tr>\n",
       "  </thead>\n",
       "  <tbody>\n",
       "    <tr>\n",
       "      <th>0</th>\n",
       "      <td>M</td>\n",
       "      <td>N</td>\n",
       "      <td>90.0</td>\n",
       "      <td>85.0</td>\n",
       "      <td>80.0</td>\n",
       "      <td>77.56</td>\n",
       "      <td>average</td>\n",
       "      <td>C</td>\n",
       "    </tr>\n",
       "    <tr>\n",
       "      <th>1</th>\n",
       "      <td>M</td>\n",
       "      <td>Y</td>\n",
       "      <td>90.0</td>\n",
       "      <td>100.0</td>\n",
       "      <td>90.0</td>\n",
       "      <td>81.85</td>\n",
       "      <td>good</td>\n",
       "      <td>B</td>\n",
       "    </tr>\n",
       "    <tr>\n",
       "      <th>2</th>\n",
       "      <td>M</td>\n",
       "      <td>Y</td>\n",
       "      <td>90.0</td>\n",
       "      <td>100.0</td>\n",
       "      <td>90.0</td>\n",
       "      <td>84.59</td>\n",
       "      <td>good</td>\n",
       "      <td>B</td>\n",
       "    </tr>\n",
       "    <tr>\n",
       "      <th>3</th>\n",
       "      <td>F</td>\n",
       "      <td>Y</td>\n",
       "      <td>90.0</td>\n",
       "      <td>50.0</td>\n",
       "      <td>85.0</td>\n",
       "      <td>81.30</td>\n",
       "      <td>good</td>\n",
       "      <td>B</td>\n",
       "    </tr>\n",
       "    <tr>\n",
       "      <th>6</th>\n",
       "      <td>F</td>\n",
       "      <td>N</td>\n",
       "      <td>90.0</td>\n",
       "      <td>80.0</td>\n",
       "      <td>80.0</td>\n",
       "      <td>78.43</td>\n",
       "      <td>average</td>\n",
       "      <td>C</td>\n",
       "    </tr>\n",
       "    <tr>\n",
       "      <th>...</th>\n",
       "      <td>...</td>\n",
       "      <td>...</td>\n",
       "      <td>...</td>\n",
       "      <td>...</td>\n",
       "      <td>...</td>\n",
       "      <td>...</td>\n",
       "      <td>...</td>\n",
       "      <td>...</td>\n",
       "    </tr>\n",
       "    <tr>\n",
       "      <th>87</th>\n",
       "      <td>M</td>\n",
       "      <td>Y</td>\n",
       "      <td>85.0</td>\n",
       "      <td>70.0</td>\n",
       "      <td>50.0</td>\n",
       "      <td>66.84</td>\n",
       "      <td>poor</td>\n",
       "      <td>D</td>\n",
       "    </tr>\n",
       "    <tr>\n",
       "      <th>89</th>\n",
       "      <td>F</td>\n",
       "      <td>Y</td>\n",
       "      <td>80.0</td>\n",
       "      <td>40.0</td>\n",
       "      <td>50.0</td>\n",
       "      <td>67.10</td>\n",
       "      <td>poor</td>\n",
       "      <td>D</td>\n",
       "    </tr>\n",
       "    <tr>\n",
       "      <th>90</th>\n",
       "      <td>M</td>\n",
       "      <td>Y</td>\n",
       "      <td>95.0</td>\n",
       "      <td>100.0</td>\n",
       "      <td>80.0</td>\n",
       "      <td>93.50</td>\n",
       "      <td>outstanding</td>\n",
       "      <td>A</td>\n",
       "    </tr>\n",
       "    <tr>\n",
       "      <th>92</th>\n",
       "      <td>F</td>\n",
       "      <td>N</td>\n",
       "      <td>95.0</td>\n",
       "      <td>40.0</td>\n",
       "      <td>80.0</td>\n",
       "      <td>71.74</td>\n",
       "      <td>poor</td>\n",
       "      <td>D</td>\n",
       "    </tr>\n",
       "    <tr>\n",
       "      <th>96</th>\n",
       "      <td>M</td>\n",
       "      <td>Y</td>\n",
       "      <td>67.0</td>\n",
       "      <td>70.0</td>\n",
       "      <td>50.0</td>\n",
       "      <td>66.49</td>\n",
       "      <td>poor</td>\n",
       "      <td>D</td>\n",
       "    </tr>\n",
       "  </tbody>\n",
       "</table>\n",
       "<p>74 rows × 8 columns</p>\n",
       "</div>"
      ],
      "text/plain": [
       "   gender cis   req    dfd   erd   wght       status ranking\n",
       "0       M   N  90.0   85.0  80.0  77.56      average       C\n",
       "1       M   Y  90.0  100.0  90.0  81.85         good       B\n",
       "2       M   Y  90.0  100.0  90.0  84.59         good       B\n",
       "3       F   Y  90.0   50.0  85.0  81.30         good       B\n",
       "6       F   N  90.0   80.0  80.0  78.43      average       C\n",
       "..    ...  ..   ...    ...   ...    ...          ...     ...\n",
       "87      M   Y  85.0   70.0  50.0  66.84         poor       D\n",
       "89      F   Y  80.0   40.0  50.0  67.10         poor       D\n",
       "90      M   Y  95.0  100.0  80.0  93.50  outstanding       A\n",
       "92      F   N  95.0   40.0  80.0  71.74         poor       D\n",
       "96      M   Y  67.0   70.0  50.0  66.49         poor       D\n",
       "\n",
       "[74 rows x 8 columns]"
      ]
     },
     "execution_count": 61,
     "metadata": {},
     "output_type": "execute_result"
    }
   ],
   "source": [
    "sd"
   ]
  },
  {
   "cell_type": "code",
   "execution_count": 62,
   "metadata": {},
   "outputs": [
    {
     "name": "stdout",
     "output_type": "stream",
     "text": [
      "0.46193998449410456\n",
      "0.49327224934924147\n",
      "0.5461433842576453\n"
     ]
    }
   ],
   "source": [
    "#correlation between assignments and the total performance\n",
    "\n",
    "print(sd['req'].corr(sd['wght']))\n",
    "print(sd['dfd'].corr(sd['wght']))\n",
    "print(sd['erd'].corr(sd['wght']))"
   ]
  },
  {
   "cell_type": "markdown",
   "metadata": {},
   "source": [
    "# all show strong relationship with the total weight\n"
   ]
  },
  {
   "cell_type": "markdown",
   "metadata": {},
   "source": [
    "# Linear Regression"
   ]
  },
  {
   "cell_type": "markdown",
   "metadata": {},
   "source": [
    "## *If a student gets req=75, dfd=75, erd=90 on its assignments, what is the predicted weight total??* "
   ]
  },
  {
   "cell_type": "markdown",
   "metadata": {},
   "source": [
    "## This model explains 51% of the predicted weight of 82 to the student with these certain grades. "
   ]
  },
  {
   "cell_type": "code",
   "execution_count": 68,
   "metadata": {},
   "outputs": [
    {
     "name": "stdout",
     "output_type": "stream",
     "text": [
      "                            OLS Regression Results                            \n",
      "==============================================================================\n",
      "Dep. Variable:                   wght   R-squared:                       0.512\n",
      "Model:                            OLS   Adj. R-squared:                  0.491\n",
      "Method:                 Least Squares   F-statistic:                     24.51\n",
      "Date:                Fri, 14 Jan 2022   Prob (F-statistic):           5.94e-11\n",
      "Time:                        11:08:06   Log-Likelihood:                -246.00\n",
      "No. Observations:                  74   AIC:                             500.0\n",
      "Df Residuals:                      70   BIC:                             509.2\n",
      "Df Model:                           3                                         \n",
      "Covariance Type:            nonrobust                                         \n",
      "==============================================================================\n",
      "                 coef    std err          t      P>|t|      [0.025      0.975]\n",
      "------------------------------------------------------------------------------\n",
      "const         34.0211      5.823      5.843      0.000      22.408      45.634\n",
      "req            0.2886      0.064      4.505      0.000       0.161       0.416\n",
      "dfd            0.1119      0.035      3.157      0.002       0.041       0.183\n",
      "erd            0.1695      0.047      3.642      0.001       0.077       0.262\n",
      "==============================================================================\n",
      "Omnibus:                        2.203   Durbin-Watson:                   1.693\n",
      "Prob(Omnibus):                  0.332   Jarque-Bera (JB):                1.553\n",
      "Skew:                           0.166   Prob(JB):                        0.460\n",
      "Kurtosis:                       3.627   Cond. No.                         965.\n",
      "==============================================================================\n",
      "\n",
      "Notes:\n",
      "[1] Standard Errors assume that the covariance matrix of the errors is correctly specified.\n"
     ]
    }
   ],
   "source": [
    "import numpy as np\n",
    "import statsmodels.api as sm\n",
    "\n",
    "y=sd['wght']\n",
    "x=sd[['req','dfd','erd']]\n",
    "x=sm.add_constant(x)\n",
    "model =sm.OLS(y,x)\n",
    "results=model.fit()\n",
    "print(results.summary())"
   ]
  },
  {
   "cell_type": "code",
   "execution_count": 73,
   "metadata": {},
   "outputs": [
    {
     "name": "stdout",
     "output_type": "stream",
     "text": [
      "The predicted weighted total for Peter is: 82.02000000000001\n"
     ]
    }
   ],
   "source": [
    "req1 = 75\n",
    "dfd1 = 75\n",
    "erd1 = 90\n",
    "\n",
    "peterW = 34.02 + 0.29*req1 + 0.11*dfd1 + 0.2*erd1 \n",
    "print('The predicted weighted total for Peter is:', peterW)"
   ]
  },
  {
   "cell_type": "markdown",
   "metadata": {},
   "source": [
    "# Mary has gotten 90 in ERD, 80 in REQ, how many points does she need to get in her DFD assignment so that she may get a predictive weighted total above 93?"
   ]
  },
  {
   "cell_type": "code",
   "execution_count": 74,
   "metadata": {
    "scrolled": false
   },
   "outputs": [
    {
     "name": "stdout",
     "output_type": "stream",
     "text": [
      "                            OLS Regression Results                            \n",
      "==============================================================================\n",
      "Dep. Variable:                    dfd   R-squared:                       0.315\n",
      "Model:                            OLS   Adj. R-squared:                  0.286\n",
      "Method:                 Least Squares   F-statistic:                     10.75\n",
      "Date:                Fri, 14 Jan 2022   Prob (F-statistic):           6.77e-06\n",
      "Time:                        11:08:06   Log-Likelihood:                -331.02\n",
      "No. Observations:                  74   AIC:                             670.0\n",
      "Df Residuals:                      70   BIC:                             679.3\n",
      "Df Model:                           3                                         \n",
      "Covariance Type:            nonrobust                                         \n",
      "==============================================================================\n",
      "                 coef    std err          t      P>|t|      [0.025      0.975]\n",
      "------------------------------------------------------------------------------\n",
      "const        -16.0899     22.322     -0.721      0.473     -60.610      28.430\n",
      "req           -0.2962      0.227     -1.306      0.196      -0.748       0.156\n",
      "erd            0.3401      0.155      2.197      0.031       0.031       0.649\n",
      "wght           1.1138      0.353      3.157      0.002       0.410       1.817\n",
      "==============================================================================\n",
      "Omnibus:                        8.398   Durbin-Watson:                   1.633\n",
      "Prob(Omnibus):                  0.015   Jarque-Bera (JB):                7.989\n",
      "Skew:                          -0.775   Prob(JB):                       0.0184\n",
      "Kurtosis:                       3.436   Cond. No.                     1.20e+03\n",
      "==============================================================================\n",
      "\n",
      "Notes:\n",
      "[1] Standard Errors assume that the covariance matrix of the errors is correctly specified.\n",
      "[2] The condition number is large, 1.2e+03. This might indicate that there are\n",
      "strong multicollinearity or other numerical problems.\n"
     ]
    }
   ],
   "source": [
    "y = sd['dfd']\n",
    "x = sd[['req','erd','wght']]\n",
    "x = sm.add_constant(x)\n",
    "modelm= sm.OLS (y,x)\n",
    "resultsm=modelm.fit()\n",
    "print(resultsm.summary())"
   ]
  },
  {
   "cell_type": "code",
   "execution_count": 75,
   "metadata": {},
   "outputs": [
    {
     "name": "stdout",
     "output_type": "stream",
     "text": [
      "The predicted weighted total for Mary is: 94.4065\n"
     ]
    }
   ],
   "source": [
    "req2= 80\n",
    "erd2= 90\n",
    "wght2= 93\n",
    "\n",
    "MaryD = -16.0899 - 0.2962*req2 + 0.3401*erd2 + 1.1138*wght2\n",
    "print('The predicted weighted total for Mary is:', MaryD)"
   ]
  },
  {
   "cell_type": "markdown",
   "metadata": {},
   "source": [
    "## Obersvation 8: Even though with the predicted total of 94 points, it is very unlikely she could get this points. In other words, this is NOT good fit for the Mary's grades. The predictive regression is not accurate and there is almost 32% explaning it. However, we are not counting the other scores that influence the weighted total, besides all three grades, other scores contributed to the total grade(not listed in this data set). She can't 94 points in total just by getting a higher grade in the dfd assignment alone. By looking at the constant, req, and erd is higher than alpha (0.05) this tells us it its not a good fit to predict her score. There is a significant evidence dfd is NOT a good fit to the predictive model."
   ]
  },
  {
   "cell_type": "markdown",
   "metadata": {},
   "source": [
    "# Anova Model - Analysis"
   ]
  },
  {
   "cell_type": "markdown",
   "metadata": {},
   "source": [
    "# Anova Model - 1 (Ranking) "
   ]
  },
  {
   "cell_type": "markdown",
   "metadata": {},
   "source": [
    "# Hypothesis: The ranking for each student impact their total performance.\n",
    "\n",
    "H0= u'A' = u'B' = u'C' = u'D' = u'F'\n",
    "\n",
    "\n",
    "Ha = not all ranking means are the same"
   ]
  },
  {
   "cell_type": "code",
   "execution_count": 69,
   "metadata": {},
   "outputs": [
    {
     "data": {
      "text/html": [
       "<div>\n",
       "<style scoped>\n",
       "    .dataframe tbody tr th:only-of-type {\n",
       "        vertical-align: middle;\n",
       "    }\n",
       "\n",
       "    .dataframe tbody tr th {\n",
       "        vertical-align: top;\n",
       "    }\n",
       "\n",
       "    .dataframe thead th {\n",
       "        text-align: right;\n",
       "    }\n",
       "</style>\n",
       "<table border=\"1\" class=\"dataframe\">\n",
       "  <thead>\n",
       "    <tr style=\"text-align: right;\">\n",
       "      <th></th>\n",
       "      <th>df</th>\n",
       "      <th>sum_sq</th>\n",
       "      <th>mean_sq</th>\n",
       "      <th>F</th>\n",
       "      <th>PR(&gt;F)</th>\n",
       "    </tr>\n",
       "  </thead>\n",
       "  <tbody>\n",
       "    <tr>\n",
       "      <th>ranking</th>\n",
       "      <td>4.0</td>\n",
       "      <td>6295.458550</td>\n",
       "      <td>1573.864637</td>\n",
       "      <td>193.239579</td>\n",
       "      <td>1.076348e-36</td>\n",
       "    </tr>\n",
       "    <tr>\n",
       "      <th>Residual</th>\n",
       "      <td>69.0</td>\n",
       "      <td>561.979385</td>\n",
       "      <td>8.144629</td>\n",
       "      <td>NaN</td>\n",
       "      <td>NaN</td>\n",
       "    </tr>\n",
       "  </tbody>\n",
       "</table>\n",
       "</div>"
      ],
      "text/plain": [
       "            df       sum_sq      mean_sq           F        PR(>F)\n",
       "ranking    4.0  6295.458550  1573.864637  193.239579  1.076348e-36\n",
       "Residual  69.0   561.979385     8.144629         NaN           NaN"
      ]
     },
     "execution_count": 69,
     "metadata": {},
     "output_type": "execute_result"
    }
   ],
   "source": [
    "import numpy as np\n",
    "from statsmodels.formula.api import ols\n",
    "\n",
    "model = ols('wght ~ ranking', data=sd).fit()\n",
    "table=sm.stats.anova_lm(model)\n",
    "table"
   ]
  },
  {
   "cell_type": "markdown",
   "metadata": {},
   "source": [
    "# Explanation: P-value(PR>F) less than 0.05 we can confirm that there is a significance evidence the total performance(wght) vary by the rankings of each student. The null hypothesis should be rejected. Not all rankings reflect the same grade."
   ]
  },
  {
   "cell_type": "markdown",
   "metadata": {},
   "source": [
    "# Anova - 2 (Gender)"
   ]
  },
  {
   "cell_type": "markdown",
   "metadata": {},
   "source": [
    "# Hypothesis: Gender impacts the total performance of grades"
   ]
  },
  {
   "cell_type": "markdown",
   "metadata": {},
   "source": [
    "H0 : u'Male' = u'Female'\n",
    "\n",
    "\n",
    "Ha : not all gender means are the same"
   ]
  },
  {
   "cell_type": "code",
   "execution_count": 70,
   "metadata": {},
   "outputs": [
    {
     "data": {
      "text/html": [
       "<div>\n",
       "<style scoped>\n",
       "    .dataframe tbody tr th:only-of-type {\n",
       "        vertical-align: middle;\n",
       "    }\n",
       "\n",
       "    .dataframe tbody tr th {\n",
       "        vertical-align: top;\n",
       "    }\n",
       "\n",
       "    .dataframe thead th {\n",
       "        text-align: right;\n",
       "    }\n",
       "</style>\n",
       "<table border=\"1\" class=\"dataframe\">\n",
       "  <thead>\n",
       "    <tr style=\"text-align: right;\">\n",
       "      <th></th>\n",
       "      <th>df</th>\n",
       "      <th>sum_sq</th>\n",
       "      <th>mean_sq</th>\n",
       "      <th>F</th>\n",
       "      <th>PR(&gt;F)</th>\n",
       "    </tr>\n",
       "  </thead>\n",
       "  <tbody>\n",
       "    <tr>\n",
       "      <th>gender</th>\n",
       "      <td>1.0</td>\n",
       "      <td>19.597034</td>\n",
       "      <td>19.597034</td>\n",
       "      <td>0.20635</td>\n",
       "      <td>0.65101</td>\n",
       "    </tr>\n",
       "    <tr>\n",
       "      <th>Residual</th>\n",
       "      <td>72.0</td>\n",
       "      <td>6837.840901</td>\n",
       "      <td>94.970013</td>\n",
       "      <td>NaN</td>\n",
       "      <td>NaN</td>\n",
       "    </tr>\n",
       "  </tbody>\n",
       "</table>\n",
       "</div>"
      ],
      "text/plain": [
       "            df       sum_sq    mean_sq        F   PR(>F)\n",
       "gender     1.0    19.597034  19.597034  0.20635  0.65101\n",
       "Residual  72.0  6837.840901  94.970013      NaN      NaN"
      ]
     },
     "execution_count": 70,
     "metadata": {},
     "output_type": "execute_result"
    }
   ],
   "source": [
    "import numpy as np\n",
    "from statsmodels.formula.api import ols\n",
    "\n",
    "model1 = ols('wght ~ gender', data=sd).fit()\n",
    "table1=sm.stats.anova_lm(model1)\n",
    "table1"
   ]
  },
  {
   "cell_type": "markdown",
   "metadata": {},
   "source": [
    "# The p-value is higher than alpha. Indicating that null hypothesis is true. The means of the two groups are almost the same. Meaning that there is NO significant evidence that weight is affected by the type of gender of student. Null hypothesis should not be rejected."
   ]
  },
  {
   "cell_type": "markdown",
   "metadata": {},
   "source": [
    "# Anova - 3 (cis)"
   ]
  },
  {
   "cell_type": "markdown",
   "metadata": {},
   "source": [
    "# Hypothesis: \n",
    "\n",
    "H0: u'Y' = u'N'\n",
    "\n",
    "Ha: not at the means are the equal"
   ]
  },
  {
   "cell_type": "code",
   "execution_count": 71,
   "metadata": {},
   "outputs": [
    {
     "data": {
      "text/html": [
       "<div>\n",
       "<style scoped>\n",
       "    .dataframe tbody tr th:only-of-type {\n",
       "        vertical-align: middle;\n",
       "    }\n",
       "\n",
       "    .dataframe tbody tr th {\n",
       "        vertical-align: top;\n",
       "    }\n",
       "\n",
       "    .dataframe thead th {\n",
       "        text-align: right;\n",
       "    }\n",
       "</style>\n",
       "<table border=\"1\" class=\"dataframe\">\n",
       "  <thead>\n",
       "    <tr style=\"text-align: right;\">\n",
       "      <th></th>\n",
       "      <th>df</th>\n",
       "      <th>sum_sq</th>\n",
       "      <th>mean_sq</th>\n",
       "      <th>F</th>\n",
       "      <th>PR(&gt;F)</th>\n",
       "    </tr>\n",
       "  </thead>\n",
       "  <tbody>\n",
       "    <tr>\n",
       "      <th>cis</th>\n",
       "      <td>1.0</td>\n",
       "      <td>853.833789</td>\n",
       "      <td>853.833789</td>\n",
       "      <td>10.239854</td>\n",
       "      <td>0.002045</td>\n",
       "    </tr>\n",
       "    <tr>\n",
       "      <th>Residual</th>\n",
       "      <td>72.0</td>\n",
       "      <td>6003.604147</td>\n",
       "      <td>83.383391</td>\n",
       "      <td>NaN</td>\n",
       "      <td>NaN</td>\n",
       "    </tr>\n",
       "  </tbody>\n",
       "</table>\n",
       "</div>"
      ],
      "text/plain": [
       "            df       sum_sq     mean_sq          F    PR(>F)\n",
       "cis        1.0   853.833789  853.833789  10.239854  0.002045\n",
       "Residual  72.0  6003.604147   83.383391        NaN       NaN"
      ]
     },
     "execution_count": 71,
     "metadata": {},
     "output_type": "execute_result"
    }
   ],
   "source": [
    "import numpy as np\n",
    "from statsmodels.formula.api import ols\n",
    "\n",
    "model2 = ols('wght ~ cis', data=sd).fit()\n",
    "table2=sm.stats.anova_lm(model2)\n",
    "table2"
   ]
  },
  {
   "cell_type": "markdown",
   "metadata": {},
   "source": [
    "# Explanation: the p-value (0.002045) is smaller than alpha (0.05). This tells us to reject the null hypothesis. Not at all the means of students majoring in CIS are equal. There is significant evidence that vary by CIS and NON-CIS students."
   ]
  },
  {
   "cell_type": "markdown",
   "metadata": {},
   "source": [
    "## Classifier: lets see if we can predict if these grades result to NON-CIS or CIS student."
   ]
  },
  {
   "cell_type": "code",
   "execution_count": 76,
   "metadata": {},
   "outputs": [],
   "source": [
    "X = sd[['req','dfd','erd']]\n",
    "\n",
    "y = sd.cis"
   ]
  },
  {
   "cell_type": "code",
   "execution_count": 77,
   "metadata": {},
   "outputs": [
    {
     "data": {
      "text/plain": [
       "(74, 3)"
      ]
     },
     "execution_count": 77,
     "metadata": {},
     "output_type": "execute_result"
    },
    {
     "data": {
      "text/plain": [
       "(74,)"
      ]
     },
     "execution_count": 77,
     "metadata": {},
     "output_type": "execute_result"
    }
   ],
   "source": [
    "X.shape\n",
    "y.shape"
   ]
  },
  {
   "cell_type": "code",
   "execution_count": 79,
   "metadata": {},
   "outputs": [],
   "source": [
    "from sklearn.neighbors import KNeighborsClassifier"
   ]
  },
  {
   "cell_type": "code",
   "execution_count": 97,
   "metadata": {},
   "outputs": [],
   "source": [
    "knn = KNeighborsClassifier(n_neighbors=10)"
   ]
  },
  {
   "cell_type": "code",
   "execution_count": 98,
   "metadata": {},
   "outputs": [
    {
     "data": {
      "text/plain": [
       "KNeighborsClassifier(n_neighbors=10)"
      ]
     },
     "execution_count": 98,
     "metadata": {},
     "output_type": "execute_result"
    }
   ],
   "source": [
    "knn.fit(X,y)"
   ]
  },
  {
   "cell_type": "markdown",
   "metadata": {},
   "source": [
    "# Lets predict one student"
   ]
  },
  {
   "cell_type": "code",
   "execution_count": 99,
   "metadata": {},
   "outputs": [
    {
     "data": {
      "text/plain": [
       "array(['Y'], dtype=object)"
      ]
     },
     "execution_count": 99,
     "metadata": {},
     "output_type": "execute_result"
    }
   ],
   "source": [
    "knn.predict([[60,90,87]])"
   ]
  },
  {
   "cell_type": "markdown",
   "metadata": {},
   "source": [
    "# Now lets predict multiple students\n"
   ]
  },
  {
   "cell_type": "code",
   "execution_count": 100,
   "metadata": {},
   "outputs": [
    {
     "data": {
      "text/plain": [
       "array(['Y', 'Y'], dtype=object)"
      ]
     },
     "execution_count": 100,
     "metadata": {},
     "output_type": "execute_result"
    }
   ],
   "source": [
    "newX= [[50,50,90],[90,78,56]]\n",
    "knn.predict(newX)"
   ]
  },
  {
   "cell_type": "markdown",
   "metadata": {},
   "source": [
    "# Different k value, k=15"
   ]
  },
  {
   "cell_type": "code",
   "execution_count": 102,
   "metadata": {},
   "outputs": [],
   "source": [
    "knn = KNeighborsClassifier(n_neighbors=15)"
   ]
  },
  {
   "cell_type": "code",
   "execution_count": 103,
   "metadata": {},
   "outputs": [
    {
     "data": {
      "text/plain": [
       "KNeighborsClassifier(n_neighbors=15)"
      ]
     },
     "execution_count": 103,
     "metadata": {},
     "output_type": "execute_result"
    }
   ],
   "source": [
    "knn.fit(X,y)"
   ]
  },
  {
   "cell_type": "code",
   "execution_count": 104,
   "metadata": {},
   "outputs": [
    {
     "data": {
      "text/plain": [
       "array(['Y'], dtype=object)"
      ]
     },
     "execution_count": 104,
     "metadata": {},
     "output_type": "execute_result"
    }
   ],
   "source": [
    "knn.predict([[85, 67, 70]])"
   ]
  },
  {
   "cell_type": "code",
   "execution_count": 111,
   "metadata": {},
   "outputs": [
    {
     "data": {
      "text/plain": [
       "array(['N', 'Y'], dtype=object)"
      ]
     },
     "execution_count": 111,
     "metadata": {},
     "output_type": "execute_result"
    }
   ],
   "source": [
    "newX= [[70, 50, 50], [87,60,55]]\n",
    "knn.predict(newX)"
   ]
  }
 ],
 "metadata": {
  "kernelspec": {
   "display_name": "Python 3",
   "language": "python",
   "name": "python3"
  },
  "language_info": {
   "codemirror_mode": {
    "name": "ipython",
    "version": 3
   },
   "file_extension": ".py",
   "mimetype": "text/x-python",
   "name": "python",
   "nbconvert_exporter": "python",
   "pygments_lexer": "ipython3",
   "version": "3.8.5"
  }
 },
 "nbformat": 4,
 "nbformat_minor": 5
}
