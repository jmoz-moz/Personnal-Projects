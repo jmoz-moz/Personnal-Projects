{
 "cells": [
  {
   "cell_type": "code",
   "execution_count": null,
   "metadata": {},
   "outputs": [],
   "source": [
    "import boto3"
   ]
  },
  {
   "cell_type": "code",
   "execution_count": null,
   "metadata": {},
   "outputs": [],
   "source": [
    "import pandas as pd\n",
    "import psycopg2\n",
    "import json"
   ]
  },
  {
   "cell_type": "code",
   "execution_count": null,
   "metadata": {},
   "outputs": [],
   "source": [
    "import configparser\n",
    "config=configparser.ConfigParser()\n",
    "config.read_file(open('cluster.config'))"
   ]
  },
  {
   "cell_type": "markdown",
   "metadata": {},
   "source": [
    "## 'AWS' is one portion of file , 'DWH' the other portion of file"
   ]
  },
  {
   "cell_type": "code",
   "execution_count": null,
   "metadata": {},
   "outputs": [],
   "source": [
    "KEY = config.get('AWS','KEY')\n",
    "SECRET = config.get('AWS','SECRET')\n",
    "\n",
    "\n",
    "DWH_CLUSTER_TYPE   =  config.get(\"DWH\",\"DWH_CLUSTER_TYPE\")\n",
    "\n",
    "DWH_NUM_NODES      =  config.get('DWH','DWH_NUM_NODES')\n",
    "\n",
    "DWH_NODE_TYPE=config.get('DWH','DWH_NODE_TYPE')\n",
    "\n",
    "DWH_CLUSTER_IDENTIFIER=config.get('DWH','DWH_CLUSTER_IDENTIFIER')\n",
    "\n",
    "DWH_DB=config.get('DWH','DWH_DB')\n",
    "\n",
    "DWH_DB_USER=config.get('DWH','DWH_DB_USER')\n",
    "\n",
    "DWH_DB_PASSWORD=config.get('DWH','DWH_DB_PASSWORD')\n",
    "\n",
    "DWH_PORT=config.get('DWH','DWH_PORT')\n",
    "\n",
    "DWH_IAM_ROLE_NAME=config.get('DWH','DWH_IAM_ROLE_NAME')\n",
    "\n",
    "(DWH_DB_USER, DWH_DB_PASSWORD, DWH_DB)"
   ]
  },
  {
   "cell_type": "markdown",
   "metadata": {},
   "source": [
    "# CREATING OBJECTS"
   ]
  },
  {
   "cell_type": "code",
   "execution_count": null,
   "metadata": {},
   "outputs": [],
   "source": [
    "ec2 = boto3.resource('ec2',\n",
    "                   region_name='us-east-1',\n",
    "                   aws_access_key_id=KEY,\n",
    "                   aws_secret_access_key=SECRET)\n"
   ]
  },
  {
   "cell_type": "code",
   "execution_count": null,
   "metadata": {},
   "outputs": [],
   "source": [
    "iam =boto3.client('iam',\n",
    "                   region_name='us-east-1',\n",
    "                   aws_access_key_id=KEY,\n",
    "                   aws_secret_access_key=SECRET)\n",
    "\n",
    "\n",
    "\n",
    "s3 =boto3.resource('s3',\n",
    "                   region_name='us-east-1',\n",
    "                   aws_access_key_id=KEY,\n",
    "                   aws_secret_access_key=SECRET)\n",
    "\n"
   ]
  },
  {
   "cell_type": "code",
   "execution_count": null,
   "metadata": {},
   "outputs": [],
   "source": [
    "redshift =boto3.client('redshift',\n",
    "                   region_name='us-east-1',\n",
    "                   aws_access_key_id=KEY,\n",
    "                   aws_secret_access_key=SECRET)"
   ]
  },
  {
   "cell_type": "markdown",
   "metadata": {},
   "source": [
    "see what objects are inside the bucket"
   ]
  },
  {
   "cell_type": "code",
   "execution_count": null,
   "metadata": {
    "scrolled": true
   },
   "outputs": [],
   "source": [
    "bucket=s3.Bucket(\"james-de-dev-bucket\")\n",
    "log_data_files = [filename.key for filename in bucket.objects.filter(Prefix='')]\n",
    "log_data_files"
   ]
  },
  {
   "cell_type": "markdown",
   "metadata": {},
   "source": [
    "## access to s3 with the iam role"
   ]
  },
  {
   "cell_type": "code",
   "execution_count": null,
   "metadata": {},
   "outputs": [],
   "source": [
    "roleArn = iam.get_role(RoleName = DWH_IAM_ROLE_NAME)['Role']['Arn']\n",
    "roleArn"
   ]
  },
  {
   "cell_type": "markdown",
   "metadata": {},
   "source": [
    "## create cluster"
   ]
  },
  {
   "cell_type": "code",
   "execution_count": null,
   "metadata": {},
   "outputs": [],
   "source": [
    "try:\n",
    "    response=redshift.create_cluster(\n",
    "    ClusterType=DWH_CLUSTER_TYPE,\n",
    "    NodeType=DWH_NODE_TYPE,\n",
    "    \n",
    "#Credentials\n",
    "\n",
    "    DBName=DWH_DB,\n",
    "    ClusterIdentifier=DWH_CLUSTER_IDENTIFIER,\n",
    "    MasterUsername=DWH_DB_USER,\n",
    "    MasterUserPassword=DWH_DB_PASSWORD,\n",
    "\n",
    "#roles for s3 access\n",
    "    IamRoles=[roleArn]\n",
    "    )\n",
    "    \n",
    "except Exception as e:\n",
    "    print(e)"
   ]
  },
  {
   "cell_type": "code",
   "execution_count": null,
   "metadata": {
    "scrolled": true
   },
   "outputs": [],
   "source": [
    "redshift.describe_clusters(ClusterIdentifier=DWH_CLUSTER_IDENTIFIER)['Clusters'][0]"
   ]
  },
  {
   "cell_type": "markdown",
   "metadata": {},
   "source": [
    "## Grab all the redshift info as a df"
   ]
  },
  {
   "cell_type": "code",
   "execution_count": null,
   "metadata": {},
   "outputs": [],
   "source": [
    "def prettyRedshiftProps(props):\n",
    "    pd.set_option('display.max_colwidth',-1)\n",
    "    keysToShow = ['ClusterIdentifier','NodeType','ClusterStatus','MasterUsername'\n",
    "                 'DBName','Endpoint','VpcId']\n",
    "    x= [(k,v) for k,v in props.items() if k in keysToShow] \n",
    "        \n",
    "    return pd.DataFrame(data=x, columns=[\"Key\",\"Value\"])\n",
    "    \n",
    "myClusterProps = redshift.describe_clusters(ClusterIdentifier=DWH_CLUSTER_IDENTIFIER)['Clusters'][0]\n",
    "prettyRedshiftProps(myClusterProps)"
   ]
  },
  {
   "cell_type": "code",
   "execution_count": null,
   "metadata": {},
   "outputs": [],
   "source": [
    "myClusterProps['ClusterStatus']"
   ]
  },
  {
   "cell_type": "markdown",
   "metadata": {},
   "source": [
    "## attach your Cluster to VPC, only our IP"
   ]
  },
  {
   "cell_type": "code",
   "execution_count": null,
   "metadata": {},
   "outputs": [],
   "source": [
    "try:\n",
    "    vpc = ec2.Vpc(id=myClusterProps['VpcId'])\n",
    "    defaultSg=list(vpc.security_groups.all())[0]\n",
    "    print(defaultSg)\n",
    "    \n",
    "    defaultSg.authorize_ingress(\n",
    "    GroupName=defaultSg.group_name,\n",
    "    CidrIp='0.0.0.0/0',\n",
    "    IpProtocol='TCP',\n",
    "    FromPort=int(DWH_PORT),\n",
    "    ToPort=int(DWH_PORT)\n",
    "    )\n",
    "except Exception as e:\n",
    "    print(e)"
   ]
  },
  {
   "cell_type": "markdown",
   "metadata": {},
   "source": [
    "## Grab all columns from myClusterProps into variable"
   ]
  },
  {
   "cell_type": "code",
   "execution_count": null,
   "metadata": {},
   "outputs": [],
   "source": [
    "DWH_ENDPOINT=myClusterProps['Endpoint']['Address']\n",
    "\n",
    "DWH_ROLE_ARN=myClusterProps['IamRoles'][0]['IamRoleArn'] #why we need 0?\n",
    "\n",
    "DB_NAME=myClusterProps['DBName']\n",
    "DB_USER=myClusterProps['MasterUsername']"
   ]
  },
  {
   "cell_type": "code",
   "execution_count": null,
   "metadata": {},
   "outputs": [],
   "source": [
    "DWH_ROLE_ARN"
   ]
  },
  {
   "cell_type": "markdown",
   "metadata": {},
   "source": [
    "## connect redshift cluster with psycopg2"
   ]
  },
  {
   "cell_type": "code",
   "execution_count": null,
   "metadata": {},
   "outputs": [],
   "source": [
    "try:\n",
    "    conn=psycopg2.connect(host=DWH_ENDPOINT, dbname=DB_NAME, user=DB_USER\n",
    "                         ,password=\"Gandolfi1614?\", port=5439)\n",
    "    \n",
    "except psycopg2.Error as e:\n",
    "    print(\"error: could not make connection\")\n",
    "    print(e)\n",
    "    \n",
    "conn.set_session(autocommit=True) #commit all transactions"
   ]
  },
  {
   "cell_type": "markdown",
   "metadata": {},
   "source": [
    "## create cursor, execute query on db"
   ]
  },
  {
   "cell_type": "code",
   "execution_count": null,
   "metadata": {},
   "outputs": [],
   "source": [
    "#create cursor, to execute queries on DB\n",
    "\n",
    "try:\n",
    "    cur =conn.cursor()\n",
    "except psycopg2.Error as e:\n",
    "    print(\"error:could not get cursor to the DB\")\n",
    "    print(e)"
   ]
  },
  {
   "cell_type": "markdown",
   "metadata": {},
   "source": [
    "## creating the data structure, DDLs from S3 to redshift.\n",
    "\n",
    "\n",
    "## data needs to be observerd, analyzed to derive columns, PKs,Fks, data types... and later create my data model for future users"
   ]
  },
  {
   "cell_type": "code",
   "execution_count": null,
   "metadata": {},
   "outputs": [],
   "source": [
    "try:\n",
    "    cur.execute(\"\"\" create table users(\n",
    "    userid integer not null distkey sortkey,\n",
    "    username char(8),\n",
    "    firstname varchar(30),\n",
    "    lastname varchar(30),\n",
    "    city varchar(30),\n",
    "    state char(2),\n",
    "    email varchar(100),\n",
    "    phone char(14),\n",
    "    likesports boolean,\n",
    "    liketheathre boolean,\n",
    "    likeconcerts boolean,\n",
    "    likejazz boolean,\n",
    "    likeclassical boolean,\n",
    "    likeopera boolean,\n",
    "    likerock boolean,\n",
    "    likevegas boolean,\n",
    "    likebroadway boolean,\n",
    "    likemusicals boolean);\"\"\")\n",
    "except psycopg2.Error as e:\n",
    "    print('Error:Issue creating table')\n",
    "    print(e)"
   ]
  },
  {
   "cell_type": "code",
   "execution_count": null,
   "metadata": {},
   "outputs": [],
   "source": [
    "try:\n",
    "    cur.execute(\"\"\"create table venue(\n",
    "    venueid smallint not null distkey sortkey,\n",
    "    venuename varchar(100),\n",
    "    venuecity varchar(30),\n",
    "    venuestate char(2),\n",
    "    venueseats integer);\"\"\")\n",
    "except psycopg2.Error as e:\n",
    "    print('Error')\n",
    "    print(e)"
   ]
  },
  {
   "cell_type": "code",
   "execution_count": null,
   "metadata": {},
   "outputs": [],
   "source": [
    "try:\n",
    "    cur.execute(\"\"\"create table category(\n",
    "    catid smallint not null distkey sortkey,\n",
    "    catgroup varchar(10),\n",
    "    catname varchar(10),\n",
    "    catdesc varchar(50));\n",
    "    \n",
    "create table date(\n",
    "    dateid smallint not null distkey sortkey,\n",
    "    caldate date not null,\n",
    "    day character(3) not null,\n",
    "    week smallint not null,\n",
    "    month character(50) not null,\n",
    "    qtr character (5) not null,\n",
    "    year smallint not null,\n",
    "    holiday boolean default ('N'));\n",
    "\n",
    "create table event(\n",
    "    eventid smallint not null distkey,\n",
    "    venueid smallint not null,\n",
    "    catid smallint not null,\n",
    "    dateid smallint not null sortkey,\n",
    "    eventname varchar(200),\n",
    "    startime timestamp);\n",
    "    \n",
    "    \n",
    "create table listing(\n",
    "    listid integer not null distkey,\n",
    "    sellerid integer not null,\n",
    "    eventid integer not null,\n",
    "    dateid smallint not null,\n",
    "    numtickets smallint not null,\n",
    "    priceperticket decimal (8,2),\n",
    "    totalprice decimal(8,2),\n",
    "    listime timestamp);\n",
    "    \n",
    "    \"\"\")\n",
    "    \n",
    "except psycopg2.Error as e:\n",
    "    print('Error')\n",
    "    print(e)"
   ]
  },
  {
   "cell_type": "markdown",
   "metadata": {},
   "source": [
    "## start copying data\n",
    "## we need to tell redshift we have access by copying the ARN from your 'redshift-access-s3' role\n",
    "\n",
    "## started with all users table, the others table should be copied too\n"
   ]
  },
  {
   "cell_type": "code",
   "execution_count": null,
   "metadata": {},
   "outputs": [],
   "source": [
    "try:\n",
    "    cur.execute(\"\"\"\n",
    "    copy users from 's3://james-de-dev-bucket/allusers_pipe.txt'\n",
    "    credentials 'aws_iam_role=arn:aws:iam::316620696731:role/redshift-s3-access'\n",
    "    delimiter '|'\n",
    "    region 'us-east-1'\n",
    "    \n",
    "    \"\"\")\n",
    "    \n",
    "except psycopg2.Error as e:\n",
    "    print('Error')\n",
    "    print(e)"
   ]
  },
  {
   "cell_type": "code",
   "execution_count": null,
   "metadata": {},
   "outputs": [],
   "source": [
    "try:\n",
    "    cur.execute(\"\"\"\n",
    "    copy users from 's3://james-de-dev-bucket/allusers_pipe.txt'\n",
    "    credentials 'aws_iam_role=arn:aws:iam::316620696731:role/redshift-s3-access'\n",
    "    delimiter '|'\n",
    "    region 'us-east-1'\n",
    "    \n",
    "    \"\"\")\n",
    "    \n",
    "except psycopg2.Error as e:\n",
    "    print('Error')\n",
    "    print(e)"
   ]
  },
  {
   "cell_type": "code",
   "execution_count": null,
   "metadata": {},
   "outputs": [],
   "source": [
    "try:\n",
    "    conn.close()\n",
    "except psycopg2.Error as e:\n",
    "    print(e)"
   ]
  },
  {
   "cell_type": "code",
   "execution_count": null,
   "metadata": {},
   "outputs": [],
   "source": [
    "redshift.delete_cluster(ClusterIdentifier=DWH_CLUSTER_IDENTIFIER, SkipFinalClusterSnapshot=True)"
   ]
  }
 ],
 "metadata": {
  "kernelspec": {
   "display_name": "Python 3 (ipykernel)",
   "language": "python",
   "name": "python3"
  },
  "language_info": {
   "codemirror_mode": {
    "name": "ipython",
    "version": 3
   },
   "file_extension": ".py",
   "mimetype": "text/x-python",
   "name": "python",
   "nbconvert_exporter": "python",
   "pygments_lexer": "ipython3",
   "version": "3.11.7"
  }
 },
 "nbformat": 4,
 "nbformat_minor": 4
}
